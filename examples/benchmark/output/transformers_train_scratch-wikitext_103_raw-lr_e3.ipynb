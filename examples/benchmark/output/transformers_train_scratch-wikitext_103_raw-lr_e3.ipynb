{
 "cells": [
  {
   "cell_type": "markdown",
   "metadata": {
    "papermill": {
     "duration": 0.006724,
     "end_time": "2020-10-31T05:07:36.216076",
     "exception": false,
     "start_time": "2020-10-31T05:07:36.209352",
     "status": "completed"
    },
    "tags": []
   },
   "source": [
    "# Benchmark Transformers GPT2"
   ]
  },
  {
   "cell_type": "code",
   "execution_count": 1,
   "metadata": {
    "execution": {
     "iopub.execute_input": "2020-10-31T05:07:36.225260Z",
     "iopub.status.busy": "2020-10-31T05:07:36.224910Z",
     "iopub.status.idle": "2020-10-31T05:07:36.226824Z",
     "shell.execute_reply": "2020-10-31T05:07:36.226457Z"
    },
    "papermill": {
     "duration": 0.007582,
     "end_time": "2020-10-31T05:07:36.226906",
     "exception": false,
     "start_time": "2020-10-31T05:07:36.219324",
     "status": "completed"
    },
    "tags": [
     "parameters"
    ]
   },
   "outputs": [],
   "source": [
    "# These parameters can be injected from Papermill\n",
    "train_file = \"wikitext-103-raw/wiki.train.raw\"\n",
    "valid_file = \"wikitext-103-raw/wiki.valid.raw\"\n",
    "epochs = 10\n",
    "batch_size = 2\n",
    "learning_rate = 1e-3\n",
    "warmup_steps = 0\n",
    "output_dir = \"transformers_output\""
   ]
  },
  {
   "cell_type": "code",
   "execution_count": 2,
   "metadata": {
    "execution": {
     "iopub.execute_input": "2020-10-31T05:07:36.235170Z",
     "iopub.status.busy": "2020-10-31T05:07:36.234824Z",
     "iopub.status.idle": "2020-10-31T05:07:36.236710Z",
     "shell.execute_reply": "2020-10-31T05:07:36.236361Z"
    },
    "papermill": {
     "duration": 0.006638,
     "end_time": "2020-10-31T05:07:36.236781",
     "exception": false,
     "start_time": "2020-10-31T05:07:36.230143",
     "status": "completed"
    },
    "tags": [
     "injected-parameters"
    ]
   },
   "outputs": [],
   "source": [
    "# Parameters\n",
    "output_dir = \"transformers_output-lr_e3\"\n"
   ]
  },
  {
   "cell_type": "markdown",
   "metadata": {
    "papermill": {
     "duration": 0.00317,
     "end_time": "2020-10-31T05:07:36.243188",
     "exception": false,
     "start_time": "2020-10-31T05:07:36.240018",
     "status": "completed"
    },
    "tags": []
   },
   "source": [
    "## Install Library"
   ]
  },
  {
   "cell_type": "code",
   "execution_count": 3,
   "metadata": {
    "execution": {
     "iopub.execute_input": "2020-10-31T05:07:36.251947Z",
     "iopub.status.busy": "2020-10-31T05:07:36.251605Z",
     "iopub.status.idle": "2020-10-31T05:07:37.102505Z",
     "shell.execute_reply": "2020-10-31T05:07:37.100808Z"
    },
    "papermill": {
     "duration": 0.856544,
     "end_time": "2020-10-31T05:07:37.102941",
     "exception": false,
     "start_time": "2020-10-31T05:07:36.246397",
     "status": "completed"
    },
    "tags": []
   },
   "outputs": [
    {
     "name": "stdout",
     "output_type": "stream",
     "text": [
      "Requirement already satisfied: transformers==3.4.0 in /opt/conda/lib/python3.7/site-packages (3.4.0)\r\n"
     ]
    },
    {
     "name": "stdout",
     "output_type": "stream",
     "text": [
      "Requirement already satisfied: tqdm>=4.27 in /opt/conda/lib/python3.7/site-packages (from transformers==3.4.0) (4.46.0)\r\n",
      "Requirement already satisfied: requests in /opt/conda/lib/python3.7/site-packages (from transformers==3.4.0) (2.23.0)\r\n",
      "Requirement already satisfied: sacremoses in /opt/conda/lib/python3.7/site-packages (from transformers==3.4.0) (0.0.43)\r\n",
      "Requirement already satisfied: protobuf in /opt/conda/lib/python3.7/site-packages (from transformers==3.4.0) (3.13.0)\r\n",
      "Requirement already satisfied: sentencepiece!=0.1.92 in /opt/conda/lib/python3.7/site-packages (from transformers==3.4.0) (0.1.94)\r\n",
      "Requirement already satisfied: tokenizers==0.9.2 in /opt/conda/lib/python3.7/site-packages (from transformers==3.4.0) (0.9.2)\r\n",
      "Requirement already satisfied: regex!=2019.12.17 in /opt/conda/lib/python3.7/site-packages (from transformers==3.4.0) (2020.10.23)\r\n",
      "Requirement already satisfied: filelock in /opt/conda/lib/python3.7/site-packages (from transformers==3.4.0) (3.0.12)\r\n",
      "Requirement already satisfied: packaging in /opt/conda/lib/python3.7/site-packages (from transformers==3.4.0) (20.4)\r\n",
      "Requirement already satisfied: numpy in /opt/conda/lib/python3.7/site-packages (from transformers==3.4.0) (1.18.5)\r\n",
      "Requirement already satisfied: chardet<4,>=3.0.2 in /opt/conda/lib/python3.7/site-packages (from requests->transformers==3.4.0) (3.0.4)\r\n",
      "Requirement already satisfied: urllib3!=1.25.0,!=1.25.1,<1.26,>=1.21.1 in /opt/conda/lib/python3.7/site-packages (from requests->transformers==3.4.0) (1.25.8)\r\n"
     ]
    },
    {
     "name": "stdout",
     "output_type": "stream",
     "text": [
      "Requirement already satisfied: idna<3,>=2.5 in /opt/conda/lib/python3.7/site-packages (from requests->transformers==3.4.0) (2.9)\r\n",
      "Requirement already satisfied: certifi>=2017.4.17 in /opt/conda/lib/python3.7/site-packages (from requests->transformers==3.4.0) (2020.6.20)\r\n",
      "Requirement already satisfied: joblib in /opt/conda/lib/python3.7/site-packages (from sacremoses->transformers==3.4.0) (0.17.0)\r\n",
      "Requirement already satisfied: six in /opt/conda/lib/python3.7/site-packages (from sacremoses->transformers==3.4.0) (1.14.0)\r\n",
      "Requirement already satisfied: click in /opt/conda/lib/python3.7/site-packages (from sacremoses->transformers==3.4.0) (7.1.2)\r\n",
      "Requirement already satisfied: setuptools in /opt/conda/lib/python3.7/site-packages (from protobuf->transformers==3.4.0) (46.4.0.post20200518)\r\n",
      "Requirement already satisfied: pyparsing>=2.0.2 in /opt/conda/lib/python3.7/site-packages (from packaging->transformers==3.4.0) (2.4.7)\r\n"
     ]
    }
   ],
   "source": [
    "!pip install transformers==3.4.0"
   ]
  },
  {
   "cell_type": "markdown",
   "metadata": {
    "papermill": {
     "duration": 0.004115,
     "end_time": "2020-10-31T05:07:37.112509",
     "exception": false,
     "start_time": "2020-10-31T05:07:37.108394",
     "status": "completed"
    },
    "tags": []
   },
   "source": [
    "Download training script"
   ]
  },
  {
   "cell_type": "code",
   "execution_count": 4,
   "metadata": {
    "execution": {
     "iopub.execute_input": "2020-10-31T05:07:37.123888Z",
     "iopub.status.busy": "2020-10-31T05:07:37.123524Z",
     "iopub.status.idle": "2020-10-31T05:07:37.447862Z",
     "shell.execute_reply": "2020-10-31T05:07:37.446785Z"
    },
    "papermill": {
     "duration": 0.331548,
     "end_time": "2020-10-31T05:07:37.448090",
     "exception": false,
     "start_time": "2020-10-31T05:07:37.116542",
     "status": "completed"
    },
    "tags": []
   },
   "outputs": [
    {
     "data": {
      "text/plain": [
       "('run_language_modeling.py', <http.client.HTTPMessage at 0x7f98481e2710>)"
      ]
     },
     "execution_count": 4,
     "metadata": {},
     "output_type": "execute_result"
    }
   ],
   "source": [
    "import urllib\n",
    "\n",
    "url = \"https://raw.githubusercontent.com/huggingface/transformers/v3.4.0/examples/language-modeling/run_language_modeling.py\"\n",
    "urllib.request.urlretrieve(url, \"run_language_modeling.py\")"
   ]
  },
  {
   "cell_type": "markdown",
   "metadata": {
    "papermill": {
     "duration": 0.012753,
     "end_time": "2020-10-31T05:07:37.473964",
     "exception": false,
     "start_time": "2020-10-31T05:07:37.461211",
     "status": "completed"
    },
    "tags": []
   },
   "source": [
    "## Train model"
   ]
  },
  {
   "cell_type": "code",
   "execution_count": 5,
   "metadata": {
    "execution": {
     "iopub.execute_input": "2020-10-31T05:07:37.497136Z",
     "iopub.status.busy": "2020-10-31T05:07:37.495710Z"
    },
    "papermill": {
     "duration": 6395.533133,
     "end_time": "2020-10-31T06:54:13.016739",
     "exception": false,
     "start_time": "2020-10-31T05:07:37.483606",
     "status": "completed"
    },
    "tags": []
   },
   "outputs": [
    {
     "name": "stdout",
     "output_type": "stream",
     "text": [
      "/opt/conda/lib/python3.7/site-packages/transformers/training_args.py:339: FutureWarning: The `evaluate_during_training` argument is deprecated in favor of `evaluation_strategy` (which has more options)\r\n",
      "  FutureWarning,\r\n",
      "10/31/2020 05:07:38 - WARNING - __main__ -   Process rank: -1, device: cuda:0, n_gpu: 1, distributed training: False, 16-bits training: False\r\n",
      "10/31/2020 05:07:38 - INFO - __main__ -   Training/evaluation parameters TrainingArguments(output_dir='transformers_output-lr_e3', overwrite_output_dir=False, do_train=True, do_eval=True, do_predict=False, evaluate_during_training=True, evaluation_strategy=<EvaluationStrategy.STEPS: 'steps'>, prediction_loss_only=False, per_device_train_batch_size=2, per_device_eval_batch_size=8, per_gpu_train_batch_size=None, per_gpu_eval_batch_size=None, gradient_accumulation_steps=1, eval_accumulation_steps=None, learning_rate=0.001, weight_decay=0.0, adam_beta1=0.9, adam_beta2=0.999, adam_epsilon=1e-08, max_grad_norm=1.0, num_train_epochs=10.0, max_steps=-1, warmup_steps=0, logging_dir='runs/Oct31_05-07-38_40555a9398ab', logging_first_step=False, logging_steps=500, save_steps=10000, save_total_limit=None, no_cuda=False, seed=42, fp16=False, fp16_opt_level='O1', local_rank=-1, tpu_num_cores=None, tpu_metrics_debug=False, debug=False, dataloader_drop_last=False, eval_steps=10000, dataloader_num_workers=0, past_index=-1, run_name='transformers_output-lr_e3', disable_tqdm='False', remove_unused_columns=True, label_names=None, load_best_model_at_end=True, metric_for_best_model='loss', greater_is_better=False)\r\n",
      "10/31/2020 05:07:38 - WARNING - __main__ -   You are instantiating a new config instance from scratch.\r\n"
     ]
    },
    {
     "name": "stdout",
     "output_type": "stream",
     "text": [
      "10/31/2020 05:07:41 - INFO - __main__ -   Training new model from scratch\r\n",
      "/opt/conda/lib/python3.7/site-packages/transformers/modeling_auto.py:785: FutureWarning: The class `AutoModelWithLMHead` is deprecated and will be removed in a future version. Please use `AutoModelForCausalLM` for causal language models, `AutoModelForMaskedLM` for masked language models and `AutoModelForSeq2SeqLM` for encoder-decoder models.\r\n",
      "  FutureWarning,\r\n"
     ]
    },
    {
     "name": "stdout",
     "output_type": "stream",
     "text": [
      "/opt/conda/lib/python3.7/site-packages/transformers/tokenization_utils_base.py:1374: FutureWarning: The `max_len` attribute has been deprecated and will be removed in a future version, use `model_max_length` instead.\r\n",
      "  FutureWarning,\r\n",
      "10/31/2020 05:07:43 - INFO - filelock -   Lock 139921257103120 acquired on wikitext-103-raw/cached_lm_GPT2Tokenizer_1024_wiki.train.raw.lock\r\n"
     ]
    },
    {
     "name": "stdout",
     "output_type": "stream",
     "text": [
      "10/31/2020 05:07:48 - INFO - filelock -   Lock 139921257103120 released on wikitext-103-raw/cached_lm_GPT2Tokenizer_1024_wiki.train.raw.lock\r\n",
      "10/31/2020 05:07:48 - INFO - filelock -   Lock 139921251377552 acquired on wikitext-103-raw/cached_lm_GPT2Tokenizer_1024_wiki.valid.raw.lock\r\n",
      "10/31/2020 05:07:48 - INFO - filelock -   Lock 139921251377552 released on wikitext-103-raw/cached_lm_GPT2Tokenizer_1024_wiki.valid.raw.lock\r\n"
     ]
    },
    {
     "name": "stdout",
     "output_type": "stream",
     "text": [
      "/opt/conda/lib/python3.7/site-packages/transformers/trainer.py:263: FutureWarning: Passing `prediction_loss_only` as a keyword argument is deprecated and won't be possible in a future version. Use `args.prediction_loss_only` instead. Setting `args.prediction_loss_only=True\r\n",
      "  FutureWarning,\r\n"
     ]
    },
    {
     "name": "stdout",
     "output_type": "stream",
     "text": [
      "{'loss': 6.993181640625, 'learning_rate': 0.0009991408934707903, 'epoch': 0.00859106529209622}\r\n"
     ]
    },
    {
     "name": "stdout",
     "output_type": "stream",
     "text": [
      "{'loss': 6.3770126953125, 'learning_rate': 0.0009982817869415809, 'epoch': 0.01718213058419244}\r\n"
     ]
    },
    {
     "name": "stdout",
     "output_type": "stream",
     "text": [
      "{'loss': 6.2935927734375, 'learning_rate': 0.0009974226804123712, 'epoch': 0.02577319587628866}\r\n"
     ]
    },
    {
     "name": "stdout",
     "output_type": "stream",
     "text": [
      "{'loss': 6.220490234375, 'learning_rate': 0.0009965635738831615, 'epoch': 0.03436426116838488}\r\n"
     ]
    },
    {
     "name": "stdout",
     "output_type": "stream",
     "text": [
      "{'loss': 6.199947265625, 'learning_rate': 0.000995704467353952, 'epoch': 0.0429553264604811}\r\n"
     ]
    },
    {
     "name": "stdout",
     "output_type": "stream",
     "text": [
      "{'loss': 6.175919921875, 'learning_rate': 0.0009948453608247423, 'epoch': 0.05154639175257732}\r\n"
     ]
    },
    {
     "name": "stdout",
     "output_type": "stream",
     "text": [
      "{'loss': 6.1739453125, 'learning_rate': 0.0009939862542955326, 'epoch': 0.06013745704467354}\r\n"
     ]
    },
    {
     "name": "stdout",
     "output_type": "stream",
     "text": [
      "{'loss': 6.177125, 'learning_rate': 0.0009931271477663232, 'epoch': 0.06872852233676977}\r\n"
     ]
    },
    {
     "name": "stdout",
     "output_type": "stream",
     "text": [
      "{'loss': 6.2222890625, 'learning_rate': 0.0009922680412371135, 'epoch': 0.07731958762886598}\r\n"
     ]
    },
    {
     "name": "stdout",
     "output_type": "stream",
     "text": [
      "{'loss': 6.2314609375, 'learning_rate': 0.0009914089347079038, 'epoch': 0.0859106529209622}\r\n"
     ]
    },
    {
     "name": "stdout",
     "output_type": "stream",
     "text": [
      "{'loss': 6.24037109375, 'learning_rate': 0.0009905498281786943, 'epoch': 0.09450171821305842}\r\n"
     ]
    },
    {
     "name": "stdout",
     "output_type": "stream",
     "text": [
      "{'loss': 6.3048984375, 'learning_rate': 0.0009896907216494846, 'epoch': 0.10309278350515463}\r\n"
     ]
    },
    {
     "name": "stdout",
     "output_type": "stream",
     "text": [
      "{'loss': 6.3439765625, 'learning_rate': 0.000988831615120275, 'epoch': 0.11168384879725086}\r\n"
     ]
    },
    {
     "name": "stdout",
     "output_type": "stream",
     "text": [
      "{'loss': 6.3805, 'learning_rate': 0.0009879725085910653, 'epoch': 0.12027491408934708}\r\n"
     ]
    },
    {
     "name": "stdout",
     "output_type": "stream",
     "text": [
      "{'loss': 6.419671875, 'learning_rate': 0.0009871134020618558, 'epoch': 0.12886597938144329}\r\n"
     ]
    },
    {
     "name": "stdout",
     "output_type": "stream",
     "text": [
      "{'loss': 6.456953125, 'learning_rate': 0.000986254295532646, 'epoch': 0.13745704467353953}\r\n"
     ]
    },
    {
     "name": "stdout",
     "output_type": "stream",
     "text": [
      "{'loss': 6.4876953125, 'learning_rate': 0.0009853951890034364, 'epoch': 0.14604810996563575}\r\n"
     ]
    },
    {
     "name": "stdout",
     "output_type": "stream",
     "text": [
      "{'loss': 6.5414140625, 'learning_rate': 0.000984536082474227, 'epoch': 0.15463917525773196}\r\n"
     ]
    },
    {
     "name": "stdout",
     "output_type": "stream",
     "text": [
      "{'loss': 6.54496875, 'learning_rate': 0.0009836769759450172, 'epoch': 0.16323024054982818}\r\n"
     ]
    },
    {
     "name": "stdout",
     "output_type": "stream",
     "text": [
      "{'loss': 6.576734375, 'learning_rate': 0.0009828178694158076, 'epoch': 0.1718213058419244}\r\n"
     ]
    },
    {
     "name": "stdout",
     "output_type": "stream",
     "text": [
      "{'eval_loss': 6.484325408935547, 'epoch': 0.1718213058419244}\r\n"
     ]
    },
    {
     "name": "stdout",
     "output_type": "stream",
     "text": [
      "{'loss': 6.5911796875, 'learning_rate': 0.0009819587628865979, 'epoch': 0.18041237113402062}\r\n"
     ]
    },
    {
     "name": "stdout",
     "output_type": "stream",
     "text": [
      "{'loss': 6.59725, 'learning_rate': 0.0009810996563573884, 'epoch': 0.18900343642611683}\r\n"
     ]
    },
    {
     "name": "stdout",
     "output_type": "stream",
     "text": [
      "{'loss': 6.61665625, 'learning_rate': 0.0009802405498281787, 'epoch': 0.19759450171821305}\r\n"
     ]
    },
    {
     "name": "stdout",
     "output_type": "stream",
     "text": [
      "{'loss': 6.643703125, 'learning_rate': 0.000979381443298969, 'epoch': 0.20618556701030927}\r\n"
     ]
    },
    {
     "name": "stdout",
     "output_type": "stream",
     "text": [
      "{'loss': 6.652484375, 'learning_rate': 0.0009785223367697593, 'epoch': 0.21477663230240548}\r\n"
     ]
    },
    {
     "name": "stdout",
     "output_type": "stream",
     "text": [
      "{'loss': 6.665984375, 'learning_rate': 0.0009776632302405499, 'epoch': 0.22336769759450173}\r\n"
     ]
    },
    {
     "name": "stdout",
     "output_type": "stream",
     "text": [
      "{'loss': 6.70646875, 'learning_rate': 0.0009768041237113402, 'epoch': 0.23195876288659795}\r\n"
     ]
    },
    {
     "name": "stdout",
     "output_type": "stream",
     "text": [
      "{'loss': 6.7174375, 'learning_rate': 0.0009759450171821306, 'epoch': 0.24054982817869416}\r\n"
     ]
    },
    {
     "name": "stdout",
     "output_type": "stream",
     "text": [
      "{'loss': 6.757796875, 'learning_rate': 0.000975085910652921, 'epoch': 0.24914089347079038}\r\n"
     ]
    },
    {
     "name": "stdout",
     "output_type": "stream",
     "text": [
      "{'loss': 6.790546875, 'learning_rate': 0.0009742268041237113, 'epoch': 0.25773195876288657}\r\n"
     ]
    },
    {
     "name": "stdout",
     "output_type": "stream",
     "text": [
      "{'loss': 6.809609375, 'learning_rate': 0.0009733676975945017, 'epoch': 0.2663230240549828}\r\n"
     ]
    },
    {
     "name": "stdout",
     "output_type": "stream",
     "text": [
      "{'loss': 6.794921875, 'learning_rate': 0.0009725085910652921, 'epoch': 0.27491408934707906}\r\n"
     ]
    },
    {
     "name": "stdout",
     "output_type": "stream",
     "text": [
      "{'loss': 6.791578125, 'learning_rate': 0.0009716494845360825, 'epoch': 0.28350515463917525}\r\n"
     ]
    },
    {
     "name": "stdout",
     "output_type": "stream",
     "text": [
      "{'loss': 6.78415625, 'learning_rate': 0.0009707903780068729, 'epoch': 0.2920962199312715}\r\n"
     ]
    },
    {
     "name": "stdout",
     "output_type": "stream",
     "text": [
      "{'loss': 6.78984375, 'learning_rate': 0.0009699312714776632, 'epoch': 0.3006872852233677}\r\n"
     ]
    },
    {
     "name": "stdout",
     "output_type": "stream",
     "text": [
      "{'loss': 6.81021875, 'learning_rate': 0.0009690721649484536, 'epoch': 0.30927835051546393}\r\n"
     ]
    },
    {
     "name": "stdout",
     "output_type": "stream",
     "text": [
      "{'loss': 6.82821875, 'learning_rate': 0.000968213058419244, 'epoch': 0.3178694158075601}\r\n"
     ]
    },
    {
     "name": "stdout",
     "output_type": "stream",
     "text": [
      "{'loss': 6.797578125, 'learning_rate': 0.0009673539518900344, 'epoch': 0.32646048109965636}\r\n"
     ]
    },
    {
     "name": "stdout",
     "output_type": "stream",
     "text": [
      "{'loss': 6.816578125, 'learning_rate': 0.0009664948453608248, 'epoch': 0.33505154639175255}\r\n"
     ]
    },
    {
     "name": "stdout",
     "output_type": "stream",
     "text": [
      "{'loss': 6.790078125, 'learning_rate': 0.0009656357388316152, 'epoch': 0.3436426116838488}\r\n"
     ]
    },
    {
     "name": "stdout",
     "output_type": "stream",
     "text": [
      "{'eval_loss': 6.678427219390869, 'epoch': 0.3436426116838488}\r\n"
     ]
    },
    {
     "name": "stdout",
     "output_type": "stream",
     "text": [
      "{'loss': 6.80071875, 'learning_rate': 0.0009647766323024055, 'epoch': 0.35223367697594504}\r\n"
     ]
    },
    {
     "name": "stdout",
     "output_type": "stream",
     "text": [
      "{'loss': 6.7893125, 'learning_rate': 0.0009639175257731959, 'epoch': 0.36082474226804123}\r\n"
     ]
    }
   ],
   "source": [
    "# Train model from scratch\n",
    "!python run_language_modeling.py \\\n",
    "    --output_dir=output \\\n",
    "    --model_type=gpt2 \\\n",
    "    --tokenizer_name=gpt2 \\\n",
    "    --do_train \\\n",
    "    --train_data_file={train_file} \\\n",
    "    --do_eval \\\n",
    "    --eval_data_file={valid_file} \\\n",
    "    --per_device_train_batch_size={batch_size} \\\n",
    "    --num_train_epochs={epochs} \\\n",
    "    --evaluate_during_training \\\n",
    "    --load_best_model_at_end \\\n",
    "    --disable_tqdm=False \\\n",
    "    --warmup_steps={warmup_steps} \\\n",
    "    --output_dir={output_dir} \\\n",
    "    --save_steps=10000 \\\n",
    "    --eval_steps=10000 \\\n",
    "    --learning_rate={learning_rate}"
   ]
  }
 ],
 "metadata": {
  "celltoolbar": "Tags",
  "kernelspec": {
   "display_name": "Python 3",
   "language": "python",
   "name": "python3"
  },
  "language_info": {
   "codemirror_mode": {
    "name": "ipython",
    "version": 3
   },
   "file_extension": ".py",
   "mimetype": "text/x-python",
   "name": "python",
   "nbconvert_exporter": "python",
   "pygments_lexer": "ipython3",
   "version": "3.6.9"
  },
  "papermill": {
   "duration": 6399.0524,
   "end_time": "2020-10-31T06:54:14.770127",
   "environment_variables": {},
   "exception": null,
   "input_path": "transformers_train_scratch.ipynb",
   "output_path": "output/transformers_train_scratch-wikitext_103_raw-lr_e3.ipynb",
   "parameters": {
    "output_dir": "transformers_output-lr_e3"
   },
   "start_time": "2020-10-31T05:07:35.717727",
   "version": "2.1.3"
  }
 },
 "nbformat": 4,
 "nbformat_minor": 4
}