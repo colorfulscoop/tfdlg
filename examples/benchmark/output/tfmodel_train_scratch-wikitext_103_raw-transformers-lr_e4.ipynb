{
 "cells": [
  {
   "cell_type": "markdown",
   "metadata": {
    "papermill": {
     "duration": 0.053874,
     "end_time": "2020-11-14T04:19:53.365557",
     "exception": false,
     "start_time": "2020-11-14T04:19:53.311683",
     "status": "completed"
    },
    "tags": []
   },
   "source": [
    "## Parameter"
   ]
  },
  {
   "cell_type": "code",
   "execution_count": 1,
   "metadata": {
    "execution": {
     "iopub.execute_input": "2020-11-14T04:19:53.398688Z",
     "iopub.status.busy": "2020-11-14T04:19:53.398289Z",
     "iopub.status.idle": "2020-11-14T04:19:53.400043Z",
     "shell.execute_reply": "2020-11-14T04:19:53.399675Z"
    },
    "papermill": {
     "duration": 0.016988,
     "end_time": "2020-11-14T04:19:53.400123",
     "exception": false,
     "start_time": "2020-11-14T04:19:53.383135",
     "status": "completed"
    },
    "tags": [
     "parameters"
    ]
   },
   "outputs": [],
   "source": [
    "# These parameters can be injected from Papermill\n",
    "model_type = \"pre_ln\"\n",
    "train_file = \"wikitext-103-raw/wiki.train.raw\"\n",
    "valid_file = \"wikitext-103-raw/wiki.valid.raw\"\n",
    "epochs = 10\n",
    "batch_size = 2\n",
    "max_learning_rate = 1e-4\n",
    "warmup_steps = 0\n",
    "save_model_dir = \"tfchat_model\""
   ]
  },
  {
   "cell_type": "code",
   "execution_count": 2,
   "metadata": {
    "execution": {
     "iopub.execute_input": "2020-11-14T04:19:53.426337Z",
     "iopub.status.busy": "2020-11-14T04:19:53.425971Z",
     "iopub.status.idle": "2020-11-14T04:19:53.427764Z",
     "shell.execute_reply": "2020-11-14T04:19:53.427403Z"
    },
    "papermill": {
     "duration": 0.015768,
     "end_time": "2020-11-14T04:19:53.427835",
     "exception": false,
     "start_time": "2020-11-14T04:19:53.412067",
     "status": "completed"
    },
    "tags": [
     "injected-parameters"
    ]
   },
   "outputs": [],
   "source": [
    "# Parameters\n",
    "model_type = \"transformers\"\n",
    "save_model_dir = \"tfchat_transformers-lr_e4\"\n"
   ]
  },
  {
   "cell_type": "code",
   "execution_count": 3,
   "metadata": {
    "execution": {
     "iopub.execute_input": "2020-11-14T04:19:53.454263Z",
     "iopub.status.busy": "2020-11-14T04:19:53.453897Z",
     "iopub.status.idle": "2020-11-14T04:19:53.455751Z",
     "shell.execute_reply": "2020-11-14T04:19:53.455393Z"
    },
    "papermill": {
     "duration": 0.015871,
     "end_time": "2020-11-14T04:19:53.455821",
     "exception": false,
     "start_time": "2020-11-14T04:19:53.439950",
     "status": "completed"
    },
    "tags": []
   },
   "outputs": [],
   "source": [
    "# Assert parameters\n",
    "assert model_type in [\"pre_ln\", \"post_ln\", \"min_gpt\", \"transformers\"]"
   ]
  },
  {
   "cell_type": "markdown",
   "metadata": {
    "papermill": {
     "duration": 0.012182,
     "end_time": "2020-11-14T04:19:53.480240",
     "exception": false,
     "start_time": "2020-11-14T04:19:53.468058",
     "status": "completed"
    },
    "tags": []
   },
   "source": [
    "## Installation"
   ]
  },
  {
   "cell_type": "code",
   "execution_count": 4,
   "metadata": {
    "execution": {
     "iopub.execute_input": "2020-11-14T04:19:53.507695Z",
     "iopub.status.busy": "2020-11-14T04:19:53.507338Z",
     "iopub.status.idle": "2020-11-14T04:19:57.925305Z",
     "shell.execute_reply": "2020-11-14T04:19:57.923465Z"
    },
    "papermill": {
     "duration": 4.433272,
     "end_time": "2020-11-14T04:19:57.925734",
     "exception": false,
     "start_time": "2020-11-14T04:19:53.492462",
     "status": "completed"
    },
    "tags": []
   },
   "outputs": [
    {
     "name": "stdout",
     "output_type": "stream",
     "text": [
      "Reading package lists... Done\n",
      "Building dependency tree       \n",
      "Reading state information... Done\n",
      "git is already the newest version (1:2.17.1-1ubuntu0.7).\n",
      "0 upgraded, 0 newly installed, 0 to remove and 30 not upgraded.\n",
      "Collecting git+https://github.com/noriyukipy/tfchat@fix_transposed_embedding\n",
      "  Cloning https://github.com/noriyukipy/tfchat (to revision fix_transposed_embedding) to /tmp/pip-req-build-hynxma1e\n",
      "Requirement already satisfied (use --upgrade to upgrade): tfchat==0.1.0 from git+https://github.com/noriyukipy/tfchat@fix_transposed_embedding in /usr/local/lib/python3.6/dist-packages\n",
      "Requirement already satisfied: tensorflow~=2.0 in /usr/local/lib/python3.6/dist-packages (from tfchat==0.1.0) (2.3.1)\n",
      "Requirement already satisfied: sentencepiece==0.1.91 in /usr/local/lib/python3.6/dist-packages (from tfchat==0.1.0) (0.1.91)\n",
      "Requirement already satisfied: scipy~=1.5.0 in /usr/local/lib/python3.6/dist-packages (from tfchat==0.1.0) (1.5.4)\n",
      "Requirement already satisfied: pydantic==1.6.1 in /usr/local/lib/python3.6/dist-packages (from tfchat==0.1.0) (1.6.1)\n",
      "Requirement already satisfied: protobuf>=3.9.2 in /usr/local/lib/python3.6/dist-packages (from tensorflow~=2.0->tfchat==0.1.0) (3.13.0)\n",
      "Requirement already satisfied: six>=1.12.0 in /usr/local/lib/python3.6/dist-packages (from tensorflow~=2.0->tfchat==0.1.0) (1.15.0)\n",
      "Requirement already satisfied: wheel>=0.26 in /usr/lib/python3/dist-packages (from tensorflow~=2.0->tfchat==0.1.0) (0.30.0)\n",
      "Requirement already satisfied: keras-preprocessing<1.2,>=1.1.1 in /usr/local/lib/python3.6/dist-packages (from tensorflow~=2.0->tfchat==0.1.0) (1.1.2)\n",
      "Requirement already satisfied: gast==0.3.3 in /usr/local/lib/python3.6/dist-packages (from tensorflow~=2.0->tfchat==0.1.0) (0.3.3)\n",
      "Requirement already satisfied: absl-py>=0.7.0 in /usr/local/lib/python3.6/dist-packages (from tensorflow~=2.0->tfchat==0.1.0) (0.10.0)\n",
      "Requirement already satisfied: astunparse==1.6.3 in /usr/local/lib/python3.6/dist-packages (from tensorflow~=2.0->tfchat==0.1.0) (1.6.3)\n",
      "Requirement already satisfied: numpy<1.19.0,>=1.16.0 in /usr/local/lib/python3.6/dist-packages (from tensorflow~=2.0->tfchat==0.1.0) (1.18.5)\n",
      "Requirement already satisfied: opt-einsum>=2.3.2 in /usr/local/lib/python3.6/dist-packages (from tensorflow~=2.0->tfchat==0.1.0) (3.3.0)\n",
      "Requirement already satisfied: tensorboard<3,>=2.3.0 in /usr/local/lib/python3.6/dist-packages (from tensorflow~=2.0->tfchat==0.1.0) (2.3.0)\n",
      "Requirement already satisfied: h5py<2.11.0,>=2.10.0 in /usr/local/lib/python3.6/dist-packages (from tensorflow~=2.0->tfchat==0.1.0) (2.10.0)\n",
      "Requirement already satisfied: tensorflow-estimator<2.4.0,>=2.3.0 in /usr/local/lib/python3.6/dist-packages (from tensorflow~=2.0->tfchat==0.1.0) (2.3.0)\n",
      "Requirement already satisfied: termcolor>=1.1.0 in /usr/local/lib/python3.6/dist-packages (from tensorflow~=2.0->tfchat==0.1.0) (1.1.0)\n",
      "Requirement already satisfied: google-pasta>=0.1.8 in /usr/local/lib/python3.6/dist-packages (from tensorflow~=2.0->tfchat==0.1.0) (0.2.0)\n",
      "Requirement already satisfied: grpcio>=1.8.6 in /usr/local/lib/python3.6/dist-packages (from tensorflow~=2.0->tfchat==0.1.0) (1.32.0)\n",
      "Requirement already satisfied: wrapt>=1.11.1 in /usr/local/lib/python3.6/dist-packages (from tensorflow~=2.0->tfchat==0.1.0) (1.12.1)\n",
      "Requirement already satisfied: dataclasses>=0.6; python_version < \"3.7\" in /usr/local/lib/python3.6/dist-packages (from pydantic==1.6.1->tfchat==0.1.0) (0.7)\n",
      "Requirement already satisfied: setuptools in /usr/local/lib/python3.6/dist-packages (from protobuf>=3.9.2->tensorflow~=2.0->tfchat==0.1.0) (50.3.0)\n",
      "Requirement already satisfied: requests<3,>=2.21.0 in /usr/local/lib/python3.6/dist-packages (from tensorboard<3,>=2.3.0->tensorflow~=2.0->tfchat==0.1.0) (2.24.0)\n",
      "Requirement already satisfied: google-auth-oauthlib<0.5,>=0.4.1 in /usr/local/lib/python3.6/dist-packages (from tensorboard<3,>=2.3.0->tensorflow~=2.0->tfchat==0.1.0) (0.4.1)\n",
      "Requirement already satisfied: tensorboard-plugin-wit>=1.6.0 in /usr/local/lib/python3.6/dist-packages (from tensorboard<3,>=2.3.0->tensorflow~=2.0->tfchat==0.1.0) (1.7.0)\n",
      "Requirement already satisfied: markdown>=2.6.8 in /usr/local/lib/python3.6/dist-packages (from tensorboard<3,>=2.3.0->tensorflow~=2.0->tfchat==0.1.0) (3.2.2)\n",
      "Requirement already satisfied: werkzeug>=0.11.15 in /usr/local/lib/python3.6/dist-packages (from tensorboard<3,>=2.3.0->tensorflow~=2.0->tfchat==0.1.0) (1.0.1)\n",
      "Requirement already satisfied: google-auth<2,>=1.6.3 in /usr/local/lib/python3.6/dist-packages (from tensorboard<3,>=2.3.0->tensorflow~=2.0->tfchat==0.1.0) (1.22.0)\n",
      "Requirement already satisfied: certifi>=2017.4.17 in /usr/local/lib/python3.6/dist-packages (from requests<3,>=2.21.0->tensorboard<3,>=2.3.0->tensorflow~=2.0->tfchat==0.1.0) (2020.6.20)\n",
      "Requirement already satisfied: idna<3,>=2.5 in /usr/lib/python3/dist-packages (from requests<3,>=2.21.0->tensorboard<3,>=2.3.0->tensorflow~=2.0->tfchat==0.1.0) (2.6)\n",
      "Requirement already satisfied: chardet<4,>=3.0.2 in /usr/local/lib/python3.6/dist-packages (from requests<3,>=2.21.0->tensorboard<3,>=2.3.0->tensorflow~=2.0->tfchat==0.1.0) (3.0.4)\n",
      "Requirement already satisfied: urllib3!=1.25.0,!=1.25.1,<1.26,>=1.21.1 in /usr/local/lib/python3.6/dist-packages (from requests<3,>=2.21.0->tensorboard<3,>=2.3.0->tensorflow~=2.0->tfchat==0.1.0) (1.25.10)\n",
      "Requirement already satisfied: requests-oauthlib>=0.7.0 in /usr/local/lib/python3.6/dist-packages (from google-auth-oauthlib<0.5,>=0.4.1->tensorboard<3,>=2.3.0->tensorflow~=2.0->tfchat==0.1.0) (1.3.0)\n",
      "Requirement already satisfied: importlib-metadata; python_version < \"3.8\" in /usr/local/lib/python3.6/dist-packages (from markdown>=2.6.8->tensorboard<3,>=2.3.0->tensorflow~=2.0->tfchat==0.1.0) (2.0.0)\n",
      "Requirement already satisfied: aiohttp<4.0.0dev,>=3.6.2; python_version >= \"3.6\" in /usr/local/lib/python3.6/dist-packages (from google-auth<2,>=1.6.3->tensorboard<3,>=2.3.0->tensorflow~=2.0->tfchat==0.1.0) (3.6.2)\n",
      "Requirement already satisfied: cachetools<5.0,>=2.0.0 in /usr/local/lib/python3.6/dist-packages (from google-auth<2,>=1.6.3->tensorboard<3,>=2.3.0->tensorflow~=2.0->tfchat==0.1.0) (4.1.1)\n",
      "Requirement already satisfied: rsa<5,>=3.1.4; python_version >= \"3.5\" in /usr/local/lib/python3.6/dist-packages (from google-auth<2,>=1.6.3->tensorboard<3,>=2.3.0->tensorflow~=2.0->tfchat==0.1.0) (4.6)\n",
      "Requirement already satisfied: pyasn1-modules>=0.2.1 in /usr/local/lib/python3.6/dist-packages (from google-auth<2,>=1.6.3->tensorboard<3,>=2.3.0->tensorflow~=2.0->tfchat==0.1.0) (0.2.8)\n",
      "Requirement already satisfied: oauthlib>=3.0.0 in /usr/local/lib/python3.6/dist-packages (from requests-oauthlib>=0.7.0->google-auth-oauthlib<0.5,>=0.4.1->tensorboard<3,>=2.3.0->tensorflow~=2.0->tfchat==0.1.0) (3.1.0)\n",
      "Requirement already satisfied: zipp>=0.5 in /usr/local/lib/python3.6/dist-packages (from importlib-metadata; python_version < \"3.8\"->markdown>=2.6.8->tensorboard<3,>=2.3.0->tensorflow~=2.0->tfchat==0.1.0) (3.2.0)\n",
      "Requirement already satisfied: typing-extensions>=3.6.5; python_version < \"3.7\" in /usr/local/lib/python3.6/dist-packages (from aiohttp<4.0.0dev,>=3.6.2; python_version >= \"3.6\"->google-auth<2,>=1.6.3->tensorboard<3,>=2.3.0->tensorflow~=2.0->tfchat==0.1.0) (3.7.4.3)\n",
      "Requirement already satisfied: idna-ssl>=1.0; python_version < \"3.7\" in /usr/local/lib/python3.6/dist-packages (from aiohttp<4.0.0dev,>=3.6.2; python_version >= \"3.6\"->google-auth<2,>=1.6.3->tensorboard<3,>=2.3.0->tensorflow~=2.0->tfchat==0.1.0) (1.1.0)\n",
      "Requirement already satisfied: attrs>=17.3.0 in /usr/local/lib/python3.6/dist-packages (from aiohttp<4.0.0dev,>=3.6.2; python_version >= \"3.6\"->google-auth<2,>=1.6.3->tensorboard<3,>=2.3.0->tensorflow~=2.0->tfchat==0.1.0) (20.2.0)\n",
      "Requirement already satisfied: multidict<5.0,>=4.5 in /usr/local/lib/python3.6/dist-packages (from aiohttp<4.0.0dev,>=3.6.2; python_version >= \"3.6\"->google-auth<2,>=1.6.3->tensorboard<3,>=2.3.0->tensorflow~=2.0->tfchat==0.1.0) (4.7.6)\n",
      "Requirement already satisfied: yarl<2.0,>=1.0 in /usr/local/lib/python3.6/dist-packages (from aiohttp<4.0.0dev,>=3.6.2; python_version >= \"3.6\"->google-auth<2,>=1.6.3->tensorboard<3,>=2.3.0->tensorflow~=2.0->tfchat==0.1.0) (1.6.0)\n",
      "Requirement already satisfied: async-timeout<4.0,>=3.0 in /usr/local/lib/python3.6/dist-packages (from aiohttp<4.0.0dev,>=3.6.2; python_version >= \"3.6\"->google-auth<2,>=1.6.3->tensorboard<3,>=2.3.0->tensorflow~=2.0->tfchat==0.1.0) (3.0.1)\n",
      "Requirement already satisfied: pyasn1>=0.1.3 in /usr/local/lib/python3.6/dist-packages (from rsa<5,>=3.1.4; python_version >= \"3.5\"->google-auth<2,>=1.6.3->tensorboard<3,>=2.3.0->tensorflow~=2.0->tfchat==0.1.0) (0.4.8)\n",
      "Building wheels for collected packages: tfchat\n",
      "  Building wheel for tfchat (setup.py) ... \u001b[?25ldone\n",
      "\u001b[?25h  Created wheel for tfchat: filename=tfchat-0.1.0-py3-none-any.whl size=13155 sha256=d0679e529b2890f9de7507355c2c7f8ef8726165a3005a2fb43d1a21890aaf57\n",
      "  Stored in directory: /tmp/pip-ephem-wheel-cache-rum5ss_i/wheels/fb/fc/0e/869364083a0bc01d1301fdd9651b959a6acd002a8433550179\n",
      "Successfully built tfchat\n",
      "\u001b[33mWARNING: You are using pip version 20.2.3; however, version 20.2.4 is available.\n",
      "You should consider upgrading via the '/usr/bin/python3 -m pip install --upgrade pip' command.\u001b[0m\n"
     ]
    }
   ],
   "source": [
    "!apt install -y git\n",
    "!pip install git+https://github.com/noriyukipy/tfchat@fix_transposed_embedding"
   ]
  },
  {
   "cell_type": "markdown",
   "metadata": {
    "papermill": {
     "duration": 0.015875,
     "end_time": "2020-11-14T04:19:57.958447",
     "exception": false,
     "start_time": "2020-11-14T04:19:57.942572",
     "status": "completed"
    },
    "tags": []
   },
   "source": [
    "## Configure GPU"
   ]
  },
  {
   "cell_type": "code",
   "execution_count": 5,
   "metadata": {
    "execution": {
     "iopub.execute_input": "2020-11-14T04:19:57.993080Z",
     "iopub.status.busy": "2020-11-14T04:19:57.992718Z",
     "iopub.status.idle": "2020-11-14T04:19:58.966197Z",
     "shell.execute_reply": "2020-11-14T04:19:58.965873Z"
    },
    "papermill": {
     "duration": 0.991897,
     "end_time": "2020-11-14T04:19:58.966283",
     "exception": false,
     "start_time": "2020-11-14T04:19:57.974386",
     "status": "completed"
    },
    "tags": []
   },
   "outputs": [],
   "source": [
    "from tfchat.utils import set_memory_growth"
   ]
  },
  {
   "cell_type": "code",
   "execution_count": 6,
   "metadata": {
    "execution": {
     "iopub.execute_input": "2020-11-14T04:19:59.554211Z",
     "iopub.status.busy": "2020-11-14T04:19:59.553800Z",
     "iopub.status.idle": "2020-11-14T04:19:59.556070Z",
     "shell.execute_reply": "2020-11-14T04:19:59.555703Z"
    },
    "papermill": {
     "duration": 0.573529,
     "end_time": "2020-11-14T04:19:59.556152",
     "exception": false,
     "start_time": "2020-11-14T04:19:58.982623",
     "status": "completed"
    },
    "tags": []
   },
   "outputs": [
    {
     "name": "stdout",
     "output_type": "stream",
     "text": [
      "Set memory growth to PhysicalDevice(name='/physical_device:GPU:0', device_type='GPU')\n"
     ]
    }
   ],
   "source": [
    "set_memory_growth()"
   ]
  },
  {
   "cell_type": "markdown",
   "metadata": {
    "papermill": {
     "duration": 0.016236,
     "end_time": "2020-11-14T04:19:59.589058",
     "exception": false,
     "start_time": "2020-11-14T04:19:59.572822",
     "status": "completed"
    },
    "tags": []
   },
   "source": [
    "## Setup tokenizer"
   ]
  },
  {
   "cell_type": "code",
   "execution_count": 7,
   "metadata": {
    "execution": {
     "iopub.execute_input": "2020-11-14T04:19:59.626191Z",
     "iopub.status.busy": "2020-11-14T04:19:59.623938Z",
     "iopub.status.idle": "2020-11-14T04:20:01.011302Z",
     "shell.execute_reply": "2020-11-14T04:20:01.012984Z"
    },
    "papermill": {
     "duration": 1.408347,
     "end_time": "2020-11-14T04:20:01.013473",
     "exception": false,
     "start_time": "2020-11-14T04:19:59.605126",
     "status": "completed"
    },
    "tags": []
   },
   "outputs": [
    {
     "name": "stdout",
     "output_type": "stream",
     "text": [
      "Requirement already satisfied: transformers==3.4.0 in /usr/local/lib/python3.6/dist-packages (3.4.0)\n",
      "Requirement already satisfied: protobuf in /usr/local/lib/python3.6/dist-packages (from transformers==3.4.0) (3.13.0)\n",
      "Requirement already satisfied: dataclasses; python_version < \"3.7\" in /usr/local/lib/python3.6/dist-packages (from transformers==3.4.0) (0.7)\n",
      "Requirement already satisfied: sentencepiece!=0.1.92 in /usr/local/lib/python3.6/dist-packages (from transformers==3.4.0) (0.1.91)\n",
      "Requirement already satisfied: filelock in /usr/local/lib/python3.6/dist-packages (from transformers==3.4.0) (3.0.12)\n",
      "Requirement already satisfied: numpy in /usr/local/lib/python3.6/dist-packages (from transformers==3.4.0) (1.18.5)\n",
      "Requirement already satisfied: tokenizers==0.9.2 in /usr/local/lib/python3.6/dist-packages (from transformers==3.4.0) (0.9.2)\n",
      "Requirement already satisfied: regex!=2019.12.17 in /usr/local/lib/python3.6/dist-packages (from transformers==3.4.0) (2020.10.28)\n",
      "Requirement already satisfied: tqdm>=4.27 in /usr/local/lib/python3.6/dist-packages (from transformers==3.4.0) (4.51.0)\n",
      "Requirement already satisfied: sacremoses in /usr/local/lib/python3.6/dist-packages (from transformers==3.4.0) (0.0.43)\n",
      "Requirement already satisfied: packaging in /usr/local/lib/python3.6/dist-packages (from transformers==3.4.0) (20.4)\n",
      "Requirement already satisfied: requests in /usr/local/lib/python3.6/dist-packages (from transformers==3.4.0) (2.24.0)\n",
      "Requirement already satisfied: six>=1.9 in /usr/local/lib/python3.6/dist-packages (from protobuf->transformers==3.4.0) (1.15.0)\n",
      "Requirement already satisfied: setuptools in /usr/local/lib/python3.6/dist-packages (from protobuf->transformers==3.4.0) (50.3.0)\n",
      "Requirement already satisfied: click in /usr/local/lib/python3.6/dist-packages (from sacremoses->transformers==3.4.0) (7.1.2)\n",
      "Requirement already satisfied: joblib in /usr/local/lib/python3.6/dist-packages (from sacremoses->transformers==3.4.0) (0.17.0)\n",
      "Requirement already satisfied: pyparsing>=2.0.2 in /usr/local/lib/python3.6/dist-packages (from packaging->transformers==3.4.0) (2.4.7)\n",
      "Requirement already satisfied: urllib3!=1.25.0,!=1.25.1,<1.26,>=1.21.1 in /usr/local/lib/python3.6/dist-packages (from requests->transformers==3.4.0) (1.25.10)\n",
      "Requirement already satisfied: chardet<4,>=3.0.2 in /usr/local/lib/python3.6/dist-packages (from requests->transformers==3.4.0) (3.0.4)\n",
      "Requirement already satisfied: certifi>=2017.4.17 in /usr/local/lib/python3.6/dist-packages (from requests->transformers==3.4.0) (2020.6.20)\n",
      "Requirement already satisfied: idna<3,>=2.5 in /usr/lib/python3/dist-packages (from requests->transformers==3.4.0) (2.6)\n",
      "\u001b[33mWARNING: You are using pip version 20.2.3; however, version 20.2.4 is available.\n",
      "You should consider upgrading via the '/usr/bin/python3 -m pip install --upgrade pip' command.\u001b[0m\n",
      "Enabling notebook extension jupyter-js-widgets/extension...\n",
      "      - Validating: \u001b[32mOK\u001b[0m\n"
     ]
    }
   ],
   "source": [
    "# Install transformers by HuggingFace to use GPT2 tokenizer\n",
    "! pip install transformers==3.4.0\n",
    "# Enable widgetsnbextention to avoid the following error when running GPT2.from_pretrained method\n",
    "#     ImportError: IProgress not found. Please update jupyter and ipywidgets.\n",
    "! jupyter nbextension enable --py widgetsnbextension"
   ]
  },
  {
   "cell_type": "code",
   "execution_count": 8,
   "metadata": {
    "execution": {
     "iopub.execute_input": "2020-11-14T04:20:01.051738Z",
     "iopub.status.busy": "2020-11-14T04:20:01.051370Z",
     "iopub.status.idle": "2020-11-14T04:20:02.891515Z",
     "shell.execute_reply": "2020-11-14T04:20:02.891174Z"
    },
    "papermill": {
     "duration": 1.86,
     "end_time": "2020-11-14T04:20:02.891600",
     "exception": false,
     "start_time": "2020-11-14T04:20:01.031600",
     "status": "completed"
    },
    "tags": []
   },
   "outputs": [],
   "source": [
    "# setup tokenizer\n",
    "from transformers import GPT2Tokenizer\n",
    "\n",
    "tokenizer = GPT2Tokenizer.from_pretrained(\"gpt2\")"
   ]
  },
  {
   "cell_type": "markdown",
   "metadata": {
    "papermill": {
     "duration": 0.017437,
     "end_time": "2020-11-14T04:20:02.926788",
     "exception": false,
     "start_time": "2020-11-14T04:20:02.909351",
     "status": "completed"
    },
    "tags": []
   },
   "source": [
    "## Prepare model config"
   ]
  },
  {
   "cell_type": "code",
   "execution_count": 9,
   "metadata": {
    "execution": {
     "iopub.execute_input": "2020-11-14T04:20:02.963322Z",
     "iopub.status.busy": "2020-11-14T04:20:02.962954Z",
     "iopub.status.idle": "2020-11-14T04:20:03.031080Z",
     "shell.execute_reply": "2020-11-14T04:20:03.030697Z"
    },
    "papermill": {
     "duration": 0.087457,
     "end_time": "2020-11-14T04:20:03.031165",
     "exception": false,
     "start_time": "2020-11-14T04:20:02.943708",
     "status": "completed"
    },
    "tags": []
   },
   "outputs": [],
   "source": [
    "from tfchat.configs import GPT2SmallConfig\n",
    "\n",
    "config = GPT2SmallConfig()\n",
    "\n",
    "# Set the larger number of vocab size than 33,278, which is the vocab size of Wikitext-2\n",
    "config.vocab_size = tokenizer.vocab_size"
   ]
  },
  {
   "cell_type": "code",
   "execution_count": 10,
   "metadata": {
    "execution": {
     "iopub.execute_input": "2020-11-14T04:20:03.071898Z",
     "iopub.status.busy": "2020-11-14T04:20:03.071482Z",
     "iopub.status.idle": "2020-11-14T04:20:03.073376Z",
     "shell.execute_reply": "2020-11-14T04:20:03.073664Z"
    },
    "papermill": {
     "duration": 0.025147,
     "end_time": "2020-11-14T04:20:03.073750",
     "exception": false,
     "start_time": "2020-11-14T04:20:03.048603",
     "status": "completed"
    },
    "tags": []
   },
   "outputs": [
    {
     "data": {
      "text/plain": [
       "GPT2SmallConfig(num_layers=12, d_model=768, num_heads=12, d_ff=3072, vocab_size=50257, context_size=1024, attention_dropout_rate=0.1, residual_dropout_rate=0.1, embedding_dropout_rate=0.1, epsilon=1e-06)"
      ]
     },
     "execution_count": 10,
     "metadata": {},
     "output_type": "execute_result"
    }
   ],
   "source": [
    "config"
   ]
  },
  {
   "cell_type": "markdown",
   "metadata": {
    "papermill": {
     "duration": 0.017243,
     "end_time": "2020-11-14T04:20:03.108437",
     "exception": false,
     "start_time": "2020-11-14T04:20:03.091194",
     "status": "completed"
    },
    "tags": []
   },
   "source": [
    "## Prepare Dataset"
   ]
  },
  {
   "cell_type": "code",
   "execution_count": 11,
   "metadata": {
    "execution": {
     "iopub.execute_input": "2020-11-14T04:20:03.146500Z",
     "iopub.status.busy": "2020-11-14T04:20:03.146131Z",
     "iopub.status.idle": "2020-11-14T04:20:03.147426Z",
     "shell.execute_reply": "2020-11-14T04:20:03.147715Z"
    },
    "papermill": {
     "duration": 0.02206,
     "end_time": "2020-11-14T04:20:03.147800",
     "exception": false,
     "start_time": "2020-11-14T04:20:03.125740",
     "status": "completed"
    },
    "tags": []
   },
   "outputs": [],
   "source": [
    "from pathlib import Path\n",
    "from urllib.request import urlretrieve\n",
    "import zipfile\n",
    "import numpy as np\n",
    "\n",
    "\n",
    "def encode_file(_tokenizer, _filepath):\n",
    "    ids = []\n",
    "    with open(_filepath) as f:\n",
    "        for line in f.readlines():\n",
    "            text = line.strip(\"\\n\")\n",
    "            ids.extend(_tokenizer.encode(text))\n",
    "\n",
    "    return np.array(ids, dtype=np.int32)"
   ]
  },
  {
   "cell_type": "code",
   "execution_count": 12,
   "metadata": {
    "execution": {
     "iopub.execute_input": "2020-11-14T04:20:03.184955Z",
     "iopub.status.busy": "2020-11-14T04:20:03.184590Z",
     "iopub.status.idle": "2020-11-14T04:27:25.355924Z",
     "shell.execute_reply": "2020-11-14T04:27:25.355547Z"
    },
    "papermill": {
     "duration": 442.190773,
     "end_time": "2020-11-14T04:27:25.356007",
     "exception": false,
     "start_time": "2020-11-14T04:20:03.165234",
     "status": "completed"
    },
    "tags": []
   },
   "outputs": [
    {
     "name": "stderr",
     "output_type": "stream",
     "text": [
      "Token indices sequence length is longer than the specified maximum sequence length for this model (1062 > 1024). Running this sequence through the model will result in indexing errors\n"
     ]
    }
   ],
   "source": [
    "train_ids = encode_file(tokenizer, train_file)\n",
    "valid_ids = encode_file(tokenizer, valid_file)"
   ]
  },
  {
   "cell_type": "code",
   "execution_count": 13,
   "metadata": {
    "execution": {
     "iopub.execute_input": "2020-11-14T04:27:25.409351Z",
     "iopub.status.busy": "2020-11-14T04:27:25.408992Z",
     "iopub.status.idle": "2020-11-14T04:27:25.410697Z",
     "shell.execute_reply": "2020-11-14T04:27:25.410979Z"
    },
    "papermill": {
     "duration": 0.022342,
     "end_time": "2020-11-14T04:27:25.411065",
     "exception": false,
     "start_time": "2020-11-14T04:27:25.388723",
     "status": "completed"
    },
    "tags": []
   },
   "outputs": [
    {
     "name": "stdout",
     "output_type": "stream",
     "text": [
      "Train: (116755111,)\n",
      "Valid: (244828,)\n"
     ]
    }
   ],
   "source": [
    "print(\"Train:\", train_ids.shape)\n",
    "print(\"Valid:\", valid_ids.shape)"
   ]
  },
  {
   "cell_type": "code",
   "execution_count": 14,
   "metadata": {
    "execution": {
     "iopub.execute_input": "2020-11-14T04:27:25.449083Z",
     "iopub.status.busy": "2020-11-14T04:27:25.448723Z",
     "iopub.status.idle": "2020-11-14T04:27:25.450410Z",
     "shell.execute_reply": "2020-11-14T04:27:25.450692Z"
    },
    "papermill": {
     "duration": 0.021845,
     "end_time": "2020-11-14T04:27:25.450773",
     "exception": false,
     "start_time": "2020-11-14T04:27:25.428928",
     "status": "completed"
    },
    "tags": []
   },
   "outputs": [
    {
     "name": "stdout",
     "output_type": "stream",
     "text": [
      "(116755111,)\n",
      "(244828,)\n"
     ]
    }
   ],
   "source": [
    "print(train_ids.shape)\n",
    "print(valid_ids.shape)"
   ]
  },
  {
   "cell_type": "code",
   "execution_count": 15,
   "metadata": {
    "execution": {
     "iopub.execute_input": "2020-11-14T04:27:25.824283Z",
     "iopub.status.busy": "2020-11-14T04:27:25.489235Z",
     "iopub.status.idle": "2020-11-14T04:27:26.017649Z",
     "shell.execute_reply": "2020-11-14T04:27:26.017325Z"
    },
    "papermill": {
     "duration": 0.548919,
     "end_time": "2020-11-14T04:27:26.017736",
     "exception": false,
     "start_time": "2020-11-14T04:27:25.468817",
     "status": "completed"
    },
    "tags": []
   },
   "outputs": [],
   "source": [
    "from tfchat.data import BlockDataset\n",
    "\n",
    "\n",
    "dataset = BlockDataset(block_size=config.context_size, batch_size=batch_size)\n",
    "\n",
    "train_dataset = dataset.build(train_ids, shuffle=True)\n",
    "valid_dataset = dataset.build(valid_ids, shuffle=False)"
   ]
  },
  {
   "cell_type": "code",
   "execution_count": 16,
   "metadata": {
    "execution": {
     "iopub.execute_input": "2020-11-14T04:27:26.058087Z",
     "iopub.status.busy": "2020-11-14T04:27:26.057606Z",
     "iopub.status.idle": "2020-11-14T04:29:20.660987Z",
     "shell.execute_reply": "2020-11-14T04:29:20.661295Z"
    },
    "papermill": {
     "duration": 114.625145,
     "end_time": "2020-11-14T04:29:20.661388",
     "exception": false,
     "start_time": "2020-11-14T04:27:26.036243",
     "status": "completed"
    },
    "tags": []
   },
   "outputs": [
    {
     "name": "stdout",
     "output_type": "stream",
     "text": [
      "Train steps: 57009\n",
      "Valid steps: 119\n"
     ]
    }
   ],
   "source": [
    "num_train_steps = len([_ for _ in train_dataset])\n",
    "num_valid_steps = len([_ for _ in valid_dataset])\n",
    "print(\"Train steps:\", num_train_steps)\n",
    "print(\"Valid steps:\", num_valid_steps)"
   ]
  },
  {
   "cell_type": "markdown",
   "metadata": {
    "papermill": {
     "duration": 0.018486,
     "end_time": "2020-11-14T04:29:20.698449",
     "exception": false,
     "start_time": "2020-11-14T04:29:20.679963",
     "status": "completed"
    },
    "tags": []
   },
   "source": [
    "## Transformers model implementation"
   ]
  },
  {
   "cell_type": "code",
   "execution_count": 17,
   "metadata": {
    "execution": {
     "iopub.execute_input": "2020-11-14T04:29:20.737826Z",
     "iopub.status.busy": "2020-11-14T04:29:20.737460Z",
     "iopub.status.idle": "2020-11-14T04:29:20.739332Z",
     "shell.execute_reply": "2020-11-14T04:29:20.738971Z"
    },
    "papermill": {
     "duration": 0.022744,
     "end_time": "2020-11-14T04:29:20.739406",
     "exception": false,
     "start_time": "2020-11-14T04:29:20.716662",
     "status": "completed"
    },
    "tags": []
   },
   "outputs": [],
   "source": [
    "from transformers import TFGPT2LMHeadModel\n",
    "from transformers import GPT2Config\n",
    "import tensorflow.keras as keras\n",
    "import tensorflow as tf\n",
    "from tfchat.models import create_combined_mask"
   ]
  },
  {
   "cell_type": "code",
   "execution_count": 18,
   "metadata": {
    "execution": {
     "iopub.execute_input": "2020-11-14T04:29:20.780156Z",
     "iopub.status.busy": "2020-11-14T04:29:20.779784Z",
     "iopub.status.idle": "2020-11-14T04:29:20.781556Z",
     "shell.execute_reply": "2020-11-14T04:29:20.781223Z"
    },
    "papermill": {
     "duration": 0.02386,
     "end_time": "2020-11-14T04:29:20.781630",
     "exception": false,
     "start_time": "2020-11-14T04:29:20.757770",
     "status": "completed"
    },
    "tags": []
   },
   "outputs": [],
   "source": [
    "class TransformersGPT2(keras.Model):\n",
    "    def __init__(self, config):\n",
    "        super().__init__()\n",
    "        tf_config = GPT2Config(\n",
    "            n_layers=config.num_layers,\n",
    "            n_embd=config.d_model,\n",
    "            n_head=config.num_heads,\n",
    "            n_inner=config.d_ff,\n",
    "            vocab_size=config.vocab_size,\n",
    "            n_ctx=config.context_size,\n",
    "            n_positions=config.context_size,\n",
    "            attn_pdrop=config.attention_dropout_rate,\n",
    "            resid_pdrop=config.residual_dropout_rate,\n",
    "            embd_pdrop=config.embedding_dropout_rate,\n",
    "            layer_norm_epsilon=config.epsilon,\n",
    "            activation_function=\"gelu_new\",  # Default value of transformers implementation\n",
    "            \n",
    "        )\n",
    "        self._decoder = TFGPT2LMHeadModel(tf_config)\n",
    "        \n",
    "    def call(self, inputs, training):\n",
    "        inputs = tf.cast(inputs, tf.int32)\n",
    "        x = self._decoder(inputs, training=training)\n",
    "        return x[0]\n",
    "\n"
   ]
  },
  {
   "cell_type": "markdown",
   "metadata": {
    "papermill": {
     "duration": 0.018539,
     "end_time": "2020-11-14T04:29:20.818730",
     "exception": false,
     "start_time": "2020-11-14T04:29:20.800191",
     "status": "completed"
    },
    "tags": []
   },
   "source": [
    "## Prepare Model"
   ]
  },
  {
   "cell_type": "code",
   "execution_count": 19,
   "metadata": {
    "execution": {
     "iopub.execute_input": "2020-11-14T04:29:20.859443Z",
     "iopub.status.busy": "2020-11-14T04:29:20.859068Z",
     "iopub.status.idle": "2020-11-14T04:29:20.861295Z",
     "shell.execute_reply": "2020-11-14T04:29:20.860917Z"
    },
    "papermill": {
     "duration": 0.024489,
     "end_time": "2020-11-14T04:29:20.861371",
     "exception": false,
     "start_time": "2020-11-14T04:29:20.836882",
     "status": "completed"
    },
    "tags": []
   },
   "outputs": [],
   "source": [
    "from tfchat.losses import PaddingLoss\n",
    "from tfchat.schedules import WarmupLinearDecay\n",
    "import tensorflow.keras as keras\n",
    "\n",
    "\n",
    "\n",
    "def train(_model, _train_dataset, _valid_dataset, _epochs, _warmup_steps, _num_train_steps, _max_learning_rate):\n",
    "    schedule = WarmupLinearDecay(max_learning_rate=_max_learning_rate,\n",
    "                                 warmup_steps=_warmup_steps,\n",
    "                                 training_steps=_num_train_steps*_epochs)\n",
    "    optimizer = keras.optimizers.Adam(schedule, beta_1=0.9, beta_2=0.999, epsilon=1e-8, clipnorm=1.0)\n",
    "    _model.compile(loss=PaddingLoss(), optimizer=optimizer)\n",
    "\n",
    "\n",
    "    history = _model.fit(\n",
    "        _train_dataset,\n",
    "        validation_data=_valid_dataset,\n",
    "        epochs=_epochs,\n",
    "        callbacks=[\n",
    "            keras.callbacks.EarlyStopping(patience=1, restore_best_weights=True),\n",
    "            # If you want to save chekcpoints, remove the next comment out\n",
    "            #keras.callbacks.ModelCheckpoint(\"keras_model/\", save_best_only=True)\n",
    "        ],\n",
    "        verbose=2,\n",
    "    )\n"
   ]
  },
  {
   "cell_type": "code",
   "execution_count": 20,
   "metadata": {
    "execution": {
     "iopub.execute_input": "2020-11-14T04:29:20.908854Z",
     "iopub.status.busy": "2020-11-14T04:29:20.904456Z",
     "iopub.status.idle": "2020-11-14T04:29:21.014899Z",
     "shell.execute_reply": "2020-11-14T04:29:21.014516Z"
    },
    "papermill": {
     "duration": 0.135364,
     "end_time": "2020-11-14T04:29:21.014982",
     "exception": false,
     "start_time": "2020-11-14T04:29:20.879618",
     "status": "completed"
    },
    "tags": []
   },
   "outputs": [],
   "source": [
    "if model_type == \"pre_ln\":\n",
    "    from tfchat.models import PreLNDecoder\n",
    "    model = PreLNDecoder(config)\n",
    "elif model_type == \"post_ln\":\n",
    "    from tfchat.models import PostLNDecoder \n",
    "    model = PostLNDecoder(config)\n",
    "elif model_type == \"transformers\":\n",
    "    model = TransformersGPT2(config)\n",
    "elif model_type == \"min_gpt\":\n",
    "    from mingpt.model import GPT, GPTConfig\n",
    "    mconf = GPTConfig(config.vocab_size, config.context_size,\n",
    "                      n_layer=config.num_layers, n_head=config.num_heads, n_embd=config.d_model)\n",
    "    model = GPT(mconf)\n",
    "else:\n",
    "    raise Exception(\"Model type is wrong\")"
   ]
  },
  {
   "cell_type": "code",
   "execution_count": 21,
   "metadata": {
    "execution": {
     "iopub.execute_input": "2020-11-14T04:29:21.055219Z",
     "iopub.status.busy": "2020-11-14T04:29:21.054445Z",
     "iopub.status.idle": "2020-11-14T04:29:23.320071Z",
     "shell.execute_reply": "2020-11-14T04:29:23.319711Z"
    },
    "papermill": {
     "duration": 2.286577,
     "end_time": "2020-11-14T04:29:23.320153",
     "exception": false,
     "start_time": "2020-11-14T04:29:21.033576",
     "status": "completed"
    },
    "tags": []
   },
   "outputs": [
    {
     "name": "stdout",
     "output_type": "stream",
     "text": [
      "Model: \"transformers_gp_t2\"\n",
      "_________________________________________________________________\n",
      "Layer (type)                 Output Shape              Param #   \n",
      "=================================================================\n",
      "tfgp_t2lm_head_model (TFGPT2 multiple                  124439808 \n",
      "=================================================================\n",
      "Total params: 124,439,808\n",
      "Trainable params: 124,439,808\n",
      "Non-trainable params: 0\n",
      "_________________________________________________________________\n"
     ]
    }
   ],
   "source": [
    "model.build(input_shape=(None, config.context_size))\n",
    "model.summary()"
   ]
  },
  {
   "cell_type": "code",
   "execution_count": 22,
   "metadata": {
    "execution": {
     "iopub.execute_input": "2020-11-14T04:29:23.365196Z",
     "iopub.status.busy": "2020-11-14T04:29:23.364823Z",
     "iopub.status.idle": "2020-11-16T11:58:53.281119Z",
     "shell.execute_reply": "2020-11-16T11:58:53.281416Z"
    },
    "papermill": {
     "duration": 199769.942345,
     "end_time": "2020-11-16T11:58:53.281509",
     "exception": false,
     "start_time": "2020-11-14T04:29:23.339164",
     "status": "completed"
    },
    "tags": []
   },
   "outputs": [
    {
     "name": "stdout",
     "output_type": "stream",
     "text": [
      "Epoch 1/10\n"
     ]
    },
    {
     "name": "stderr",
     "output_type": "stream",
     "text": [
      "/usr/local/lib/python3.6/dist-packages/tensorflow/python/framework/indexed_slices.py:433: UserWarning: Converting sparse IndexedSlices to a dense Tensor of unknown shape. This may consume a large amount of memory.\n",
      "  \"Converting sparse IndexedSlices to a dense Tensor of unknown shape. \"\n"
     ]
    },
    {
     "name": "stdout",
     "output_type": "stream",
     "text": [
      "57009/57009 - 20000s - loss: 4.3845 - val_loss: 3.5987\n",
      "Epoch 2/10\n",
      "57009/57009 - 19927s - loss: 3.5279 - val_loss: 3.3249\n",
      "Epoch 3/10\n",
      "57009/57009 - 19914s - loss: 3.3099 - val_loss: 3.2005\n",
      "Epoch 4/10\n",
      "57009/57009 - 19909s - loss: 3.1821 - val_loss: 3.1293\n",
      "Epoch 5/10\n",
      "57009/57009 - 20018s - loss: 3.0906 - val_loss: 3.0795\n",
      "Epoch 6/10\n",
      "57009/57009 - 20001s - loss: 3.0180 - val_loss: 3.0466\n",
      "Epoch 7/10\n",
      "57009/57009 - 19978s - loss: 2.9572 - val_loss: 3.0201\n",
      "Epoch 8/10\n",
      "57009/57009 - 19936s - loss: 2.9038 - val_loss: 3.0005\n",
      "Epoch 9/10\n",
      "57009/57009 - 19980s - loss: 2.8568 - val_loss: 2.9823\n",
      "Epoch 10/10\n",
      "57009/57009 - 20002s - loss: 2.8162 - val_loss: 2.9715\n"
     ]
    }
   ],
   "source": [
    "train(model, train_dataset, valid_dataset, epochs, warmup_steps, num_train_steps, max_learning_rate)"
   ]
  },
  {
   "cell_type": "code",
   "execution_count": 23,
   "metadata": {
    "execution": {
     "iopub.execute_input": "2020-11-16T11:58:53.329224Z",
     "iopub.status.busy": "2020-11-16T11:58:53.328863Z",
     "iopub.status.idle": "2020-11-16T11:59:07.953621Z",
     "shell.execute_reply": "2020-11-16T11:59:07.955655Z"
    },
    "papermill": {
     "duration": 14.652451,
     "end_time": "2020-11-16T11:59:07.956112",
     "exception": false,
     "start_time": "2020-11-16T11:58:53.303661",
     "status": "completed"
    },
    "tags": []
   },
   "outputs": [
    {
     "name": "stdout",
     "output_type": "stream",
     "text": [
      "{'loss': 2.9715433, 'perplexity': 19.522026, 'num_batches': 119, 'num_tokens': 243712}\n",
      "Validation PPL: 19.522026\n"
     ]
    }
   ],
   "source": [
    "from tfchat.eval import perplexity\n",
    "\n",
    "print(\"Validation PPL:\", perplexity(model, valid_dataset))"
   ]
  },
  {
   "cell_type": "code",
   "execution_count": 24,
   "metadata": {
    "execution": {
     "iopub.execute_input": "2020-11-16T11:59:08.044030Z",
     "iopub.status.busy": "2020-11-16T11:59:08.043643Z",
     "iopub.status.idle": "2020-11-16T11:59:08.387543Z",
     "shell.execute_reply": "2020-11-16T11:59:08.387167Z"
    },
    "papermill": {
     "duration": 0.369779,
     "end_time": "2020-11-16T11:59:08.387626",
     "exception": false,
     "start_time": "2020-11-16T11:59:08.017847",
     "status": "completed"
    },
    "tags": []
   },
   "outputs": [],
   "source": [
    "from tfchat.utils import save_model\n",
    "\n",
    "save_model(save_model_dir, model, config)"
   ]
  },
  {
   "cell_type": "code",
   "execution_count": null,
   "metadata": {
    "papermill": {
     "duration": 0.022635,
     "end_time": "2020-11-16T11:59:08.433280",
     "exception": false,
     "start_time": "2020-11-16T11:59:08.410645",
     "status": "completed"
    },
    "tags": []
   },
   "outputs": [],
   "source": []
  }
 ],
 "metadata": {
  "celltoolbar": "Tags",
  "kernelspec": {
   "display_name": "Python 3",
   "language": "python",
   "name": "python3"
  },
  "language_info": {
   "codemirror_mode": {
    "name": "ipython",
    "version": 3
   },
   "file_extension": ".py",
   "mimetype": "text/x-python",
   "name": "python",
   "nbconvert_exporter": "python",
   "pygments_lexer": "ipython3",
   "version": "3.8.2"
  },
  "papermill": {
   "duration": 200357.541093,
   "end_time": "2020-11-16T11:59:10.178835",
   "environment_variables": {},
   "exception": null,
   "input_path": "tfmodel_train_scratch.ipynb",
   "output_path": "output/tfmodel_train_scratch-wikitext_103_raw-transformers-lr_e4.ipynb",
   "parameters": {
    "model_type": "transformers",
    "save_model_dir": "tfchat_transformers-lr_e4"
   },
   "start_time": "2020-11-14T04:19:52.637742",
   "version": "2.1.3"
  }
 },
 "nbformat": 4,
 "nbformat_minor": 4
}
