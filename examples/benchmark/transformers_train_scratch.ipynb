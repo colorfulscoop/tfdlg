{
 "cells": [
  {
   "cell_type": "markdown",
   "metadata": {},
   "source": [
    "# Benchmark Transformers GPT2"
   ]
  },
  {
   "cell_type": "code",
   "execution_count": null,
   "metadata": {
    "tags": [
     "parameters"
    ]
   },
   "outputs": [],
   "source": [
    "# These parameters can be injected from Papermill\n",
    "train_file = \"wikitext-2/wiki.train.tokens\"\n",
    "valid_file = \"wikitext-2/wiki.valid.tokens\"\n",
    "epochs = 10\n",
    "warmup_steps = 1000"
   ]
  },
  {
   "cell_type": "markdown",
   "metadata": {},
   "source": [
    "## Install Library"
   ]
  },
  {
   "cell_type": "code",
   "execution_count": null,
   "metadata": {},
   "outputs": [],
   "source": [
    "!pip install transformers==3.4.0"
   ]
  },
  {
   "cell_type": "markdown",
   "metadata": {},
   "source": [
    "Download training script"
   ]
  },
  {
   "cell_type": "code",
   "execution_count": null,
   "metadata": {},
   "outputs": [],
   "source": [
    "import urllib\n",
    "\n",
    "url = \"https://raw.githubusercontent.com/huggingface/transformers/v3.4.0/examples/language-modeling/run_language_modeling.py\"\n",
    "urllib.request.urlretrieve(url, \"run_language_modeling.py\")"
   ]
  },
  {
   "cell_type": "markdown",
   "metadata": {},
   "source": [
    "## Train model"
   ]
  },
  {
   "cell_type": "code",
   "execution_count": null,
   "metadata": {},
   "outputs": [],
   "source": [
    "# Train model from scratch\n",
    "!python run_language_modeling.py \\\n",
    "    --output_dir=output \\\n",
    "    --model_type=gpt2 \\\n",
    "    --tokenizer_name=gpt2 \\\n",
    "    --do_train \\\n",
    "    --train_data_file={train_file} \\\n",
    "    --do_eval \\\n",
    "    --eval_data_file={valid_file} \\\n",
    "    --per_device_train_batch_size=2 \\\n",
    "    --num_train_epochs={epochs} \\\n",
    "    --evaluate_during_training \\\n",
    "    --load_best_model_at_end \\\n",
    "    --disable_tqdm=False \\\n",
    "    --warmup_steps={warmup_steps} \\\n",
    "    --output_dir=transformers_output"
   ]
  }
 ],
 "metadata": {
  "celltoolbar": "Tags",
  "kernelspec": {
   "display_name": "Python 3",
   "language": "python",
   "name": "python3"
  },
  "language_info": {
   "codemirror_mode": {
    "name": "ipython",
    "version": 3
   },
   "file_extension": ".py",
   "mimetype": "text/x-python",
   "name": "python",
   "nbconvert_exporter": "python",
   "pygments_lexer": "ipython3",
   "version": "3.7.7"
  }
 },
 "nbformat": 4,
 "nbformat_minor": 4
}
