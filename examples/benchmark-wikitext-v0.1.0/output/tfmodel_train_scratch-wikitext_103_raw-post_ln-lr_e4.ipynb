{
 "cells": [
  {
   "cell_type": "markdown",
   "metadata": {
    "papermill": {
     "duration": 0.017531,
     "end_time": "2021-01-10T15:55:19.437237",
     "exception": false,
     "start_time": "2021-01-10T15:55:19.419706",
     "status": "completed"
    },
    "tags": []
   },
   "source": [
    "## Parameter"
   ]
  },
  {
   "cell_type": "code",
   "execution_count": 1,
   "metadata": {
    "execution": {
     "iopub.execute_input": "2021-01-10T15:55:19.466157Z",
     "iopub.status.busy": "2021-01-10T15:55:19.465745Z",
     "iopub.status.idle": "2021-01-10T15:55:19.467646Z",
     "shell.execute_reply": "2021-01-10T15:55:19.467274Z"
    },
    "papermill": {
     "duration": 0.017508,
     "end_time": "2021-01-10T15:55:19.467726",
     "exception": false,
     "start_time": "2021-01-10T15:55:19.450218",
     "status": "completed"
    },
    "tags": [
     "parameters"
    ]
   },
   "outputs": [],
   "source": [
    "# These parameters can be injected from Papermill\n",
    "model_type = \"pre_ln\"\n",
    "train_file = \"wikitext-103-raw/wiki.train.raw\"\n",
    "valid_file = \"wikitext-103-raw/wiki.valid.raw\"\n",
    "epochs = 10\n",
    "batch_size = 2\n",
    "max_learning_rate = 1e-4\n",
    "warmup_steps = 0\n",
    "save_model_dir = \"tfchat_model\"\n",
    "clipnorm = 1.0\n",
    "fp16 = False\n",
    "config_cls = \"tfchat.configs.GPT2SmallConfig\""
   ]
  },
  {
   "cell_type": "code",
   "execution_count": 2,
   "metadata": {
    "execution": {
     "iopub.execute_input": "2021-01-10T15:55:19.494704Z",
     "iopub.status.busy": "2021-01-10T15:55:19.494341Z",
     "iopub.status.idle": "2021-01-10T15:55:19.496107Z",
     "shell.execute_reply": "2021-01-10T15:55:19.495802Z"
    },
    "papermill": {
     "duration": 0.016088,
     "end_time": "2021-01-10T15:55:19.496181",
     "exception": false,
     "start_time": "2021-01-10T15:55:19.480093",
     "status": "completed"
    },
    "tags": [
     "injected-parameters"
    ]
   },
   "outputs": [],
   "source": [
    "# Parameters\n",
    "model_type = \"post_ln\"\n",
    "save_model_dir = \"tfchat_model-post_ln-lr_e4\"\n"
   ]
  },
  {
   "cell_type": "code",
   "execution_count": 3,
   "metadata": {
    "execution": {
     "iopub.execute_input": "2021-01-10T15:55:19.522768Z",
     "iopub.status.busy": "2021-01-10T15:55:19.522405Z",
     "iopub.status.idle": "2021-01-10T15:55:19.524230Z",
     "shell.execute_reply": "2021-01-10T15:55:19.523874Z"
    },
    "papermill": {
     "duration": 0.015862,
     "end_time": "2021-01-10T15:55:19.524301",
     "exception": false,
     "start_time": "2021-01-10T15:55:19.508439",
     "status": "completed"
    },
    "tags": []
   },
   "outputs": [],
   "source": [
    "# Assert parameters\n",
    "assert model_type in [\"pre_ln\", \"post_ln\", \"min_gpt\", \"transformers\"]"
   ]
  },
  {
   "cell_type": "markdown",
   "metadata": {
    "papermill": {
     "duration": 0.012356,
     "end_time": "2021-01-10T15:55:19.549103",
     "exception": false,
     "start_time": "2021-01-10T15:55:19.536747",
     "status": "completed"
    },
    "tags": []
   },
   "source": [
    "## Installation"
   ]
  },
  {
   "cell_type": "code",
   "execution_count": 4,
   "metadata": {
    "execution": {
     "iopub.execute_input": "2021-01-10T15:55:19.576821Z",
     "iopub.status.busy": "2021-01-10T15:55:19.576459Z",
     "iopub.status.idle": "2021-01-10T15:55:24.611230Z",
     "shell.execute_reply": "2021-01-10T15:55:24.609125Z"
    },
    "papermill": {
     "duration": 5.050274,
     "end_time": "2021-01-10T15:55:24.611650",
     "exception": false,
     "start_time": "2021-01-10T15:55:19.561376",
     "status": "completed"
    },
    "tags": []
   },
   "outputs": [
    {
     "name": "stdout",
     "output_type": "stream",
     "text": [
      "Reading package lists... Done\n",
      "Building dependency tree       \n",
      "Reading state information... Done\n",
      "git is already the newest version (1:2.17.1-1ubuntu0.7).\n",
      "0 upgraded, 0 newly installed, 0 to remove and 30 not upgraded.\n",
      "Collecting git+https://github.com/noriyukipy/tfchat@fp16\n",
      "  Cloning https://github.com/noriyukipy/tfchat (to revision fp16) to /tmp/pip-req-build-71kx8l_d\n",
      "Requirement already satisfied (use --upgrade to upgrade): tfchat==0.1.0 from git+https://github.com/noriyukipy/tfchat@fp16 in /usr/local/lib/python3.6/dist-packages\n",
      "Requirement already satisfied: tensorflow~=2.0 in /usr/local/lib/python3.6/dist-packages (from tfchat==0.1.0) (2.3.1)\n",
      "Requirement already satisfied: sentencepiece==0.1.91 in /usr/local/lib/python3.6/dist-packages (from tfchat==0.1.0) (0.1.91)\n",
      "Requirement already satisfied: scipy~=1.5.0 in /usr/local/lib/python3.6/dist-packages (from tfchat==0.1.0) (1.5.4)\n",
      "Requirement already satisfied: pydantic==1.6.1 in /usr/local/lib/python3.6/dist-packages (from tfchat==0.1.0) (1.6.1)\n",
      "Requirement already satisfied: wrapt>=1.11.1 in /usr/local/lib/python3.6/dist-packages (from tensorflow~=2.0->tfchat==0.1.0) (1.12.1)\n",
      "Requirement already satisfied: tensorflow-estimator<2.4.0,>=2.3.0 in /usr/local/lib/python3.6/dist-packages (from tensorflow~=2.0->tfchat==0.1.0) (2.3.0)\n",
      "Requirement already satisfied: wheel>=0.26 in /usr/lib/python3/dist-packages (from tensorflow~=2.0->tfchat==0.1.0) (0.30.0)\n",
      "Requirement already satisfied: numpy<1.19.0,>=1.16.0 in /usr/local/lib/python3.6/dist-packages (from tensorflow~=2.0->tfchat==0.1.0) (1.18.5)\n",
      "Requirement already satisfied: absl-py>=0.7.0 in /usr/local/lib/python3.6/dist-packages (from tensorflow~=2.0->tfchat==0.1.0) (0.10.0)\n",
      "Requirement already satisfied: tensorboard<3,>=2.3.0 in /usr/local/lib/python3.6/dist-packages (from tensorflow~=2.0->tfchat==0.1.0) (2.3.0)\n",
      "Requirement already satisfied: protobuf>=3.9.2 in /usr/local/lib/python3.6/dist-packages (from tensorflow~=2.0->tfchat==0.1.0) (3.13.0)\n",
      "Requirement already satisfied: h5py<2.11.0,>=2.10.0 in /usr/local/lib/python3.6/dist-packages (from tensorflow~=2.0->tfchat==0.1.0) (2.10.0)\n",
      "Requirement already satisfied: six>=1.12.0 in /usr/local/lib/python3.6/dist-packages (from tensorflow~=2.0->tfchat==0.1.0) (1.15.0)\n",
      "Requirement already satisfied: gast==0.3.3 in /usr/local/lib/python3.6/dist-packages (from tensorflow~=2.0->tfchat==0.1.0) (0.3.3)\n",
      "Requirement already satisfied: opt-einsum>=2.3.2 in /usr/local/lib/python3.6/dist-packages (from tensorflow~=2.0->tfchat==0.1.0) (3.3.0)\n",
      "Requirement already satisfied: google-pasta>=0.1.8 in /usr/local/lib/python3.6/dist-packages (from tensorflow~=2.0->tfchat==0.1.0) (0.2.0)\n",
      "Requirement already satisfied: grpcio>=1.8.6 in /usr/local/lib/python3.6/dist-packages (from tensorflow~=2.0->tfchat==0.1.0) (1.32.0)\n",
      "Requirement already satisfied: astunparse==1.6.3 in /usr/local/lib/python3.6/dist-packages (from tensorflow~=2.0->tfchat==0.1.0) (1.6.3)\n",
      "Requirement already satisfied: termcolor>=1.1.0 in /usr/local/lib/python3.6/dist-packages (from tensorflow~=2.0->tfchat==0.1.0) (1.1.0)\n",
      "Requirement already satisfied: keras-preprocessing<1.2,>=1.1.1 in /usr/local/lib/python3.6/dist-packages (from tensorflow~=2.0->tfchat==0.1.0) (1.1.2)\n",
      "Requirement already satisfied: dataclasses>=0.6; python_version < \"3.7\" in /usr/local/lib/python3.6/dist-packages (from pydantic==1.6.1->tfchat==0.1.0) (0.8)\n",
      "Requirement already satisfied: google-auth-oauthlib<0.5,>=0.4.1 in /usr/local/lib/python3.6/dist-packages (from tensorboard<3,>=2.3.0->tensorflow~=2.0->tfchat==0.1.0) (0.4.1)\n",
      "Requirement already satisfied: markdown>=2.6.8 in /usr/local/lib/python3.6/dist-packages (from tensorboard<3,>=2.3.0->tensorflow~=2.0->tfchat==0.1.0) (3.2.2)\n",
      "Requirement already satisfied: google-auth<2,>=1.6.3 in /usr/local/lib/python3.6/dist-packages (from tensorboard<3,>=2.3.0->tensorflow~=2.0->tfchat==0.1.0) (1.22.0)\n",
      "Requirement already satisfied: tensorboard-plugin-wit>=1.6.0 in /usr/local/lib/python3.6/dist-packages (from tensorboard<3,>=2.3.0->tensorflow~=2.0->tfchat==0.1.0) (1.7.0)\n",
      "Requirement already satisfied: werkzeug>=0.11.15 in /usr/local/lib/python3.6/dist-packages (from tensorboard<3,>=2.3.0->tensorflow~=2.0->tfchat==0.1.0) (1.0.1)\n",
      "Requirement already satisfied: requests<3,>=2.21.0 in /usr/local/lib/python3.6/dist-packages (from tensorboard<3,>=2.3.0->tensorflow~=2.0->tfchat==0.1.0) (2.24.0)\n",
      "Requirement already satisfied: setuptools>=41.0.0 in /usr/local/lib/python3.6/dist-packages (from tensorboard<3,>=2.3.0->tensorflow~=2.0->tfchat==0.1.0) (50.3.0)\n",
      "Requirement already satisfied: requests-oauthlib>=0.7.0 in /usr/local/lib/python3.6/dist-packages (from google-auth-oauthlib<0.5,>=0.4.1->tensorboard<3,>=2.3.0->tensorflow~=2.0->tfchat==0.1.0) (1.3.0)\n",
      "Requirement already satisfied: importlib-metadata; python_version < \"3.8\" in /usr/local/lib/python3.6/dist-packages (from markdown>=2.6.8->tensorboard<3,>=2.3.0->tensorflow~=2.0->tfchat==0.1.0) (2.0.0)\n",
      "Requirement already satisfied: aiohttp<4.0.0dev,>=3.6.2; python_version >= \"3.6\" in /usr/local/lib/python3.6/dist-packages (from google-auth<2,>=1.6.3->tensorboard<3,>=2.3.0->tensorflow~=2.0->tfchat==0.1.0) (3.6.2)\n",
      "Requirement already satisfied: cachetools<5.0,>=2.0.0 in /usr/local/lib/python3.6/dist-packages (from google-auth<2,>=1.6.3->tensorboard<3,>=2.3.0->tensorflow~=2.0->tfchat==0.1.0) (4.1.1)\n",
      "Requirement already satisfied: pyasn1-modules>=0.2.1 in /usr/local/lib/python3.6/dist-packages (from google-auth<2,>=1.6.3->tensorboard<3,>=2.3.0->tensorflow~=2.0->tfchat==0.1.0) (0.2.8)\n",
      "Requirement already satisfied: rsa<5,>=3.1.4; python_version >= \"3.5\" in /usr/local/lib/python3.6/dist-packages (from google-auth<2,>=1.6.3->tensorboard<3,>=2.3.0->tensorflow~=2.0->tfchat==0.1.0) (4.6)\n",
      "Requirement already satisfied: certifi>=2017.4.17 in /usr/local/lib/python3.6/dist-packages (from requests<3,>=2.21.0->tensorboard<3,>=2.3.0->tensorflow~=2.0->tfchat==0.1.0) (2020.6.20)\n",
      "Requirement already satisfied: urllib3!=1.25.0,!=1.25.1,<1.26,>=1.21.1 in /usr/local/lib/python3.6/dist-packages (from requests<3,>=2.21.0->tensorboard<3,>=2.3.0->tensorflow~=2.0->tfchat==0.1.0) (1.25.10)\n",
      "Requirement already satisfied: idna<3,>=2.5 in /usr/lib/python3/dist-packages (from requests<3,>=2.21.0->tensorboard<3,>=2.3.0->tensorflow~=2.0->tfchat==0.1.0) (2.6)\n",
      "Requirement already satisfied: chardet<4,>=3.0.2 in /usr/local/lib/python3.6/dist-packages (from requests<3,>=2.21.0->tensorboard<3,>=2.3.0->tensorflow~=2.0->tfchat==0.1.0) (3.0.4)\n",
      "Requirement already satisfied: oauthlib>=3.0.0 in /usr/local/lib/python3.6/dist-packages (from requests-oauthlib>=0.7.0->google-auth-oauthlib<0.5,>=0.4.1->tensorboard<3,>=2.3.0->tensorflow~=2.0->tfchat==0.1.0) (3.1.0)\n",
      "Requirement already satisfied: zipp>=0.5 in /usr/local/lib/python3.6/dist-packages (from importlib-metadata; python_version < \"3.8\"->markdown>=2.6.8->tensorboard<3,>=2.3.0->tensorflow~=2.0->tfchat==0.1.0) (3.2.0)\n",
      "Requirement already satisfied: idna-ssl>=1.0; python_version < \"3.7\" in /usr/local/lib/python3.6/dist-packages (from aiohttp<4.0.0dev,>=3.6.2; python_version >= \"3.6\"->google-auth<2,>=1.6.3->tensorboard<3,>=2.3.0->tensorflow~=2.0->tfchat==0.1.0) (1.1.0)\n",
      "Requirement already satisfied: yarl<2.0,>=1.0 in /usr/local/lib/python3.6/dist-packages (from aiohttp<4.0.0dev,>=3.6.2; python_version >= \"3.6\"->google-auth<2,>=1.6.3->tensorboard<3,>=2.3.0->tensorflow~=2.0->tfchat==0.1.0) (1.6.0)\n",
      "Requirement already satisfied: async-timeout<4.0,>=3.0 in /usr/local/lib/python3.6/dist-packages (from aiohttp<4.0.0dev,>=3.6.2; python_version >= \"3.6\"->google-auth<2,>=1.6.3->tensorboard<3,>=2.3.0->tensorflow~=2.0->tfchat==0.1.0) (3.0.1)\n",
      "Requirement already satisfied: multidict<5.0,>=4.5 in /usr/local/lib/python3.6/dist-packages (from aiohttp<4.0.0dev,>=3.6.2; python_version >= \"3.6\"->google-auth<2,>=1.6.3->tensorboard<3,>=2.3.0->tensorflow~=2.0->tfchat==0.1.0) (4.7.6)\n",
      "Requirement already satisfied: typing-extensions>=3.6.5; python_version < \"3.7\" in /usr/local/lib/python3.6/dist-packages (from aiohttp<4.0.0dev,>=3.6.2; python_version >= \"3.6\"->google-auth<2,>=1.6.3->tensorboard<3,>=2.3.0->tensorflow~=2.0->tfchat==0.1.0) (3.7.4.3)\n",
      "Requirement already satisfied: attrs>=17.3.0 in /usr/local/lib/python3.6/dist-packages (from aiohttp<4.0.0dev,>=3.6.2; python_version >= \"3.6\"->google-auth<2,>=1.6.3->tensorboard<3,>=2.3.0->tensorflow~=2.0->tfchat==0.1.0) (20.2.0)\n",
      "Requirement already satisfied: pyasn1<0.5.0,>=0.4.6 in /usr/local/lib/python3.6/dist-packages (from pyasn1-modules>=0.2.1->google-auth<2,>=1.6.3->tensorboard<3,>=2.3.0->tensorflow~=2.0->tfchat==0.1.0) (0.4.8)\n",
      "Building wheels for collected packages: tfchat\n",
      "  Building wheel for tfchat (setup.py) ... \u001b[?25ldone\n",
      "\u001b[?25h  Created wheel for tfchat: filename=tfchat-0.1.0-py3-none-any.whl size=14227 sha256=27eb4064ccc85c2fc557bc29e79ca4cdc8180f88f2ad403a887672cd1e542730\n",
      "  Stored in directory: /tmp/pip-ephem-wheel-cache-tabdckxh/wheels/f2/0d/98/190a24c7a12d4602852fb756e450d612cee0e0bf98d57f128d\n",
      "Successfully built tfchat\n",
      "\u001b[33mWARNING: You are using pip version 20.2.3; however, version 20.3.3 is available.\n",
      "You should consider upgrading via the '/usr/bin/python3 -m pip install --upgrade pip' command.\u001b[0m\n"
     ]
    }
   ],
   "source": [
    "!apt install -y git\n",
    "!pip install git+https://github.com/noriyukipy/tfchat@fp16"
   ]
  },
  {
   "cell_type": "markdown",
   "metadata": {
    "papermill": {
     "duration": 0.019632,
     "end_time": "2021-01-10T15:55:24.686494",
     "exception": false,
     "start_time": "2021-01-10T15:55:24.666862",
     "status": "completed"
    },
    "tags": []
   },
   "source": [
    "## Configure GPU"
   ]
  },
  {
   "cell_type": "code",
   "execution_count": 5,
   "metadata": {
    "execution": {
     "iopub.execute_input": "2021-01-10T15:55:24.722412Z",
     "iopub.status.busy": "2021-01-10T15:55:24.721946Z",
     "iopub.status.idle": "2021-01-10T15:55:27.198909Z",
     "shell.execute_reply": "2021-01-10T15:55:27.198559Z"
    },
    "papermill": {
     "duration": 2.495989,
     "end_time": "2021-01-10T15:55:27.198993",
     "exception": false,
     "start_time": "2021-01-10T15:55:24.703004",
     "status": "completed"
    },
    "tags": []
   },
   "outputs": [],
   "source": [
    "from tfchat.utils import set_memory_growth\n",
    "from tfchat.utils import set_mixed_precision_policy"
   ]
  },
  {
   "cell_type": "code",
   "execution_count": 6,
   "metadata": {
    "execution": {
     "iopub.execute_input": "2021-01-10T15:55:27.814557Z",
     "iopub.status.busy": "2021-01-10T15:55:27.814162Z",
     "iopub.status.idle": "2021-01-10T15:55:27.815667Z",
     "shell.execute_reply": "2021-01-10T15:55:27.815967Z"
    },
    "papermill": {
     "duration": 0.599915,
     "end_time": "2021-01-10T15:55:27.816068",
     "exception": false,
     "start_time": "2021-01-10T15:55:27.216153",
     "status": "completed"
    },
    "tags": []
   },
   "outputs": [
    {
     "name": "stdout",
     "output_type": "stream",
     "text": [
      "Set memory growth to PhysicalDevice(name='/physical_device:GPU:0', device_type='GPU')\n"
     ]
    }
   ],
   "source": [
    "set_memory_growth()"
   ]
  },
  {
   "cell_type": "code",
   "execution_count": 7,
   "metadata": {
    "execution": {
     "iopub.execute_input": "2021-01-10T15:55:27.852860Z",
     "iopub.status.busy": "2021-01-10T15:55:27.852488Z",
     "iopub.status.idle": "2021-01-10T15:55:27.854461Z",
     "shell.execute_reply": "2021-01-10T15:55:27.854101Z"
    },
    "papermill": {
     "duration": 0.021053,
     "end_time": "2021-01-10T15:55:27.854538",
     "exception": false,
     "start_time": "2021-01-10T15:55:27.833485",
     "status": "completed"
    },
    "tags": []
   },
   "outputs": [],
   "source": [
    "if fp16:\n",
    "    set_mixed_precision_policy()"
   ]
  },
  {
   "cell_type": "markdown",
   "metadata": {
    "papermill": {
     "duration": 0.016829,
     "end_time": "2021-01-10T15:55:27.888478",
     "exception": false,
     "start_time": "2021-01-10T15:55:27.871649",
     "status": "completed"
    },
    "tags": []
   },
   "source": [
    "## Setup tokenizer"
   ]
  },
  {
   "cell_type": "code",
   "execution_count": 8,
   "metadata": {
    "execution": {
     "iopub.execute_input": "2021-01-10T15:55:27.925402Z",
     "iopub.status.busy": "2021-01-10T15:55:27.925029Z",
     "iopub.status.idle": "2021-01-10T15:55:29.301909Z",
     "shell.execute_reply": "2021-01-10T15:55:29.300848Z"
    },
    "papermill": {
     "duration": 1.396761,
     "end_time": "2021-01-10T15:55:29.302148",
     "exception": false,
     "start_time": "2021-01-10T15:55:27.905387",
     "status": "completed"
    },
    "tags": []
   },
   "outputs": [
    {
     "name": "stdout",
     "output_type": "stream",
     "text": [
      "Requirement already satisfied: transformers==3.4.0 in /usr/local/lib/python3.6/dist-packages (3.4.0)\n",
      "Requirement already satisfied: dataclasses; python_version < \"3.7\" in /usr/local/lib/python3.6/dist-packages (from transformers==3.4.0) (0.8)\n",
      "Requirement already satisfied: sentencepiece!=0.1.92 in /usr/local/lib/python3.6/dist-packages (from transformers==3.4.0) (0.1.91)\n",
      "Requirement already satisfied: regex!=2019.12.17 in /usr/local/lib/python3.6/dist-packages (from transformers==3.4.0) (2020.11.13)\n",
      "Requirement already satisfied: tqdm>=4.27 in /usr/local/lib/python3.6/dist-packages (from transformers==3.4.0) (4.53.0)\n",
      "Requirement already satisfied: numpy in /usr/local/lib/python3.6/dist-packages (from transformers==3.4.0) (1.18.5)\n",
      "Requirement already satisfied: sacremoses in /usr/local/lib/python3.6/dist-packages (from transformers==3.4.0) (0.0.43)\n",
      "Requirement already satisfied: protobuf in /usr/local/lib/python3.6/dist-packages (from transformers==3.4.0) (3.13.0)\n",
      "Requirement already satisfied: packaging in /usr/local/lib/python3.6/dist-packages (from transformers==3.4.0) (20.4)\n",
      "Requirement already satisfied: requests in /usr/local/lib/python3.6/dist-packages (from transformers==3.4.0) (2.24.0)\n",
      "Requirement already satisfied: tokenizers==0.9.2 in /usr/local/lib/python3.6/dist-packages (from transformers==3.4.0) (0.9.2)\n",
      "Requirement already satisfied: filelock in /usr/local/lib/python3.6/dist-packages (from transformers==3.4.0) (3.0.12)\n",
      "Requirement already satisfied: click in /usr/local/lib/python3.6/dist-packages (from sacremoses->transformers==3.4.0) (7.1.2)\n",
      "Requirement already satisfied: joblib in /usr/local/lib/python3.6/dist-packages (from sacremoses->transformers==3.4.0) (0.17.0)\n",
      "Requirement already satisfied: six in /usr/local/lib/python3.6/dist-packages (from sacremoses->transformers==3.4.0) (1.15.0)\n",
      "Requirement already satisfied: setuptools in /usr/local/lib/python3.6/dist-packages (from protobuf->transformers==3.4.0) (50.3.0)\n",
      "Requirement already satisfied: pyparsing>=2.0.2 in /usr/local/lib/python3.6/dist-packages (from packaging->transformers==3.4.0) (2.4.7)\n",
      "Requirement already satisfied: idna<3,>=2.5 in /usr/lib/python3/dist-packages (from requests->transformers==3.4.0) (2.6)\n",
      "Requirement already satisfied: chardet<4,>=3.0.2 in /usr/local/lib/python3.6/dist-packages (from requests->transformers==3.4.0) (3.0.4)\n",
      "Requirement already satisfied: urllib3!=1.25.0,!=1.25.1,<1.26,>=1.21.1 in /usr/local/lib/python3.6/dist-packages (from requests->transformers==3.4.0) (1.25.10)\n",
      "Requirement already satisfied: certifi>=2017.4.17 in /usr/local/lib/python3.6/dist-packages (from requests->transformers==3.4.0) (2020.6.20)\n",
      "\u001b[33mWARNING: You are using pip version 20.2.3; however, version 20.3.3 is available.\n",
      "You should consider upgrading via the '/usr/bin/python3 -m pip install --upgrade pip' command.\u001b[0m\n",
      "Enabling notebook extension jupyter-js-widgets/extension...\n",
      "      - Validating: \u001b[32mOK\u001b[0m\n"
     ]
    }
   ],
   "source": [
    "# Install transformers by HuggingFace to use GPT2 tokenizer\n",
    "! pip install transformers==3.4.0\n",
    "# Enable widgetsnbextention to avoid the following error when running GPT2.from_pretrained method\n",
    "#     ImportError: IProgress not found. Please update jupyter and ipywidgets.\n",
    "! jupyter nbextension enable --py widgetsnbextension"
   ]
  },
  {
   "cell_type": "code",
   "execution_count": 9,
   "metadata": {
    "execution": {
     "iopub.execute_input": "2021-01-10T15:55:29.342555Z",
     "iopub.status.busy": "2021-01-10T15:55:29.342162Z",
     "iopub.status.idle": "2021-01-10T15:55:31.139127Z",
     "shell.execute_reply": "2021-01-10T15:55:31.138753Z"
    },
    "papermill": {
     "duration": 1.817109,
     "end_time": "2021-01-10T15:55:31.139209",
     "exception": false,
     "start_time": "2021-01-10T15:55:29.322100",
     "status": "completed"
    },
    "tags": []
   },
   "outputs": [],
   "source": [
    "# setup tokenizer\n",
    "from transformers import GPT2Tokenizer\n",
    "\n",
    "tokenizer = GPT2Tokenizer.from_pretrained(\"gpt2\")"
   ]
  },
  {
   "cell_type": "markdown",
   "metadata": {
    "papermill": {
     "duration": 0.017488,
     "end_time": "2021-01-10T15:55:31.174502",
     "exception": false,
     "start_time": "2021-01-10T15:55:31.157014",
     "status": "completed"
    },
    "tags": []
   },
   "source": [
    "## Prepare model config"
   ]
  },
  {
   "cell_type": "code",
   "execution_count": 10,
   "metadata": {
    "execution": {
     "iopub.execute_input": "2021-01-10T15:55:31.212074Z",
     "iopub.status.busy": "2021-01-10T15:55:31.211708Z",
     "iopub.status.idle": "2021-01-10T15:55:31.369472Z",
     "shell.execute_reply": "2021-01-10T15:55:31.368930Z"
    },
    "papermill": {
     "duration": 0.17772,
     "end_time": "2021-01-10T15:55:31.369588",
     "exception": false,
     "start_time": "2021-01-10T15:55:31.191868",
     "status": "completed"
    },
    "tags": []
   },
   "outputs": [],
   "source": [
    "from tfchat.configs import GPT2SmallConfig\n",
    "from tfchat.utils import import_class\n",
    "\n",
    "config = import_class(config_cls)()\n",
    "\n",
    "# Set the larger number of vocab size than 33,278, which is the vocab size of Wikitext-2\n",
    "config.vocab_size = tokenizer.vocab_size"
   ]
  },
  {
   "cell_type": "code",
   "execution_count": 11,
   "metadata": {
    "execution": {
     "iopub.execute_input": "2021-01-10T15:55:31.418665Z",
     "iopub.status.busy": "2021-01-10T15:55:31.418267Z",
     "iopub.status.idle": "2021-01-10T15:55:31.420570Z",
     "shell.execute_reply": "2021-01-10T15:55:31.420240Z"
    },
    "papermill": {
     "duration": 0.028205,
     "end_time": "2021-01-10T15:55:31.420645",
     "exception": false,
     "start_time": "2021-01-10T15:55:31.392440",
     "status": "completed"
    },
    "tags": []
   },
   "outputs": [
    {
     "data": {
      "text/plain": [
       "GPT2SmallConfig(num_layers=12, d_model=768, num_heads=12, d_ff=3072, vocab_size=50257, context_size=1024, attention_dropout_rate=0.1, residual_dropout_rate=0.1, embedding_dropout_rate=0.1, activation='gelu', kernel_initializer='he_normal', epsilon=1e-06)"
      ]
     },
     "execution_count": 11,
     "metadata": {},
     "output_type": "execute_result"
    }
   ],
   "source": [
    "config"
   ]
  },
  {
   "cell_type": "markdown",
   "metadata": {
    "papermill": {
     "duration": 0.017704,
     "end_time": "2021-01-10T15:55:31.456076",
     "exception": false,
     "start_time": "2021-01-10T15:55:31.438372",
     "status": "completed"
    },
    "tags": []
   },
   "source": [
    "## Prepare Dataset"
   ]
  },
  {
   "cell_type": "code",
   "execution_count": 12,
   "metadata": {
    "execution": {
     "iopub.execute_input": "2021-01-10T15:55:31.494822Z",
     "iopub.status.busy": "2021-01-10T15:55:31.494428Z",
     "iopub.status.idle": "2021-01-10T15:55:31.496263Z",
     "shell.execute_reply": "2021-01-10T15:55:31.495908Z"
    },
    "papermill": {
     "duration": 0.02259,
     "end_time": "2021-01-10T15:55:31.496336",
     "exception": false,
     "start_time": "2021-01-10T15:55:31.473746",
     "status": "completed"
    },
    "tags": []
   },
   "outputs": [],
   "source": [
    "from pathlib import Path\n",
    "from urllib.request import urlretrieve\n",
    "import zipfile\n",
    "import numpy as np\n",
    "\n",
    "\n",
    "def encode_file(_tokenizer, _filepath):\n",
    "    ids = []\n",
    "    with open(_filepath) as f:\n",
    "        for line in f.readlines():\n",
    "            text = line.strip(\"\\n\")\n",
    "            ids.extend(_tokenizer.encode(text))\n",
    "\n",
    "    return np.array(ids, dtype=np.int32)"
   ]
  },
  {
   "cell_type": "code",
   "execution_count": 13,
   "metadata": {
    "execution": {
     "iopub.execute_input": "2021-01-10T15:55:31.534730Z",
     "iopub.status.busy": "2021-01-10T15:55:31.534371Z",
     "iopub.status.idle": "2021-01-10T16:03:00.471040Z",
     "shell.execute_reply": "2021-01-10T16:03:00.470663Z"
    },
    "papermill": {
     "duration": 448.956676,
     "end_time": "2021-01-10T16:03:00.471125",
     "exception": false,
     "start_time": "2021-01-10T15:55:31.514449",
     "status": "completed"
    },
    "tags": []
   },
   "outputs": [
    {
     "name": "stderr",
     "output_type": "stream",
     "text": [
      "Token indices sequence length is longer than the specified maximum sequence length for this model (1062 > 1024). Running this sequence through the model will result in indexing errors\n"
     ]
    }
   ],
   "source": [
    "train_ids = encode_file(tokenizer, train_file)\n",
    "valid_ids = encode_file(tokenizer, valid_file)"
   ]
  },
  {
   "cell_type": "code",
   "execution_count": 14,
   "metadata": {
    "execution": {
     "iopub.execute_input": "2021-01-10T16:03:00.525679Z",
     "iopub.status.busy": "2021-01-10T16:03:00.525306Z",
     "iopub.status.idle": "2021-01-10T16:03:00.527245Z",
     "shell.execute_reply": "2021-01-10T16:03:00.527534Z"
    },
    "papermill": {
     "duration": 0.023034,
     "end_time": "2021-01-10T16:03:00.527623",
     "exception": false,
     "start_time": "2021-01-10T16:03:00.504589",
     "status": "completed"
    },
    "tags": []
   },
   "outputs": [
    {
     "name": "stdout",
     "output_type": "stream",
     "text": [
      "Train: (116755111,)\n",
      "Valid: (244828,)\n"
     ]
    }
   ],
   "source": [
    "print(\"Train:\", train_ids.shape)\n",
    "print(\"Valid:\", valid_ids.shape)"
   ]
  },
  {
   "cell_type": "code",
   "execution_count": 15,
   "metadata": {
    "execution": {
     "iopub.execute_input": "2021-01-10T16:03:00.566816Z",
     "iopub.status.busy": "2021-01-10T16:03:00.566448Z",
     "iopub.status.idle": "2021-01-10T16:03:00.568229Z",
     "shell.execute_reply": "2021-01-10T16:03:00.568534Z"
    },
    "papermill": {
     "duration": 0.022388,
     "end_time": "2021-01-10T16:03:00.568632",
     "exception": false,
     "start_time": "2021-01-10T16:03:00.546244",
     "status": "completed"
    },
    "tags": []
   },
   "outputs": [
    {
     "name": "stdout",
     "output_type": "stream",
     "text": [
      "(116755111,)\n",
      "(244828,)\n"
     ]
    }
   ],
   "source": [
    "print(train_ids.shape)\n",
    "print(valid_ids.shape)"
   ]
  },
  {
   "cell_type": "code",
   "execution_count": 16,
   "metadata": {
    "execution": {
     "iopub.execute_input": "2021-01-10T16:03:00.608184Z",
     "iopub.status.busy": "2021-01-10T16:03:00.607814Z",
     "iopub.status.idle": "2021-01-10T16:03:01.911837Z",
     "shell.execute_reply": "2021-01-10T16:03:01.912140Z"
    },
    "papermill": {
     "duration": 1.325188,
     "end_time": "2021-01-10T16:03:01.912240",
     "exception": false,
     "start_time": "2021-01-10T16:03:00.587052",
     "status": "completed"
    },
    "tags": []
   },
   "outputs": [],
   "source": [
    "from tfchat.data import BlockDataset\n",
    "\n",
    "\n",
    "dataset = BlockDataset(block_size=config.context_size, batch_size=batch_size)\n",
    "\n",
    "train_dataset = dataset.build(train_ids, shuffle=True)\n",
    "valid_dataset = dataset.build(valid_ids, shuffle=False)"
   ]
  },
  {
   "cell_type": "code",
   "execution_count": 17,
   "metadata": {
    "execution": {
     "iopub.execute_input": "2021-01-10T16:03:01.953157Z",
     "iopub.status.busy": "2021-01-10T16:03:01.952779Z",
     "iopub.status.idle": "2021-01-10T16:04:56.522896Z",
     "shell.execute_reply": "2021-01-10T16:04:56.523204Z"
    },
    "papermill": {
     "duration": 114.592118,
     "end_time": "2021-01-10T16:04:56.523298",
     "exception": false,
     "start_time": "2021-01-10T16:03:01.931180",
     "status": "completed"
    },
    "tags": []
   },
   "outputs": [
    {
     "name": "stdout",
     "output_type": "stream",
     "text": [
      "Train steps: 57009\n",
      "Valid steps: 119\n"
     ]
    }
   ],
   "source": [
    "num_train_steps = len([_ for _ in train_dataset])\n",
    "num_valid_steps = len([_ for _ in valid_dataset])\n",
    "print(\"Train steps:\", num_train_steps)\n",
    "print(\"Valid steps:\", num_valid_steps)"
   ]
  },
  {
   "cell_type": "markdown",
   "metadata": {
    "papermill": {
     "duration": 0.018979,
     "end_time": "2021-01-10T16:04:56.561022",
     "exception": false,
     "start_time": "2021-01-10T16:04:56.542043",
     "status": "completed"
    },
    "tags": []
   },
   "source": [
    "## Transformers model implementation"
   ]
  },
  {
   "cell_type": "code",
   "execution_count": 18,
   "metadata": {
    "execution": {
     "iopub.execute_input": "2021-01-10T16:04:56.600904Z",
     "iopub.status.busy": "2021-01-10T16:04:56.600525Z",
     "iopub.status.idle": "2021-01-10T16:04:56.603296Z",
     "shell.execute_reply": "2021-01-10T16:04:56.602926Z"
    },
    "papermill": {
     "duration": 0.02382,
     "end_time": "2021-01-10T16:04:56.603373",
     "exception": false,
     "start_time": "2021-01-10T16:04:56.579553",
     "status": "completed"
    },
    "tags": []
   },
   "outputs": [],
   "source": [
    "from transformers import TFGPT2LMHeadModel\n",
    "from transformers import GPT2Config\n",
    "import tensorflow.keras as keras\n",
    "import tensorflow as tf\n",
    "from tfchat.models import create_combined_mask"
   ]
  },
  {
   "cell_type": "code",
   "execution_count": 19,
   "metadata": {
    "execution": {
     "iopub.execute_input": "2021-01-10T16:04:56.645487Z",
     "iopub.status.busy": "2021-01-10T16:04:56.645111Z",
     "iopub.status.idle": "2021-01-10T16:04:56.646984Z",
     "shell.execute_reply": "2021-01-10T16:04:56.646585Z"
    },
    "papermill": {
     "duration": 0.024718,
     "end_time": "2021-01-10T16:04:56.647091",
     "exception": false,
     "start_time": "2021-01-10T16:04:56.622373",
     "status": "completed"
    },
    "tags": []
   },
   "outputs": [],
   "source": [
    "class TransformersGPT2(keras.Model):\n",
    "    def __init__(self, config):\n",
    "        super().__init__()\n",
    "        tf_config = GPT2Config(\n",
    "            n_layers=config.num_layers,\n",
    "            n_embd=config.d_model,\n",
    "            n_head=config.num_heads,\n",
    "            n_inner=config.d_ff,\n",
    "            vocab_size=config.vocab_size,\n",
    "            n_ctx=config.context_size,\n",
    "            n_positions=config.context_size,\n",
    "            attn_pdrop=config.attention_dropout_rate,\n",
    "            resid_pdrop=config.residual_dropout_rate,\n",
    "            embd_pdrop=config.embedding_dropout_rate,\n",
    "            layer_norm_epsilon=config.epsilon,\n",
    "            activation_function=\"gelu_new\",  # Default value of transformers implementation\n",
    "            \n",
    "        )\n",
    "        self._decoder = TFGPT2LMHeadModel(tf_config)\n",
    "        \n",
    "    def call(self, inputs, training):\n",
    "        inputs = tf.cast(inputs, tf.int32)\n",
    "        x = self._decoder(inputs, training=training)\n",
    "        return x[0]\n",
    "\n"
   ]
  },
  {
   "cell_type": "markdown",
   "metadata": {
    "papermill": {
     "duration": 0.018839,
     "end_time": "2021-01-10T16:04:56.684846",
     "exception": false,
     "start_time": "2021-01-10T16:04:56.666007",
     "status": "completed"
    },
    "tags": []
   },
   "source": [
    "## Prepare Model"
   ]
  },
  {
   "cell_type": "code",
   "execution_count": 20,
   "metadata": {
    "execution": {
     "iopub.execute_input": "2021-01-10T16:04:56.726203Z",
     "iopub.status.busy": "2021-01-10T16:04:56.725788Z",
     "iopub.status.idle": "2021-01-10T16:04:56.728580Z",
     "shell.execute_reply": "2021-01-10T16:04:56.728215Z"
    },
    "papermill": {
     "duration": 0.025337,
     "end_time": "2021-01-10T16:04:56.728655",
     "exception": false,
     "start_time": "2021-01-10T16:04:56.703318",
     "status": "completed"
    },
    "tags": []
   },
   "outputs": [],
   "source": [
    "from tfchat.losses import PaddingLoss\n",
    "from tfchat.schedules import WarmupLinearDecay\n",
    "import tensorflow.keras as keras\n",
    "\n",
    "\n",
    "\n",
    "def train(_model, _train_dataset, _valid_dataset, _epochs, _warmup_steps, _num_train_steps, _max_learning_rate, _clipnorm):\n",
    "    schedule = WarmupLinearDecay(max_learning_rate=_max_learning_rate,\n",
    "                                 warmup_steps=_warmup_steps,\n",
    "                                 training_steps=_num_train_steps*_epochs)\n",
    "    optimizer = keras.optimizers.Adam(schedule, beta_1=0.9, beta_2=0.999, epsilon=1e-8, clipnorm=_clipnorm)\n",
    "    _model.compile(loss=PaddingLoss(), optimizer=optimizer)\n",
    "\n",
    "\n",
    "    history = _model.fit(\n",
    "        _train_dataset,\n",
    "        validation_data=_valid_dataset,\n",
    "        epochs=_epochs,\n",
    "        callbacks=[\n",
    "            keras.callbacks.EarlyStopping(patience=1, restore_best_weights=True),\n",
    "            # If you want to save chekcpoints, remove the next comment out\n",
    "            #keras.callbacks.ModelCheckpoint(\"keras_model/\", save_best_only=True)\n",
    "        ],\n",
    "        verbose=2,\n",
    "    )\n"
   ]
  },
  {
   "cell_type": "code",
   "execution_count": 21,
   "metadata": {
    "execution": {
     "iopub.execute_input": "2021-01-10T16:04:56.772957Z",
     "iopub.status.busy": "2021-01-10T16:04:56.767481Z",
     "iopub.status.idle": "2021-01-10T16:04:56.918899Z",
     "shell.execute_reply": "2021-01-10T16:04:56.918512Z"
    },
    "papermill": {
     "duration": 0.171556,
     "end_time": "2021-01-10T16:04:56.918984",
     "exception": false,
     "start_time": "2021-01-10T16:04:56.747428",
     "status": "completed"
    },
    "tags": []
   },
   "outputs": [],
   "source": [
    "if model_type == \"pre_ln\":\n",
    "    from tfchat.models import PreLNDecoder\n",
    "    model = PreLNDecoder(config)\n",
    "elif model_type == \"post_ln\":\n",
    "    from tfchat.models import PostLNDecoder \n",
    "    model = PostLNDecoder(config)\n",
    "elif model_type == \"transformers\":\n",
    "    model = TransformersGPT2(config)\n",
    "elif model_type == \"min_gpt\":\n",
    "    from mingpt.model import GPT, GPTConfig\n",
    "    mconf = GPTConfig(config.vocab_size, config.context_size,\n",
    "                      n_layer=config.num_layers, n_head=config.num_heads, n_embd=config.d_model)\n",
    "    model = GPT(mconf)\n",
    "else:\n",
    "    raise Exception(\"Model type is wrong\")"
   ]
  },
  {
   "cell_type": "code",
   "execution_count": 22,
   "metadata": {
    "execution": {
     "iopub.execute_input": "2021-01-10T16:04:56.960360Z",
     "iopub.status.busy": "2021-01-10T16:04:56.959991Z",
     "iopub.status.idle": "2021-01-10T16:04:58.329470Z",
     "shell.execute_reply": "2021-01-10T16:04:58.329763Z"
    },
    "papermill": {
     "duration": 1.391562,
     "end_time": "2021-01-10T16:04:58.329860",
     "exception": false,
     "start_time": "2021-01-10T16:04:56.938298",
     "status": "completed"
    },
    "tags": []
   },
   "outputs": [
    {
     "name": "stdout",
     "output_type": "stream",
     "text": [
      "Model: \"post_ln_decoder\"\n",
      "_________________________________________________________________\n",
      "Layer (type)                 Output Shape              Param #   \n",
      "=================================================================\n",
      "decoder (Decoder)            multiple                  123614976 \n",
      "=================================================================\n",
      "Total params: 123,614,976\n",
      "Trainable params: 123,614,976\n",
      "Non-trainable params: 0\n",
      "_________________________________________________________________\n"
     ]
    }
   ],
   "source": [
    "model.build(input_shape=(None, config.context_size))\n",
    "model.summary()"
   ]
  },
  {
   "cell_type": "code",
   "execution_count": 23,
   "metadata": {
    "execution": {
     "iopub.execute_input": "2021-01-10T16:04:58.375593Z",
     "iopub.status.busy": "2021-01-10T16:04:58.375222Z",
     "iopub.status.idle": "2021-01-11T12:34:14.151282Z",
     "shell.execute_reply": "2021-01-11T12:34:14.151581Z"
    },
    "papermill": {
     "duration": 73755.802448,
     "end_time": "2021-01-11T12:34:14.151673",
     "exception": false,
     "start_time": "2021-01-10T16:04:58.349225",
     "status": "completed"
    },
    "tags": []
   },
   "outputs": [
    {
     "name": "stdout",
     "output_type": "stream",
     "text": [
      "Epoch 1/10\n"
     ]
    },
    {
     "name": "stderr",
     "output_type": "stream",
     "text": [
      "/usr/local/lib/python3.6/dist-packages/tensorflow/python/framework/indexed_slices.py:433: UserWarning: Converting sparse IndexedSlices to a dense Tensor of unknown shape. This may consume a large amount of memory.\n",
      "  \"Converting sparse IndexedSlices to a dense Tensor of unknown shape. \"\n"
     ]
    },
    {
     "name": "stdout",
     "output_type": "stream",
     "text": [
      "57009/57009 - 24588s - loss: 7.4888 - val_loss: 7.4596\n",
      "Epoch 2/10\n",
      "57009/57009 - 24442s - loss: 7.4780 - val_loss: 7.4564\n",
      "Epoch 3/10\n",
      "57009/57009 - 24686s - loss: 7.4764 - val_loss: 7.4566\n"
     ]
    }
   ],
   "source": [
    "train(model, train_dataset, valid_dataset, epochs, warmup_steps, num_train_steps, max_learning_rate, clipnorm)"
   ]
  },
  {
   "cell_type": "code",
   "execution_count": 24,
   "metadata": {
    "execution": {
     "iopub.execute_input": "2021-01-11T12:34:14.195217Z",
     "iopub.status.busy": "2021-01-11T12:34:14.194847Z",
     "iopub.status.idle": "2021-01-11T12:34:29.994178Z",
     "shell.execute_reply": "2021-01-11T12:34:29.993758Z"
    },
    "papermill": {
     "duration": 15.822247,
     "end_time": "2021-01-11T12:34:29.994262",
     "exception": false,
     "start_time": "2021-01-11T12:34:14.172015",
     "status": "completed"
    },
    "tags": []
   },
   "outputs": [
    {
     "name": "stdout",
     "output_type": "stream",
     "text": [
      "{'loss': 7.456412, 'perplexity': 1730.926, 'num_batches': 119, 'num_tokens': 243712}\n",
      "Validation PPL: 1730.926\n"
     ]
    }
   ],
   "source": [
    "from tfchat.eval import perplexity\n",
    "\n",
    "print(\"Validation PPL:\", perplexity(model, valid_dataset))"
   ]
  },
  {
   "cell_type": "code",
   "execution_count": 25,
   "metadata": {
    "execution": {
     "iopub.execute_input": "2021-01-11T12:34:30.038787Z",
     "iopub.status.busy": "2021-01-11T12:34:30.038419Z",
     "iopub.status.idle": "2021-01-11T12:34:30.436385Z",
     "shell.execute_reply": "2021-01-11T12:34:30.436035Z"
    },
    "papermill": {
     "duration": 0.421046,
     "end_time": "2021-01-11T12:34:30.436468",
     "exception": false,
     "start_time": "2021-01-11T12:34:30.015422",
     "status": "completed"
    },
    "tags": []
   },
   "outputs": [],
   "source": [
    "from tfchat.utils import save_model\n",
    "\n",
    "save_model(save_model_dir, model, config)"
   ]
  },
  {
   "cell_type": "code",
   "execution_count": null,
   "metadata": {
    "papermill": {
     "duration": 0.020719,
     "end_time": "2021-01-11T12:34:30.478512",
     "exception": false,
     "start_time": "2021-01-11T12:34:30.457793",
     "status": "completed"
    },
    "tags": []
   },
   "outputs": [],
   "source": []
  }
 ],
 "metadata": {
  "celltoolbar": "Tags",
  "kernelspec": {
   "display_name": "Python 3",
   "language": "python",
   "name": "python3"
  },
  "language_info": {
   "codemirror_mode": {
    "name": "ipython",
    "version": 3
   },
   "file_extension": ".py",
   "mimetype": "text/x-python",
   "name": "python",
   "nbconvert_exporter": "python",
   "pygments_lexer": "ipython3",
   "version": "3.8.2"
  },
  "papermill": {
   "duration": 74353.257858,
   "end_time": "2021-01-11T12:34:31.919917",
   "environment_variables": {},
   "exception": null,
   "input_path": "tfmodel_train_scratch.ipynb",
   "output_path": "output/tfmodel_train_scratch-wikitext_103_raw-post_ln-lr_e4.ipynb",
   "parameters": {
    "model_type": "post_ln",
    "save_model_dir": "tfchat_model-post_ln-lr_e4"
   },
   "start_time": "2021-01-10T15:55:18.662059",
   "version": "2.1.3"
  }
 },
 "nbformat": 4,
 "nbformat_minor": 4
}
