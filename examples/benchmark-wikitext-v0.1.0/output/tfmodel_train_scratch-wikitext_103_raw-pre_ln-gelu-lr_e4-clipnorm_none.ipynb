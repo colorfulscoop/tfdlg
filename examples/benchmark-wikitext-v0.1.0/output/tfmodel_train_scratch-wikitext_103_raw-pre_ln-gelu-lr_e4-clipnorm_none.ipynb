{
 "cells": [
  {
   "cell_type": "markdown",
   "metadata": {
    "papermill": {
     "duration": 0.055108,
     "end_time": "2020-11-27T11:47:52.447581",
     "exception": false,
     "start_time": "2020-11-27T11:47:52.392473",
     "status": "completed"
    },
    "tags": []
   },
   "source": [
    "## Parameter"
   ]
  },
  {
   "cell_type": "code",
   "execution_count": 1,
   "metadata": {
    "execution": {
     "iopub.execute_input": "2020-11-27T11:47:52.480988Z",
     "iopub.status.busy": "2020-11-27T11:47:52.480611Z",
     "iopub.status.idle": "2020-11-27T11:47:52.482625Z",
     "shell.execute_reply": "2020-11-27T11:47:52.482267Z"
    },
    "papermill": {
     "duration": 0.017544,
     "end_time": "2020-11-27T11:47:52.482702",
     "exception": false,
     "start_time": "2020-11-27T11:47:52.465158",
     "status": "completed"
    },
    "tags": [
     "parameters"
    ]
   },
   "outputs": [],
   "source": [
    "# These parameters can be injected from Papermill\n",
    "model_type = \"pre_ln\"\n",
    "train_file = \"wikitext-103-raw/wiki.train.raw\"\n",
    "valid_file = \"wikitext-103-raw/wiki.valid.raw\"\n",
    "epochs = 10\n",
    "batch_size = 2\n",
    "max_learning_rate = 1e-4\n",
    "warmup_steps = 0\n",
    "save_model_dir = \"tfchat_model\"\n",
    "clipnorm = 1.0\n",
    "fp16 = False"
   ]
  },
  {
   "cell_type": "code",
   "execution_count": 2,
   "metadata": {
    "execution": {
     "iopub.execute_input": "2020-11-27T11:47:52.509327Z",
     "iopub.status.busy": "2020-11-27T11:47:52.508961Z",
     "iopub.status.idle": "2020-11-27T11:47:52.510861Z",
     "shell.execute_reply": "2020-11-27T11:47:52.510506Z"
    },
    "papermill": {
     "duration": 0.015984,
     "end_time": "2020-11-27T11:47:52.510930",
     "exception": false,
     "start_time": "2020-11-27T11:47:52.494946",
     "status": "completed"
    },
    "tags": [
     "injected-parameters"
    ]
   },
   "outputs": [],
   "source": [
    "# Parameters\n",
    "save_model_dir = \"tfchat_model-gelu-lr_e4\"\n",
    "clipnorm = None\n"
   ]
  },
  {
   "cell_type": "code",
   "execution_count": 3,
   "metadata": {
    "execution": {
     "iopub.execute_input": "2020-11-27T11:47:52.537758Z",
     "iopub.status.busy": "2020-11-27T11:47:52.537399Z",
     "iopub.status.idle": "2020-11-27T11:47:52.539033Z",
     "shell.execute_reply": "2020-11-27T11:47:52.539313Z"
    },
    "papermill": {
     "duration": 0.016067,
     "end_time": "2020-11-27T11:47:52.539393",
     "exception": false,
     "start_time": "2020-11-27T11:47:52.523326",
     "status": "completed"
    },
    "tags": []
   },
   "outputs": [],
   "source": [
    "# Assert parameters\n",
    "assert model_type in [\"pre_ln\", \"post_ln\", \"min_gpt\", \"transformers\"]"
   ]
  },
  {
   "cell_type": "markdown",
   "metadata": {
    "papermill": {
     "duration": 0.012378,
     "end_time": "2020-11-27T11:47:52.564302",
     "exception": false,
     "start_time": "2020-11-27T11:47:52.551924",
     "status": "completed"
    },
    "tags": []
   },
   "source": [
    "## Installation"
   ]
  },
  {
   "cell_type": "code",
   "execution_count": 4,
   "metadata": {
    "execution": {
     "iopub.execute_input": "2020-11-27T11:47:52.592448Z",
     "iopub.status.busy": "2020-11-27T11:47:52.592010Z",
     "iopub.status.idle": "2020-11-27T11:47:57.430034Z",
     "shell.execute_reply": "2020-11-27T11:47:57.428303Z"
    },
    "papermill": {
     "duration": 4.85368,
     "end_time": "2020-11-27T11:47:57.430473",
     "exception": false,
     "start_time": "2020-11-27T11:47:52.576793",
     "status": "completed"
    },
    "tags": []
   },
   "outputs": [
    {
     "name": "stdout",
     "output_type": "stream",
     "text": [
      "Reading package lists... Done\n",
      "Building dependency tree       \n",
      "Reading state information... Done\n",
      "git is already the newest version (1:2.17.1-1ubuntu0.7).\n",
      "0 upgraded, 0 newly installed, 0 to remove and 30 not upgraded.\n",
      "Collecting git+https://github.com/noriyukipy/tfchat@ad516f2\n",
      "  Cloning https://github.com/noriyukipy/tfchat (to revision ad516f2) to /tmp/pip-req-build-bwwmmoab\n",
      "\u001b[33m  WARNING: Did not find branch or tag 'ad516f2', assuming revision or ref.\u001b[0m\n",
      "Requirement already satisfied (use --upgrade to upgrade): tfchat==0.1.0 from git+https://github.com/noriyukipy/tfchat@ad516f2 in /usr/local/lib/python3.6/dist-packages\n",
      "Requirement already satisfied: tensorflow~=2.0 in /usr/local/lib/python3.6/dist-packages (from tfchat==0.1.0) (2.3.1)\n",
      "Requirement already satisfied: sentencepiece==0.1.91 in /usr/local/lib/python3.6/dist-packages (from tfchat==0.1.0) (0.1.91)\n",
      "Requirement already satisfied: scipy~=1.5.0 in /usr/local/lib/python3.6/dist-packages (from tfchat==0.1.0) (1.5.4)\n",
      "Requirement already satisfied: pydantic==1.6.1 in /usr/local/lib/python3.6/dist-packages (from tfchat==0.1.0) (1.6.1)\n",
      "Requirement already satisfied: protobuf>=3.9.2 in /usr/local/lib/python3.6/dist-packages (from tensorflow~=2.0->tfchat==0.1.0) (3.13.0)\n",
      "Requirement already satisfied: wrapt>=1.11.1 in /usr/local/lib/python3.6/dist-packages (from tensorflow~=2.0->tfchat==0.1.0) (1.12.1)\n",
      "Requirement already satisfied: h5py<2.11.0,>=2.10.0 in /usr/local/lib/python3.6/dist-packages (from tensorflow~=2.0->tfchat==0.1.0) (2.10.0)\n",
      "Requirement already satisfied: keras-preprocessing<1.2,>=1.1.1 in /usr/local/lib/python3.6/dist-packages (from tensorflow~=2.0->tfchat==0.1.0) (1.1.2)\n",
      "Requirement already satisfied: wheel>=0.26 in /usr/lib/python3/dist-packages (from tensorflow~=2.0->tfchat==0.1.0) (0.30.0)\n",
      "Requirement already satisfied: astunparse==1.6.3 in /usr/local/lib/python3.6/dist-packages (from tensorflow~=2.0->tfchat==0.1.0) (1.6.3)\n",
      "Requirement already satisfied: numpy<1.19.0,>=1.16.0 in /usr/local/lib/python3.6/dist-packages (from tensorflow~=2.0->tfchat==0.1.0) (1.18.5)\n",
      "Requirement already satisfied: termcolor>=1.1.0 in /usr/local/lib/python3.6/dist-packages (from tensorflow~=2.0->tfchat==0.1.0) (1.1.0)\n",
      "Requirement already satisfied: opt-einsum>=2.3.2 in /usr/local/lib/python3.6/dist-packages (from tensorflow~=2.0->tfchat==0.1.0) (3.3.0)\n",
      "Requirement already satisfied: google-pasta>=0.1.8 in /usr/local/lib/python3.6/dist-packages (from tensorflow~=2.0->tfchat==0.1.0) (0.2.0)\n",
      "Requirement already satisfied: tensorboard<3,>=2.3.0 in /usr/local/lib/python3.6/dist-packages (from tensorflow~=2.0->tfchat==0.1.0) (2.3.0)\n",
      "Requirement already satisfied: absl-py>=0.7.0 in /usr/local/lib/python3.6/dist-packages (from tensorflow~=2.0->tfchat==0.1.0) (0.10.0)\n",
      "Requirement already satisfied: six>=1.12.0 in /usr/local/lib/python3.6/dist-packages (from tensorflow~=2.0->tfchat==0.1.0) (1.15.0)\n",
      "Requirement already satisfied: tensorflow-estimator<2.4.0,>=2.3.0 in /usr/local/lib/python3.6/dist-packages (from tensorflow~=2.0->tfchat==0.1.0) (2.3.0)\n",
      "Requirement already satisfied: grpcio>=1.8.6 in /usr/local/lib/python3.6/dist-packages (from tensorflow~=2.0->tfchat==0.1.0) (1.32.0)\n",
      "Requirement already satisfied: gast==0.3.3 in /usr/local/lib/python3.6/dist-packages (from tensorflow~=2.0->tfchat==0.1.0) (0.3.3)\n",
      "Requirement already satisfied: dataclasses>=0.6; python_version < \"3.7\" in /usr/local/lib/python3.6/dist-packages (from pydantic==1.6.1->tfchat==0.1.0) (0.8)\n",
      "Requirement already satisfied: setuptools in /usr/local/lib/python3.6/dist-packages (from protobuf>=3.9.2->tensorflow~=2.0->tfchat==0.1.0) (50.3.0)\n",
      "Requirement already satisfied: requests<3,>=2.21.0 in /usr/local/lib/python3.6/dist-packages (from tensorboard<3,>=2.3.0->tensorflow~=2.0->tfchat==0.1.0) (2.24.0)\n",
      "Requirement already satisfied: google-auth<2,>=1.6.3 in /usr/local/lib/python3.6/dist-packages (from tensorboard<3,>=2.3.0->tensorflow~=2.0->tfchat==0.1.0) (1.22.0)\n",
      "Requirement already satisfied: markdown>=2.6.8 in /usr/local/lib/python3.6/dist-packages (from tensorboard<3,>=2.3.0->tensorflow~=2.0->tfchat==0.1.0) (3.2.2)\n",
      "Requirement already satisfied: werkzeug>=0.11.15 in /usr/local/lib/python3.6/dist-packages (from tensorboard<3,>=2.3.0->tensorflow~=2.0->tfchat==0.1.0) (1.0.1)\n",
      "Requirement already satisfied: tensorboard-plugin-wit>=1.6.0 in /usr/local/lib/python3.6/dist-packages (from tensorboard<3,>=2.3.0->tensorflow~=2.0->tfchat==0.1.0) (1.7.0)\n",
      "Requirement already satisfied: google-auth-oauthlib<0.5,>=0.4.1 in /usr/local/lib/python3.6/dist-packages (from tensorboard<3,>=2.3.0->tensorflow~=2.0->tfchat==0.1.0) (0.4.1)\n",
      "Requirement already satisfied: urllib3!=1.25.0,!=1.25.1,<1.26,>=1.21.1 in /usr/local/lib/python3.6/dist-packages (from requests<3,>=2.21.0->tensorboard<3,>=2.3.0->tensorflow~=2.0->tfchat==0.1.0) (1.25.10)\n",
      "Requirement already satisfied: idna<3,>=2.5 in /usr/lib/python3/dist-packages (from requests<3,>=2.21.0->tensorboard<3,>=2.3.0->tensorflow~=2.0->tfchat==0.1.0) (2.6)\n",
      "Requirement already satisfied: certifi>=2017.4.17 in /usr/local/lib/python3.6/dist-packages (from requests<3,>=2.21.0->tensorboard<3,>=2.3.0->tensorflow~=2.0->tfchat==0.1.0) (2020.6.20)\n",
      "Requirement already satisfied: chardet<4,>=3.0.2 in /usr/local/lib/python3.6/dist-packages (from requests<3,>=2.21.0->tensorboard<3,>=2.3.0->tensorflow~=2.0->tfchat==0.1.0) (3.0.4)\n",
      "Requirement already satisfied: aiohttp<4.0.0dev,>=3.6.2; python_version >= \"3.6\" in /usr/local/lib/python3.6/dist-packages (from google-auth<2,>=1.6.3->tensorboard<3,>=2.3.0->tensorflow~=2.0->tfchat==0.1.0) (3.6.2)\n",
      "Requirement already satisfied: rsa<5,>=3.1.4; python_version >= \"3.5\" in /usr/local/lib/python3.6/dist-packages (from google-auth<2,>=1.6.3->tensorboard<3,>=2.3.0->tensorflow~=2.0->tfchat==0.1.0) (4.6)\n",
      "Requirement already satisfied: pyasn1-modules>=0.2.1 in /usr/local/lib/python3.6/dist-packages (from google-auth<2,>=1.6.3->tensorboard<3,>=2.3.0->tensorflow~=2.0->tfchat==0.1.0) (0.2.8)\n",
      "Requirement already satisfied: cachetools<5.0,>=2.0.0 in /usr/local/lib/python3.6/dist-packages (from google-auth<2,>=1.6.3->tensorboard<3,>=2.3.0->tensorflow~=2.0->tfchat==0.1.0) (4.1.1)\n",
      "Requirement already satisfied: importlib-metadata; python_version < \"3.8\" in /usr/local/lib/python3.6/dist-packages (from markdown>=2.6.8->tensorboard<3,>=2.3.0->tensorflow~=2.0->tfchat==0.1.0) (2.0.0)\n",
      "Requirement already satisfied: requests-oauthlib>=0.7.0 in /usr/local/lib/python3.6/dist-packages (from google-auth-oauthlib<0.5,>=0.4.1->tensorboard<3,>=2.3.0->tensorflow~=2.0->tfchat==0.1.0) (1.3.0)\n",
      "Requirement already satisfied: typing-extensions>=3.6.5; python_version < \"3.7\" in /usr/local/lib/python3.6/dist-packages (from aiohttp<4.0.0dev,>=3.6.2; python_version >= \"3.6\"->google-auth<2,>=1.6.3->tensorboard<3,>=2.3.0->tensorflow~=2.0->tfchat==0.1.0) (3.7.4.3)\n",
      "Requirement already satisfied: multidict<5.0,>=4.5 in /usr/local/lib/python3.6/dist-packages (from aiohttp<4.0.0dev,>=3.6.2; python_version >= \"3.6\"->google-auth<2,>=1.6.3->tensorboard<3,>=2.3.0->tensorflow~=2.0->tfchat==0.1.0) (4.7.6)\n",
      "Requirement already satisfied: idna-ssl>=1.0; python_version < \"3.7\" in /usr/local/lib/python3.6/dist-packages (from aiohttp<4.0.0dev,>=3.6.2; python_version >= \"3.6\"->google-auth<2,>=1.6.3->tensorboard<3,>=2.3.0->tensorflow~=2.0->tfchat==0.1.0) (1.1.0)\n",
      "Requirement already satisfied: attrs>=17.3.0 in /usr/local/lib/python3.6/dist-packages (from aiohttp<4.0.0dev,>=3.6.2; python_version >= \"3.6\"->google-auth<2,>=1.6.3->tensorboard<3,>=2.3.0->tensorflow~=2.0->tfchat==0.1.0) (20.2.0)\n",
      "Requirement already satisfied: async-timeout<4.0,>=3.0 in /usr/local/lib/python3.6/dist-packages (from aiohttp<4.0.0dev,>=3.6.2; python_version >= \"3.6\"->google-auth<2,>=1.6.3->tensorboard<3,>=2.3.0->tensorflow~=2.0->tfchat==0.1.0) (3.0.1)\n",
      "Requirement already satisfied: yarl<2.0,>=1.0 in /usr/local/lib/python3.6/dist-packages (from aiohttp<4.0.0dev,>=3.6.2; python_version >= \"3.6\"->google-auth<2,>=1.6.3->tensorboard<3,>=2.3.0->tensorflow~=2.0->tfchat==0.1.0) (1.6.0)\n",
      "Requirement already satisfied: pyasn1>=0.1.3 in /usr/local/lib/python3.6/dist-packages (from rsa<5,>=3.1.4; python_version >= \"3.5\"->google-auth<2,>=1.6.3->tensorboard<3,>=2.3.0->tensorflow~=2.0->tfchat==0.1.0) (0.4.8)\n",
      "Requirement already satisfied: zipp>=0.5 in /usr/local/lib/python3.6/dist-packages (from importlib-metadata; python_version < \"3.8\"->markdown>=2.6.8->tensorboard<3,>=2.3.0->tensorflow~=2.0->tfchat==0.1.0) (3.2.0)\n",
      "Requirement already satisfied: oauthlib>=3.0.0 in /usr/local/lib/python3.6/dist-packages (from requests-oauthlib>=0.7.0->google-auth-oauthlib<0.5,>=0.4.1->tensorboard<3,>=2.3.0->tensorflow~=2.0->tfchat==0.1.0) (3.1.0)\n",
      "Building wheels for collected packages: tfchat\n",
      "  Building wheel for tfchat (setup.py) ... \u001b[?25ldone\n",
      "\u001b[?25h  Created wheel for tfchat: filename=tfchat-0.1.0-py3-none-any.whl size=14227 sha256=87895624044779625bf0499d4efdb0f005733458b9b11f3aee0ed869016d5173\n",
      "  Stored in directory: /tmp/pip-ephem-wheel-cache-xwy71mjq/wheels/a5/ff/38/d84c5bb187a3949cd9f599b7d967bcc4a6f3fbff2cf029db4b\n",
      "Successfully built tfchat\n",
      "\u001b[33mWARNING: You are using pip version 20.2.3; however, version 20.2.4 is available.\n",
      "You should consider upgrading via the '/usr/bin/python3 -m pip install --upgrade pip' command.\u001b[0m\n"
     ]
    }
   ],
   "source": [
    "!apt install -y git\n",
    "!pip install git+https://github.com/noriyukipy/tfchat@ad516f2"
   ]
  },
  {
   "cell_type": "markdown",
   "metadata": {
    "papermill": {
     "duration": 0.016349,
     "end_time": "2020-11-27T11:47:57.464717",
     "exception": false,
     "start_time": "2020-11-27T11:47:57.448368",
     "status": "completed"
    },
    "tags": []
   },
   "source": [
    "## Configure GPU"
   ]
  },
  {
   "cell_type": "code",
   "execution_count": 5,
   "metadata": {
    "execution": {
     "iopub.execute_input": "2020-11-27T11:47:57.500347Z",
     "iopub.status.busy": "2020-11-27T11:47:57.499974Z",
     "iopub.status.idle": "2020-11-27T11:47:59.233910Z",
     "shell.execute_reply": "2020-11-27T11:47:59.233525Z"
    },
    "papermill": {
     "duration": 1.752873,
     "end_time": "2020-11-27T11:47:59.233998",
     "exception": false,
     "start_time": "2020-11-27T11:47:57.481125",
     "status": "completed"
    },
    "tags": []
   },
   "outputs": [],
   "source": [
    "from tfchat.utils import set_memory_growth\n",
    "from tfchat.utils import set_mixed_precision_policy"
   ]
  },
  {
   "cell_type": "code",
   "execution_count": 6,
   "metadata": {
    "execution": {
     "iopub.execute_input": "2020-11-27T11:48:00.030250Z",
     "iopub.status.busy": "2020-11-27T11:48:00.029858Z",
     "iopub.status.idle": "2020-11-27T11:48:00.031886Z",
     "shell.execute_reply": "2020-11-27T11:48:00.031525Z"
    },
    "papermill": {
     "duration": 0.781353,
     "end_time": "2020-11-27T11:48:00.031966",
     "exception": false,
     "start_time": "2020-11-27T11:47:59.250613",
     "status": "completed"
    },
    "tags": []
   },
   "outputs": [
    {
     "name": "stdout",
     "output_type": "stream",
     "text": [
      "Set memory growth to PhysicalDevice(name='/physical_device:GPU:0', device_type='GPU')\n"
     ]
    }
   ],
   "source": [
    "set_memory_growth()"
   ]
  },
  {
   "cell_type": "code",
   "execution_count": 7,
   "metadata": {
    "execution": {
     "iopub.execute_input": "2020-11-27T11:48:00.068244Z",
     "iopub.status.busy": "2020-11-27T11:48:00.067894Z",
     "iopub.status.idle": "2020-11-27T11:48:00.069843Z",
     "shell.execute_reply": "2020-11-27T11:48:00.069491Z"
    },
    "papermill": {
     "duration": 0.020841,
     "end_time": "2020-11-27T11:48:00.069914",
     "exception": false,
     "start_time": "2020-11-27T11:48:00.049073",
     "status": "completed"
    },
    "tags": []
   },
   "outputs": [],
   "source": [
    "if fp16:\n",
    "    set_mixed_precision_policy()"
   ]
  },
  {
   "cell_type": "markdown",
   "metadata": {
    "papermill": {
     "duration": 0.016766,
     "end_time": "2020-11-27T11:48:00.103344",
     "exception": false,
     "start_time": "2020-11-27T11:48:00.086578",
     "status": "completed"
    },
    "tags": []
   },
   "source": [
    "## Setup tokenizer"
   ]
  },
  {
   "cell_type": "code",
   "execution_count": 8,
   "metadata": {
    "execution": {
     "iopub.execute_input": "2020-11-27T11:48:00.142266Z",
     "iopub.status.busy": "2020-11-27T11:48:00.139426Z",
     "iopub.status.idle": "2020-11-27T11:48:01.520967Z",
     "shell.execute_reply": "2020-11-27T11:48:01.518920Z"
    },
    "papermill": {
     "duration": 1.401204,
     "end_time": "2020-11-27T11:48:01.521381",
     "exception": false,
     "start_time": "2020-11-27T11:48:00.120177",
     "status": "completed"
    },
    "tags": []
   },
   "outputs": [
    {
     "name": "stdout",
     "output_type": "stream",
     "text": [
      "Requirement already satisfied: transformers==3.4.0 in /usr/local/lib/python3.6/dist-packages (3.4.0)\n",
      "Requirement already satisfied: tqdm>=4.27 in /usr/local/lib/python3.6/dist-packages (from transformers==3.4.0) (4.53.0)\n",
      "Requirement already satisfied: protobuf in /usr/local/lib/python3.6/dist-packages (from transformers==3.4.0) (3.13.0)\n",
      "Requirement already satisfied: regex!=2019.12.17 in /usr/local/lib/python3.6/dist-packages (from transformers==3.4.0) (2020.11.13)\n",
      "Requirement already satisfied: sentencepiece!=0.1.92 in /usr/local/lib/python3.6/dist-packages (from transformers==3.4.0) (0.1.91)\n",
      "Requirement already satisfied: dataclasses; python_version < \"3.7\" in /usr/local/lib/python3.6/dist-packages (from transformers==3.4.0) (0.8)\n",
      "Requirement already satisfied: numpy in /usr/local/lib/python3.6/dist-packages (from transformers==3.4.0) (1.18.5)\n",
      "Requirement already satisfied: filelock in /usr/local/lib/python3.6/dist-packages (from transformers==3.4.0) (3.0.12)\n",
      "Requirement already satisfied: requests in /usr/local/lib/python3.6/dist-packages (from transformers==3.4.0) (2.24.0)\n",
      "Requirement already satisfied: tokenizers==0.9.2 in /usr/local/lib/python3.6/dist-packages (from transformers==3.4.0) (0.9.2)\n",
      "Requirement already satisfied: packaging in /usr/local/lib/python3.6/dist-packages (from transformers==3.4.0) (20.4)\n",
      "Requirement already satisfied: sacremoses in /usr/local/lib/python3.6/dist-packages (from transformers==3.4.0) (0.0.43)\n",
      "Requirement already satisfied: setuptools in /usr/local/lib/python3.6/dist-packages (from protobuf->transformers==3.4.0) (50.3.0)\n",
      "Requirement already satisfied: six>=1.9 in /usr/local/lib/python3.6/dist-packages (from protobuf->transformers==3.4.0) (1.15.0)\n",
      "Requirement already satisfied: idna<3,>=2.5 in /usr/lib/python3/dist-packages (from requests->transformers==3.4.0) (2.6)\n",
      "Requirement already satisfied: certifi>=2017.4.17 in /usr/local/lib/python3.6/dist-packages (from requests->transformers==3.4.0) (2020.6.20)\n",
      "Requirement already satisfied: urllib3!=1.25.0,!=1.25.1,<1.26,>=1.21.1 in /usr/local/lib/python3.6/dist-packages (from requests->transformers==3.4.0) (1.25.10)\n",
      "Requirement already satisfied: chardet<4,>=3.0.2 in /usr/local/lib/python3.6/dist-packages (from requests->transformers==3.4.0) (3.0.4)\n",
      "Requirement already satisfied: pyparsing>=2.0.2 in /usr/local/lib/python3.6/dist-packages (from packaging->transformers==3.4.0) (2.4.7)\n",
      "Requirement already satisfied: click in /usr/local/lib/python3.6/dist-packages (from sacremoses->transformers==3.4.0) (7.1.2)\n",
      "Requirement already satisfied: joblib in /usr/local/lib/python3.6/dist-packages (from sacremoses->transformers==3.4.0) (0.17.0)\n",
      "\u001b[33mWARNING: You are using pip version 20.2.3; however, version 20.2.4 is available.\n",
      "You should consider upgrading via the '/usr/bin/python3 -m pip install --upgrade pip' command.\u001b[0m\n",
      "Enabling notebook extension jupyter-js-widgets/extension...\n",
      "      - Validating: \u001b[32mOK\u001b[0m\n"
     ]
    }
   ],
   "source": [
    "# Install transformers by HuggingFace to use GPT2 tokenizer\n",
    "! pip install transformers==3.4.0\n",
    "# Enable widgetsnbextention to avoid the following error when running GPT2.from_pretrained method\n",
    "#     ImportError: IProgress not found. Please update jupyter and ipywidgets.\n",
    "! jupyter nbextension enable --py widgetsnbextension"
   ]
  },
  {
   "cell_type": "code",
   "execution_count": 9,
   "metadata": {
    "execution": {
     "iopub.execute_input": "2020-11-27T11:48:01.559623Z",
     "iopub.status.busy": "2020-11-27T11:48:01.559266Z",
     "iopub.status.idle": "2020-11-27T11:48:03.469072Z",
     "shell.execute_reply": "2020-11-27T11:48:03.468704Z"
    },
    "papermill": {
     "duration": 1.929872,
     "end_time": "2020-11-27T11:48:03.469153",
     "exception": false,
     "start_time": "2020-11-27T11:48:01.539281",
     "status": "completed"
    },
    "tags": []
   },
   "outputs": [],
   "source": [
    "# setup tokenizer\n",
    "from transformers import GPT2Tokenizer\n",
    "\n",
    "tokenizer = GPT2Tokenizer.from_pretrained(\"gpt2\")"
   ]
  },
  {
   "cell_type": "markdown",
   "metadata": {
    "papermill": {
     "duration": 0.017934,
     "end_time": "2020-11-27T11:48:03.504966",
     "exception": false,
     "start_time": "2020-11-27T11:48:03.487032",
     "status": "completed"
    },
    "tags": []
   },
   "source": [
    "## Prepare model config"
   ]
  },
  {
   "cell_type": "code",
   "execution_count": 10,
   "metadata": {
    "execution": {
     "iopub.execute_input": "2020-11-27T11:48:03.542431Z",
     "iopub.status.busy": "2020-11-27T11:48:03.542072Z",
     "iopub.status.idle": "2020-11-27T11:48:03.689023Z",
     "shell.execute_reply": "2020-11-27T11:48:03.688562Z"
    },
    "papermill": {
     "duration": 0.166683,
     "end_time": "2020-11-27T11:48:03.689123",
     "exception": false,
     "start_time": "2020-11-27T11:48:03.522440",
     "status": "completed"
    },
    "tags": []
   },
   "outputs": [],
   "source": [
    "from tfchat.configs import GPT2SmallConfig\n",
    "\n",
    "config = GPT2SmallConfig()\n",
    "\n",
    "# Set the larger number of vocab size than 33,278, which is the vocab size of Wikitext-2\n",
    "config.vocab_size = tokenizer.vocab_size"
   ]
  },
  {
   "cell_type": "code",
   "execution_count": 11,
   "metadata": {
    "execution": {
     "iopub.execute_input": "2020-11-27T11:48:03.735530Z",
     "iopub.status.busy": "2020-11-27T11:48:03.735143Z",
     "iopub.status.idle": "2020-11-27T11:48:03.737031Z",
     "shell.execute_reply": "2020-11-27T11:48:03.737312Z"
    },
    "papermill": {
     "duration": 0.027412,
     "end_time": "2020-11-27T11:48:03.737396",
     "exception": false,
     "start_time": "2020-11-27T11:48:03.709984",
     "status": "completed"
    },
    "tags": []
   },
   "outputs": [
    {
     "data": {
      "text/plain": [
       "GPT2SmallConfig(num_layers=12, d_model=768, num_heads=12, d_ff=3072, vocab_size=50257, context_size=1024, attention_dropout_rate=0.1, residual_dropout_rate=0.1, embedding_dropout_rate=0.1, activation='gelu', kernel_initializer='he_normal', epsilon=1e-06)"
      ]
     },
     "execution_count": 11,
     "metadata": {},
     "output_type": "execute_result"
    }
   ],
   "source": [
    "config"
   ]
  },
  {
   "cell_type": "markdown",
   "metadata": {
    "papermill": {
     "duration": 0.017656,
     "end_time": "2020-11-27T11:48:03.772711",
     "exception": false,
     "start_time": "2020-11-27T11:48:03.755055",
     "status": "completed"
    },
    "tags": []
   },
   "source": [
    "## Prepare Dataset"
   ]
  },
  {
   "cell_type": "code",
   "execution_count": 12,
   "metadata": {
    "execution": {
     "iopub.execute_input": "2020-11-27T11:48:03.812514Z",
     "iopub.status.busy": "2020-11-27T11:48:03.812154Z",
     "iopub.status.idle": "2020-11-27T11:48:03.813844Z",
     "shell.execute_reply": "2020-11-27T11:48:03.813492Z"
    },
    "papermill": {
     "duration": 0.023235,
     "end_time": "2020-11-27T11:48:03.813918",
     "exception": false,
     "start_time": "2020-11-27T11:48:03.790683",
     "status": "completed"
    },
    "tags": []
   },
   "outputs": [],
   "source": [
    "from pathlib import Path\n",
    "from urllib.request import urlretrieve\n",
    "import zipfile\n",
    "import numpy as np\n",
    "\n",
    "\n",
    "def encode_file(_tokenizer, _filepath):\n",
    "    ids = []\n",
    "    with open(_filepath) as f:\n",
    "        for line in f.readlines():\n",
    "            text = line.strip(\"\\n\")\n",
    "            ids.extend(_tokenizer.encode(text))\n",
    "\n",
    "    return np.array(ids, dtype=np.int32)"
   ]
  },
  {
   "cell_type": "code",
   "execution_count": 13,
   "metadata": {
    "execution": {
     "iopub.execute_input": "2020-11-27T11:48:03.851720Z",
     "iopub.status.busy": "2020-11-27T11:48:03.851365Z",
     "iopub.status.idle": "2020-11-27T11:55:28.848551Z",
     "shell.execute_reply": "2020-11-27T11:55:28.848170Z"
    },
    "papermill": {
     "duration": 445.016877,
     "end_time": "2020-11-27T11:55:28.848636",
     "exception": false,
     "start_time": "2020-11-27T11:48:03.831759",
     "status": "completed"
    },
    "tags": []
   },
   "outputs": [
    {
     "name": "stderr",
     "output_type": "stream",
     "text": [
      "Token indices sequence length is longer than the specified maximum sequence length for this model (1062 > 1024). Running this sequence through the model will result in indexing errors\n"
     ]
    }
   ],
   "source": [
    "train_ids = encode_file(tokenizer, train_file)\n",
    "valid_ids = encode_file(tokenizer, valid_file)"
   ]
  },
  {
   "cell_type": "code",
   "execution_count": 14,
   "metadata": {
    "execution": {
     "iopub.execute_input": "2020-11-27T11:55:28.905203Z",
     "iopub.status.busy": "2020-11-27T11:55:28.904834Z",
     "iopub.status.idle": "2020-11-27T11:55:28.906923Z",
     "shell.execute_reply": "2020-11-27T11:55:28.906571Z"
    },
    "papermill": {
     "duration": 0.022929,
     "end_time": "2020-11-27T11:55:28.906997",
     "exception": false,
     "start_time": "2020-11-27T11:55:28.884068",
     "status": "completed"
    },
    "tags": []
   },
   "outputs": [
    {
     "name": "stdout",
     "output_type": "stream",
     "text": [
      "Train: (116755111,)\n",
      "Valid: (244828,)\n"
     ]
    }
   ],
   "source": [
    "print(\"Train:\", train_ids.shape)\n",
    "print(\"Valid:\", valid_ids.shape)"
   ]
  },
  {
   "cell_type": "code",
   "execution_count": 15,
   "metadata": {
    "execution": {
     "iopub.execute_input": "2020-11-27T11:55:28.945689Z",
     "iopub.status.busy": "2020-11-27T11:55:28.945258Z",
     "iopub.status.idle": "2020-11-27T11:55:28.947547Z",
     "shell.execute_reply": "2020-11-27T11:55:28.947195Z"
    },
    "papermill": {
     "duration": 0.02229,
     "end_time": "2020-11-27T11:55:28.947618",
     "exception": false,
     "start_time": "2020-11-27T11:55:28.925328",
     "status": "completed"
    },
    "tags": []
   },
   "outputs": [
    {
     "name": "stdout",
     "output_type": "stream",
     "text": [
      "(116755111,)\n",
      "(244828,)\n"
     ]
    }
   ],
   "source": [
    "print(train_ids.shape)\n",
    "print(valid_ids.shape)"
   ]
  },
  {
   "cell_type": "code",
   "execution_count": 16,
   "metadata": {
    "execution": {
     "iopub.execute_input": "2020-11-27T11:55:28.987542Z",
     "iopub.status.busy": "2020-11-27T11:55:28.987182Z",
     "iopub.status.idle": "2020-11-27T11:55:29.758100Z",
     "shell.execute_reply": "2020-11-27T11:55:29.757718Z"
    },
    "papermill": {
     "duration": 0.7922,
     "end_time": "2020-11-27T11:55:29.758182",
     "exception": false,
     "start_time": "2020-11-27T11:55:28.965982",
     "status": "completed"
    },
    "tags": []
   },
   "outputs": [],
   "source": [
    "from tfchat.data import BlockDataset\n",
    "\n",
    "\n",
    "dataset = BlockDataset(block_size=config.context_size, batch_size=batch_size)\n",
    "\n",
    "train_dataset = dataset.build(train_ids, shuffle=True)\n",
    "valid_dataset = dataset.build(valid_ids, shuffle=False)"
   ]
  },
  {
   "cell_type": "code",
   "execution_count": 17,
   "metadata": {
    "execution": {
     "iopub.execute_input": "2020-11-27T11:55:29.799850Z",
     "iopub.status.busy": "2020-11-27T11:55:29.799419Z",
     "iopub.status.idle": "2020-11-27T11:57:23.540009Z",
     "shell.execute_reply": "2020-11-27T11:57:23.540308Z"
    },
    "papermill": {
     "duration": 113.763594,
     "end_time": "2020-11-27T11:57:23.540399",
     "exception": false,
     "start_time": "2020-11-27T11:55:29.776805",
     "status": "completed"
    },
    "tags": []
   },
   "outputs": [
    {
     "name": "stdout",
     "output_type": "stream",
     "text": [
      "Train steps: 57009\n",
      "Valid steps: 119\n"
     ]
    }
   ],
   "source": [
    "num_train_steps = len([_ for _ in train_dataset])\n",
    "num_valid_steps = len([_ for _ in valid_dataset])\n",
    "print(\"Train steps:\", num_train_steps)\n",
    "print(\"Valid steps:\", num_valid_steps)"
   ]
  },
  {
   "cell_type": "markdown",
   "metadata": {
    "papermill": {
     "duration": 0.018666,
     "end_time": "2020-11-27T11:57:23.577679",
     "exception": false,
     "start_time": "2020-11-27T11:57:23.559013",
     "status": "completed"
    },
    "tags": []
   },
   "source": [
    "## Transformers model implementation"
   ]
  },
  {
   "cell_type": "code",
   "execution_count": 18,
   "metadata": {
    "execution": {
     "iopub.execute_input": "2020-11-27T11:57:23.617192Z",
     "iopub.status.busy": "2020-11-27T11:57:23.616831Z",
     "iopub.status.idle": "2020-11-27T11:57:23.620182Z",
     "shell.execute_reply": "2020-11-27T11:57:23.619835Z"
    },
    "papermill": {
     "duration": 0.024086,
     "end_time": "2020-11-27T11:57:23.620254",
     "exception": false,
     "start_time": "2020-11-27T11:57:23.596168",
     "status": "completed"
    },
    "tags": []
   },
   "outputs": [],
   "source": [
    "from transformers import TFGPT2LMHeadModel\n",
    "from transformers import GPT2Config\n",
    "import tensorflow.keras as keras\n",
    "import tensorflow as tf\n",
    "from tfchat.models import create_combined_mask"
   ]
  },
  {
   "cell_type": "code",
   "execution_count": 19,
   "metadata": {
    "execution": {
     "iopub.execute_input": "2020-11-27T11:57:23.661661Z",
     "iopub.status.busy": "2020-11-27T11:57:23.661300Z",
     "iopub.status.idle": "2020-11-27T11:57:23.663095Z",
     "shell.execute_reply": "2020-11-27T11:57:23.662744Z"
    },
    "papermill": {
     "duration": 0.024239,
     "end_time": "2020-11-27T11:57:23.663165",
     "exception": false,
     "start_time": "2020-11-27T11:57:23.638926",
     "status": "completed"
    },
    "tags": []
   },
   "outputs": [],
   "source": [
    "class TransformersGPT2(keras.Model):\n",
    "    def __init__(self, config):\n",
    "        super().__init__()\n",
    "        tf_config = GPT2Config(\n",
    "            n_layers=config.num_layers,\n",
    "            n_embd=config.d_model,\n",
    "            n_head=config.num_heads,\n",
    "            n_inner=config.d_ff,\n",
    "            vocab_size=config.vocab_size,\n",
    "            n_ctx=config.context_size,\n",
    "            n_positions=config.context_size,\n",
    "            attn_pdrop=config.attention_dropout_rate,\n",
    "            resid_pdrop=config.residual_dropout_rate,\n",
    "            embd_pdrop=config.embedding_dropout_rate,\n",
    "            layer_norm_epsilon=config.epsilon,\n",
    "            activation_function=\"gelu_new\",  # Default value of transformers implementation\n",
    "            \n",
    "        )\n",
    "        self._decoder = TFGPT2LMHeadModel(tf_config)\n",
    "        \n",
    "    def call(self, inputs, training):\n",
    "        inputs = tf.cast(inputs, tf.int32)\n",
    "        x = self._decoder(inputs, training=training)\n",
    "        return x[0]\n",
    "\n"
   ]
  },
  {
   "cell_type": "markdown",
   "metadata": {
    "papermill": {
     "duration": 0.018793,
     "end_time": "2020-11-27T11:57:23.700808",
     "exception": false,
     "start_time": "2020-11-27T11:57:23.682015",
     "status": "completed"
    },
    "tags": []
   },
   "source": [
    "## Prepare Model"
   ]
  },
  {
   "cell_type": "code",
   "execution_count": 20,
   "metadata": {
    "execution": {
     "iopub.execute_input": "2020-11-27T11:57:23.742498Z",
     "iopub.status.busy": "2020-11-27T11:57:23.742096Z",
     "iopub.status.idle": "2020-11-27T11:57:23.744366Z",
     "shell.execute_reply": "2020-11-27T11:57:23.744015Z"
    },
    "papermill": {
     "duration": 0.025,
     "end_time": "2020-11-27T11:57:23.744437",
     "exception": false,
     "start_time": "2020-11-27T11:57:23.719437",
     "status": "completed"
    },
    "tags": []
   },
   "outputs": [],
   "source": [
    "from tfchat.losses import PaddingLoss\n",
    "from tfchat.schedules import WarmupLinearDecay\n",
    "import tensorflow.keras as keras\n",
    "\n",
    "\n",
    "\n",
    "def train(_model, _train_dataset, _valid_dataset, _epochs, _warmup_steps, _num_train_steps, _max_learning_rate, _clipnorm):\n",
    "    schedule = WarmupLinearDecay(max_learning_rate=_max_learning_rate,\n",
    "                                 warmup_steps=_warmup_steps,\n",
    "                                 training_steps=_num_train_steps*_epochs)\n",
    "    optimizer = keras.optimizers.Adam(schedule, beta_1=0.9, beta_2=0.999, epsilon=1e-8, clipnorm=_clipnorm)\n",
    "    _model.compile(loss=PaddingLoss(), optimizer=optimizer)\n",
    "\n",
    "\n",
    "    history = _model.fit(\n",
    "        _train_dataset,\n",
    "        validation_data=_valid_dataset,\n",
    "        epochs=_epochs,\n",
    "        callbacks=[\n",
    "            keras.callbacks.EarlyStopping(patience=1, restore_best_weights=True),\n",
    "            # If you want to save chekcpoints, remove the next comment out\n",
    "            #keras.callbacks.ModelCheckpoint(\"keras_model/\", save_best_only=True)\n",
    "        ],\n",
    "        verbose=2,\n",
    "    )\n"
   ]
  },
  {
   "cell_type": "code",
   "execution_count": 21,
   "metadata": {
    "execution": {
     "iopub.execute_input": "2020-11-27T11:57:23.794055Z",
     "iopub.status.busy": "2020-11-27T11:57:23.793654Z",
     "iopub.status.idle": "2020-11-27T11:57:23.950928Z",
     "shell.execute_reply": "2020-11-27T11:57:23.950615Z"
    },
    "papermill": {
     "duration": 0.187925,
     "end_time": "2020-11-27T11:57:23.951011",
     "exception": false,
     "start_time": "2020-11-27T11:57:23.763086",
     "status": "completed"
    },
    "tags": []
   },
   "outputs": [],
   "source": [
    "if model_type == \"pre_ln\":\n",
    "    from tfchat.models import PreLNDecoder\n",
    "    model = PreLNDecoder(config)\n",
    "elif model_type == \"post_ln\":\n",
    "    from tfchat.models import PostLNDecoder \n",
    "    model = PostLNDecoder(config)\n",
    "elif model_type == \"transformers\":\n",
    "    model = TransformersGPT2(config)\n",
    "elif model_type == \"min_gpt\":\n",
    "    from mingpt.model import GPT, GPTConfig\n",
    "    mconf = GPTConfig(config.vocab_size, config.context_size,\n",
    "                      n_layer=config.num_layers, n_head=config.num_heads, n_embd=config.d_model)\n",
    "    model = GPT(mconf)\n",
    "else:\n",
    "    raise Exception(\"Model type is wrong\")"
   ]
  },
  {
   "cell_type": "code",
   "execution_count": 22,
   "metadata": {
    "execution": {
     "iopub.execute_input": "2020-11-27T11:57:23.991578Z",
     "iopub.status.busy": "2020-11-27T11:57:23.991217Z",
     "iopub.status.idle": "2020-11-27T11:57:25.355421Z",
     "shell.execute_reply": "2020-11-27T11:57:25.355707Z"
    },
    "papermill": {
     "duration": 1.385676,
     "end_time": "2020-11-27T11:57:25.355802",
     "exception": false,
     "start_time": "2020-11-27T11:57:23.970126",
     "status": "completed"
    },
    "tags": []
   },
   "outputs": [
    {
     "name": "stdout",
     "output_type": "stream",
     "text": [
      "Model: \"pre_ln_decoder\"\n",
      "_________________________________________________________________\n",
      "Layer (type)                 Output Shape              Param #   \n",
      "=================================================================\n",
      "decoder (Decoder)            multiple                  123614976 \n",
      "=================================================================\n",
      "Total params: 123,614,976\n",
      "Trainable params: 123,614,976\n",
      "Non-trainable params: 0\n",
      "_________________________________________________________________\n"
     ]
    }
   ],
   "source": [
    "model.build(input_shape=(None, config.context_size))\n",
    "model.summary()"
   ]
  },
  {
   "cell_type": "code",
   "execution_count": 23,
   "metadata": {
    "execution": {
     "iopub.execute_input": "2020-11-27T11:57:25.401220Z",
     "iopub.status.busy": "2020-11-27T11:57:25.400858Z",
     "iopub.status.idle": "2020-11-30T08:00:47.167560Z",
     "shell.execute_reply": "2020-11-30T08:00:47.168187Z"
    },
    "papermill": {
     "duration": 245001.793322,
     "end_time": "2020-11-30T08:00:47.168403",
     "exception": false,
     "start_time": "2020-11-27T11:57:25.375081",
     "status": "completed"
    },
    "tags": []
   },
   "outputs": [
    {
     "name": "stdout",
     "output_type": "stream",
     "text": [
      "Epoch 1/10\n"
     ]
    },
    {
     "name": "stderr",
     "output_type": "stream",
     "text": [
      "/usr/local/lib/python3.6/dist-packages/tensorflow/python/framework/indexed_slices.py:433: UserWarning: Converting sparse IndexedSlices to a dense Tensor of unknown shape. This may consume a large amount of memory.\n",
      "  \"Converting sparse IndexedSlices to a dense Tensor of unknown shape. \"\n"
     ]
    },
    {
     "name": "stdout",
     "output_type": "stream",
     "text": [
      "57009/57009 - 24472s - loss: 4.5840 - val_loss: 3.6927\n",
      "Epoch 2/10\n",
      "57009/57009 - 24459s - loss: 3.6399 - val_loss: 3.3803\n",
      "Epoch 3/10\n",
      "57009/57009 - 24489s - loss: 3.3935 - val_loss: 3.2481\n",
      "Epoch 4/10\n",
      "57009/57009 - 24508s - loss: 3.2512 - val_loss: 3.1709\n",
      "Epoch 5/10\n",
      "57009/57009 - 24481s - loss: 3.1498 - val_loss: 3.1171\n",
      "Epoch 6/10\n",
      "57009/57009 - 24434s - loss: 3.0696 - val_loss: 3.0753\n",
      "Epoch 7/10\n",
      "57009/57009 - 24546s - loss: 3.0030 - val_loss: 3.0500\n",
      "Epoch 8/10\n",
      "57009/57009 - 24409s - loss: 2.9454 - val_loss: 3.0255\n",
      "Epoch 9/10\n",
      "57009/57009 - 24484s - loss: 2.8951 - val_loss: 3.0074\n",
      "Epoch 10/10\n",
      "57009/57009 - 24613s - loss: 2.8521 - val_loss: 2.9948\n"
     ]
    }
   ],
   "source": [
    "train(model, train_dataset, valid_dataset, epochs, warmup_steps, num_train_steps, max_learning_rate, clipnorm)"
   ]
  },
  {
   "cell_type": "code",
   "execution_count": 24,
   "metadata": {
    "execution": {
     "iopub.execute_input": "2020-11-30T08:00:47.227658Z",
     "iopub.status.busy": "2020-11-30T08:00:47.227297Z",
     "iopub.status.idle": "2020-11-30T08:01:03.258140Z",
     "shell.execute_reply": "2020-11-30T08:01:03.257743Z"
    },
    "papermill": {
     "duration": 16.064947,
     "end_time": "2020-11-30T08:01:03.258220",
     "exception": false,
     "start_time": "2020-11-30T08:00:47.193273",
     "status": "completed"
    },
    "tags": []
   },
   "outputs": [
    {
     "name": "stdout",
     "output_type": "stream",
     "text": [
      "{'loss': 2.994828, 'perplexity': 19.981922, 'num_batches': 119, 'num_tokens': 243712}\n",
      "Validation PPL: 19.981922\n"
     ]
    }
   ],
   "source": [
    "from tfchat.eval import perplexity\n",
    "\n",
    "print(\"Validation PPL:\", perplexity(model, valid_dataset))"
   ]
  },
  {
   "cell_type": "code",
   "execution_count": 25,
   "metadata": {
    "execution": {
     "iopub.execute_input": "2020-11-30T08:01:03.309820Z",
     "iopub.status.busy": "2020-11-30T08:01:03.309465Z",
     "iopub.status.idle": "2020-11-30T08:01:04.561456Z",
     "shell.execute_reply": "2020-11-30T08:01:04.559389Z"
    },
    "papermill": {
     "duration": 1.279782,
     "end_time": "2020-11-30T08:01:04.561871",
     "exception": false,
     "start_time": "2020-11-30T08:01:03.282089",
     "status": "completed"
    },
    "tags": []
   },
   "outputs": [],
   "source": [
    "from tfchat.utils import save_model\n",
    "\n",
    "save_model(save_model_dir, model, config)"
   ]
  },
  {
   "cell_type": "code",
   "execution_count": null,
   "metadata": {
    "papermill": {
     "duration": 0.188721,
     "end_time": "2020-11-30T08:01:04.774810",
     "exception": false,
     "start_time": "2020-11-30T08:01:04.586089",
     "status": "completed"
    },
    "tags": []
   },
   "outputs": [],
   "source": []
  }
 ],
 "metadata": {
  "celltoolbar": "Tags",
  "kernelspec": {
   "display_name": "Python 3",
   "language": "python",
   "name": "python3"
  },
  "language_info": {
   "codemirror_mode": {
    "name": "ipython",
    "version": 3
   },
   "file_extension": ".py",
   "mimetype": "text/x-python",
   "name": "python",
   "nbconvert_exporter": "python",
   "pygments_lexer": "ipython3",
   "version": "3.8.2"
  },
  "papermill": {
   "duration": 245599.476236,
   "end_time": "2020-11-30T08:01:11.117061",
   "environment_variables": {},
   "exception": null,
   "input_path": "tfmodel_train_scratch.ipynb",
   "output_path": "output/tfmodel_train_scratch-wikitext_103_raw-pre_ln-gelu-lr_e4-clipnorm_none.ipynb",
   "parameters": {
    "clipnorm": null,
    "save_model_dir": "tfchat_model-gelu-lr_e4"
   },
   "start_time": "2020-11-27T11:47:51.640825",
   "version": "2.1.3"
  }
 },
 "nbformat": 4,
 "nbformat_minor": 4
}
