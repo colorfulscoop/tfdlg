{
 "cells": [
  {
   "cell_type": "markdown",
   "metadata": {
    "papermill": {
     "duration": 0.0178,
     "end_time": "2020-11-10T15:01:38.265384",
     "exception": false,
     "start_time": "2020-11-10T15:01:38.247584",
     "status": "completed"
    },
    "tags": []
   },
   "source": [
    "## Parameter"
   ]
  },
  {
   "cell_type": "code",
   "execution_count": 1,
   "metadata": {
    "execution": {
     "iopub.execute_input": "2020-11-10T15:01:38.293111Z",
     "iopub.status.busy": "2020-11-10T15:01:38.292738Z",
     "iopub.status.idle": "2020-11-10T15:01:38.294639Z",
     "shell.execute_reply": "2020-11-10T15:01:38.294268Z"
    },
    "papermill": {
     "duration": 0.016887,
     "end_time": "2020-11-10T15:01:38.294719",
     "exception": false,
     "start_time": "2020-11-10T15:01:38.277832",
     "status": "completed"
    },
    "tags": [
     "parameters"
    ]
   },
   "outputs": [],
   "source": [
    "# These parameters can be injected from Papermill\n",
    "model_type = \"pre_ln\"\n",
    "train_file = \"wikitext-103-raw/wiki.train.raw\"\n",
    "valid_file = \"wikitext-103-raw/wiki.valid.raw\"\n",
    "epochs = 10\n",
    "batch_size = 2\n",
    "max_learning_rate = 1e-4\n",
    "warmup_steps = 0\n",
    "save_model_dir = \"tfchat_model\""
   ]
  },
  {
   "cell_type": "code",
   "execution_count": 2,
   "metadata": {
    "execution": {
     "iopub.execute_input": "2020-11-10T15:01:38.321115Z",
     "iopub.status.busy": "2020-11-10T15:01:38.320751Z",
     "iopub.status.idle": "2020-11-10T15:01:38.322645Z",
     "shell.execute_reply": "2020-11-10T15:01:38.322283Z"
    },
    "papermill": {
     "duration": 0.015874,
     "end_time": "2020-11-10T15:01:38.322718",
     "exception": false,
     "start_time": "2020-11-10T15:01:38.306844",
     "status": "completed"
    },
    "tags": [
     "injected-parameters"
    ]
   },
   "outputs": [],
   "source": [
    "# Parameters\n",
    "save_model_dir = \"tfchat_model-lr_e4\"\n"
   ]
  },
  {
   "cell_type": "code",
   "execution_count": 3,
   "metadata": {
    "execution": {
     "iopub.execute_input": "2020-11-10T15:01:38.349330Z",
     "iopub.status.busy": "2020-11-10T15:01:38.348964Z",
     "iopub.status.idle": "2020-11-10T15:01:38.350847Z",
     "shell.execute_reply": "2020-11-10T15:01:38.350489Z"
    },
    "papermill": {
     "duration": 0.015966,
     "end_time": "2020-11-10T15:01:38.350919",
     "exception": false,
     "start_time": "2020-11-10T15:01:38.334953",
     "status": "completed"
    },
    "tags": []
   },
   "outputs": [],
   "source": [
    "# Assert parameters\n",
    "assert model_type in [\"pre_ln\", \"post_ln\", \"min_gpt\", \"transformers\"]"
   ]
  },
  {
   "cell_type": "markdown",
   "metadata": {
    "papermill": {
     "duration": 0.012312,
     "end_time": "2020-11-10T15:01:38.375718",
     "exception": false,
     "start_time": "2020-11-10T15:01:38.363406",
     "status": "completed"
    },
    "tags": []
   },
   "source": [
    "## Installation"
   ]
  },
  {
   "cell_type": "code",
   "execution_count": 4,
   "metadata": {
    "execution": {
     "iopub.execute_input": "2020-11-10T15:01:38.403877Z",
     "iopub.status.busy": "2020-11-10T15:01:38.403513Z",
     "iopub.status.idle": "2020-11-10T15:01:42.852857Z",
     "shell.execute_reply": "2020-11-10T15:01:42.854398Z"
    },
    "papermill": {
     "duration": 4.466648,
     "end_time": "2020-11-10T15:01:42.854866",
     "exception": false,
     "start_time": "2020-11-10T15:01:38.388218",
     "status": "completed"
    },
    "tags": []
   },
   "outputs": [
    {
     "name": "stdout",
     "output_type": "stream",
     "text": [
      "Reading package lists... Done\n",
      "Building dependency tree       \n",
      "Reading state information... Done\n",
      "git is already the newest version (1:2.17.1-1ubuntu0.7).\n",
      "0 upgraded, 0 newly installed, 0 to remove and 30 not upgraded.\n",
      "Collecting git+https://github.com/noriyukipy/tfchat@fix_transposed_embedding\n",
      "  Cloning https://github.com/noriyukipy/tfchat (to revision fix_transposed_embedding) to /tmp/pip-req-build-viypzujq\n",
      "Requirement already satisfied (use --upgrade to upgrade): tfchat==0.1.0 from git+https://github.com/noriyukipy/tfchat@fix_transposed_embedding in /usr/local/lib/python3.6/dist-packages\n",
      "Requirement already satisfied: tensorflow~=2.0 in /usr/local/lib/python3.6/dist-packages (from tfchat==0.1.0) (2.3.1)\n",
      "Requirement already satisfied: sentencepiece==0.1.91 in /usr/local/lib/python3.6/dist-packages (from tfchat==0.1.0) (0.1.91)\n",
      "Requirement already satisfied: scipy~=1.5.0 in /usr/local/lib/python3.6/dist-packages (from tfchat==0.1.0) (1.5.4)\n",
      "Requirement already satisfied: pydantic==1.6.1 in /usr/local/lib/python3.6/dist-packages (from tfchat==0.1.0) (1.6.1)\n",
      "Requirement already satisfied: gast==0.3.3 in /usr/local/lib/python3.6/dist-packages (from tensorflow~=2.0->tfchat==0.1.0) (0.3.3)\n",
      "Requirement already satisfied: tensorflow-estimator<2.4.0,>=2.3.0 in /usr/local/lib/python3.6/dist-packages (from tensorflow~=2.0->tfchat==0.1.0) (2.3.0)\n",
      "Requirement already satisfied: tensorboard<3,>=2.3.0 in /usr/local/lib/python3.6/dist-packages (from tensorflow~=2.0->tfchat==0.1.0) (2.3.0)\n",
      "Requirement already satisfied: wheel>=0.26 in /usr/lib/python3/dist-packages (from tensorflow~=2.0->tfchat==0.1.0) (0.30.0)\n",
      "Requirement already satisfied: astunparse==1.6.3 in /usr/local/lib/python3.6/dist-packages (from tensorflow~=2.0->tfchat==0.1.0) (1.6.3)\n",
      "Requirement already satisfied: opt-einsum>=2.3.2 in /usr/local/lib/python3.6/dist-packages (from tensorflow~=2.0->tfchat==0.1.0) (3.3.0)\n",
      "Requirement already satisfied: numpy<1.19.0,>=1.16.0 in /usr/local/lib/python3.6/dist-packages (from tensorflow~=2.0->tfchat==0.1.0) (1.18.5)\n",
      "Requirement already satisfied: wrapt>=1.11.1 in /usr/local/lib/python3.6/dist-packages (from tensorflow~=2.0->tfchat==0.1.0) (1.12.1)\n",
      "Requirement already satisfied: grpcio>=1.8.6 in /usr/local/lib/python3.6/dist-packages (from tensorflow~=2.0->tfchat==0.1.0) (1.32.0)\n",
      "Requirement already satisfied: google-pasta>=0.1.8 in /usr/local/lib/python3.6/dist-packages (from tensorflow~=2.0->tfchat==0.1.0) (0.2.0)\n",
      "Requirement already satisfied: keras-preprocessing<1.2,>=1.1.1 in /usr/local/lib/python3.6/dist-packages (from tensorflow~=2.0->tfchat==0.1.0) (1.1.2)\n",
      "Requirement already satisfied: six>=1.12.0 in /usr/local/lib/python3.6/dist-packages (from tensorflow~=2.0->tfchat==0.1.0) (1.15.0)\n",
      "Requirement already satisfied: protobuf>=3.9.2 in /usr/local/lib/python3.6/dist-packages (from tensorflow~=2.0->tfchat==0.1.0) (3.13.0)\n",
      "Requirement already satisfied: absl-py>=0.7.0 in /usr/local/lib/python3.6/dist-packages (from tensorflow~=2.0->tfchat==0.1.0) (0.10.0)\n",
      "Requirement already satisfied: h5py<2.11.0,>=2.10.0 in /usr/local/lib/python3.6/dist-packages (from tensorflow~=2.0->tfchat==0.1.0) (2.10.0)\n",
      "Requirement already satisfied: termcolor>=1.1.0 in /usr/local/lib/python3.6/dist-packages (from tensorflow~=2.0->tfchat==0.1.0) (1.1.0)\n",
      "Requirement already satisfied: dataclasses>=0.6; python_version < \"3.7\" in /usr/local/lib/python3.6/dist-packages (from pydantic==1.6.1->tfchat==0.1.0) (0.7)\n",
      "Requirement already satisfied: requests<3,>=2.21.0 in /usr/local/lib/python3.6/dist-packages (from tensorboard<3,>=2.3.0->tensorflow~=2.0->tfchat==0.1.0) (2.24.0)\n",
      "Requirement already satisfied: setuptools>=41.0.0 in /usr/local/lib/python3.6/dist-packages (from tensorboard<3,>=2.3.0->tensorflow~=2.0->tfchat==0.1.0) (50.3.0)\n",
      "Requirement already satisfied: werkzeug>=0.11.15 in /usr/local/lib/python3.6/dist-packages (from tensorboard<3,>=2.3.0->tensorflow~=2.0->tfchat==0.1.0) (1.0.1)\n",
      "Requirement already satisfied: tensorboard-plugin-wit>=1.6.0 in /usr/local/lib/python3.6/dist-packages (from tensorboard<3,>=2.3.0->tensorflow~=2.0->tfchat==0.1.0) (1.7.0)\n",
      "Requirement already satisfied: google-auth<2,>=1.6.3 in /usr/local/lib/python3.6/dist-packages (from tensorboard<3,>=2.3.0->tensorflow~=2.0->tfchat==0.1.0) (1.22.0)\n",
      "Requirement already satisfied: google-auth-oauthlib<0.5,>=0.4.1 in /usr/local/lib/python3.6/dist-packages (from tensorboard<3,>=2.3.0->tensorflow~=2.0->tfchat==0.1.0) (0.4.1)\n",
      "Requirement already satisfied: markdown>=2.6.8 in /usr/local/lib/python3.6/dist-packages (from tensorboard<3,>=2.3.0->tensorflow~=2.0->tfchat==0.1.0) (3.2.2)\n",
      "Requirement already satisfied: chardet<4,>=3.0.2 in /usr/local/lib/python3.6/dist-packages (from requests<3,>=2.21.0->tensorboard<3,>=2.3.0->tensorflow~=2.0->tfchat==0.1.0) (3.0.4)\n",
      "Requirement already satisfied: certifi>=2017.4.17 in /usr/local/lib/python3.6/dist-packages (from requests<3,>=2.21.0->tensorboard<3,>=2.3.0->tensorflow~=2.0->tfchat==0.1.0) (2020.6.20)\n",
      "Requirement already satisfied: urllib3!=1.25.0,!=1.25.1,<1.26,>=1.21.1 in /usr/local/lib/python3.6/dist-packages (from requests<3,>=2.21.0->tensorboard<3,>=2.3.0->tensorflow~=2.0->tfchat==0.1.0) (1.25.10)\n",
      "Requirement already satisfied: idna<3,>=2.5 in /usr/lib/python3/dist-packages (from requests<3,>=2.21.0->tensorboard<3,>=2.3.0->tensorflow~=2.0->tfchat==0.1.0) (2.6)\n",
      "Requirement already satisfied: aiohttp<4.0.0dev,>=3.6.2; python_version >= \"3.6\" in /usr/local/lib/python3.6/dist-packages (from google-auth<2,>=1.6.3->tensorboard<3,>=2.3.0->tensorflow~=2.0->tfchat==0.1.0) (3.6.2)\n",
      "Requirement already satisfied: rsa<5,>=3.1.4; python_version >= \"3.5\" in /usr/local/lib/python3.6/dist-packages (from google-auth<2,>=1.6.3->tensorboard<3,>=2.3.0->tensorflow~=2.0->tfchat==0.1.0) (4.6)\n",
      "Requirement already satisfied: pyasn1-modules>=0.2.1 in /usr/local/lib/python3.6/dist-packages (from google-auth<2,>=1.6.3->tensorboard<3,>=2.3.0->tensorflow~=2.0->tfchat==0.1.0) (0.2.8)\n",
      "Requirement already satisfied: cachetools<5.0,>=2.0.0 in /usr/local/lib/python3.6/dist-packages (from google-auth<2,>=1.6.3->tensorboard<3,>=2.3.0->tensorflow~=2.0->tfchat==0.1.0) (4.1.1)\n",
      "Requirement already satisfied: requests-oauthlib>=0.7.0 in /usr/local/lib/python3.6/dist-packages (from google-auth-oauthlib<0.5,>=0.4.1->tensorboard<3,>=2.3.0->tensorflow~=2.0->tfchat==0.1.0) (1.3.0)\n",
      "Requirement already satisfied: importlib-metadata; python_version < \"3.8\" in /usr/local/lib/python3.6/dist-packages (from markdown>=2.6.8->tensorboard<3,>=2.3.0->tensorflow~=2.0->tfchat==0.1.0) (2.0.0)\n",
      "Requirement already satisfied: attrs>=17.3.0 in /usr/local/lib/python3.6/dist-packages (from aiohttp<4.0.0dev,>=3.6.2; python_version >= \"3.6\"->google-auth<2,>=1.6.3->tensorboard<3,>=2.3.0->tensorflow~=2.0->tfchat==0.1.0) (20.2.0)\n",
      "Requirement already satisfied: typing-extensions>=3.6.5; python_version < \"3.7\" in /usr/local/lib/python3.6/dist-packages (from aiohttp<4.0.0dev,>=3.6.2; python_version >= \"3.6\"->google-auth<2,>=1.6.3->tensorboard<3,>=2.3.0->tensorflow~=2.0->tfchat==0.1.0) (3.7.4.3)\n",
      "Requirement already satisfied: yarl<2.0,>=1.0 in /usr/local/lib/python3.6/dist-packages (from aiohttp<4.0.0dev,>=3.6.2; python_version >= \"3.6\"->google-auth<2,>=1.6.3->tensorboard<3,>=2.3.0->tensorflow~=2.0->tfchat==0.1.0) (1.6.0)\n",
      "Requirement already satisfied: multidict<5.0,>=4.5 in /usr/local/lib/python3.6/dist-packages (from aiohttp<4.0.0dev,>=3.6.2; python_version >= \"3.6\"->google-auth<2,>=1.6.3->tensorboard<3,>=2.3.0->tensorflow~=2.0->tfchat==0.1.0) (4.7.6)\n",
      "Requirement already satisfied: idna-ssl>=1.0; python_version < \"3.7\" in /usr/local/lib/python3.6/dist-packages (from aiohttp<4.0.0dev,>=3.6.2; python_version >= \"3.6\"->google-auth<2,>=1.6.3->tensorboard<3,>=2.3.0->tensorflow~=2.0->tfchat==0.1.0) (1.1.0)\n",
      "Requirement already satisfied: async-timeout<4.0,>=3.0 in /usr/local/lib/python3.6/dist-packages (from aiohttp<4.0.0dev,>=3.6.2; python_version >= \"3.6\"->google-auth<2,>=1.6.3->tensorboard<3,>=2.3.0->tensorflow~=2.0->tfchat==0.1.0) (3.0.1)\n",
      "Requirement already satisfied: pyasn1>=0.1.3 in /usr/local/lib/python3.6/dist-packages (from rsa<5,>=3.1.4; python_version >= \"3.5\"->google-auth<2,>=1.6.3->tensorboard<3,>=2.3.0->tensorflow~=2.0->tfchat==0.1.0) (0.4.8)\n",
      "Requirement already satisfied: oauthlib>=3.0.0 in /usr/local/lib/python3.6/dist-packages (from requests-oauthlib>=0.7.0->google-auth-oauthlib<0.5,>=0.4.1->tensorboard<3,>=2.3.0->tensorflow~=2.0->tfchat==0.1.0) (3.1.0)\n",
      "Requirement already satisfied: zipp>=0.5 in /usr/local/lib/python3.6/dist-packages (from importlib-metadata; python_version < \"3.8\"->markdown>=2.6.8->tensorboard<3,>=2.3.0->tensorflow~=2.0->tfchat==0.1.0) (3.2.0)\n",
      "Building wheels for collected packages: tfchat\n",
      "  Building wheel for tfchat (setup.py) ... \u001b[?25ldone\n",
      "\u001b[?25h  Created wheel for tfchat: filename=tfchat-0.1.0-py3-none-any.whl size=13155 sha256=8319a4dffe86462c0323d94ea54ae9181651c190592911dcfee1505ebc54c524\n",
      "  Stored in directory: /tmp/pip-ephem-wheel-cache-j863nv_i/wheels/fb/fc/0e/869364083a0bc01d1301fdd9651b959a6acd002a8433550179\n",
      "Successfully built tfchat\n",
      "\u001b[33mWARNING: You are using pip version 20.2.3; however, version 20.2.4 is available.\n",
      "You should consider upgrading via the '/usr/bin/python3 -m pip install --upgrade pip' command.\u001b[0m\n"
     ]
    }
   ],
   "source": [
    "!apt install -y git\n",
    "!pip install git+https://github.com/noriyukipy/tfchat@fix_transposed_embedding"
   ]
  },
  {
   "cell_type": "markdown",
   "metadata": {
    "papermill": {
     "duration": 0.016199,
     "end_time": "2020-11-10T15:01:42.888778",
     "exception": false,
     "start_time": "2020-11-10T15:01:42.872579",
     "status": "completed"
    },
    "tags": []
   },
   "source": [
    "## Configure GPU"
   ]
  },
  {
   "cell_type": "code",
   "execution_count": 5,
   "metadata": {
    "execution": {
     "iopub.execute_input": "2020-11-10T15:01:42.923596Z",
     "iopub.status.busy": "2020-11-10T15:01:42.923226Z",
     "iopub.status.idle": "2020-11-10T15:01:43.819973Z",
     "shell.execute_reply": "2020-11-10T15:01:43.820313Z"
    },
    "papermill": {
     "duration": 0.91548,
     "end_time": "2020-11-10T15:01:43.820415",
     "exception": false,
     "start_time": "2020-11-10T15:01:42.904935",
     "status": "completed"
    },
    "tags": []
   },
   "outputs": [],
   "source": [
    "from tfchat.utils import set_memory_growth"
   ]
  },
  {
   "cell_type": "code",
   "execution_count": 6,
   "metadata": {
    "execution": {
     "iopub.execute_input": "2020-11-10T15:01:44.016716Z",
     "iopub.status.busy": "2020-11-10T15:01:44.016164Z",
     "iopub.status.idle": "2020-11-10T15:01:44.018652Z",
     "shell.execute_reply": "2020-11-10T15:01:44.018129Z"
    },
    "papermill": {
     "duration": 0.181347,
     "end_time": "2020-11-10T15:01:44.018769",
     "exception": false,
     "start_time": "2020-11-10T15:01:43.837422",
     "status": "completed"
    },
    "tags": []
   },
   "outputs": [
    {
     "name": "stdout",
     "output_type": "stream",
     "text": [
      "Set memory growth to PhysicalDevice(name='/physical_device:GPU:0', device_type='GPU')\n"
     ]
    }
   ],
   "source": [
    "set_memory_growth()"
   ]
  },
  {
   "cell_type": "markdown",
   "metadata": {
    "papermill": {
     "duration": 0.021427,
     "end_time": "2020-11-10T15:01:44.065958",
     "exception": false,
     "start_time": "2020-11-10T15:01:44.044531",
     "status": "completed"
    },
    "tags": []
   },
   "source": [
    "## Setup tokenizer"
   ]
  },
  {
   "cell_type": "code",
   "execution_count": 7,
   "metadata": {
    "execution": {
     "iopub.execute_input": "2020-11-10T15:01:44.105845Z",
     "iopub.status.busy": "2020-11-10T15:01:44.105470Z",
     "iopub.status.idle": "2020-11-10T15:01:45.499531Z",
     "shell.execute_reply": "2020-11-10T15:01:45.501205Z"
    },
    "papermill": {
     "duration": 1.419409,
     "end_time": "2020-11-10T15:01:45.501704",
     "exception": false,
     "start_time": "2020-11-10T15:01:44.082295",
     "status": "completed"
    },
    "tags": []
   },
   "outputs": [
    {
     "name": "stdout",
     "output_type": "stream",
     "text": [
      "Requirement already satisfied: transformers==3.4.0 in /usr/local/lib/python3.6/dist-packages (3.4.0)\n",
      "Requirement already satisfied: packaging in /usr/local/lib/python3.6/dist-packages (from transformers==3.4.0) (20.4)\n",
      "Requirement already satisfied: dataclasses; python_version < \"3.7\" in /usr/local/lib/python3.6/dist-packages (from transformers==3.4.0) (0.7)\n",
      "Requirement already satisfied: tokenizers==0.9.2 in /usr/local/lib/python3.6/dist-packages (from transformers==3.4.0) (0.9.2)\n",
      "Requirement already satisfied: filelock in /usr/local/lib/python3.6/dist-packages (from transformers==3.4.0) (3.0.12)\n",
      "Requirement already satisfied: regex!=2019.12.17 in /usr/local/lib/python3.6/dist-packages (from transformers==3.4.0) (2020.10.28)\n",
      "Requirement already satisfied: requests in /usr/local/lib/python3.6/dist-packages (from transformers==3.4.0) (2.24.0)\n",
      "Requirement already satisfied: numpy in /usr/local/lib/python3.6/dist-packages (from transformers==3.4.0) (1.18.5)\n",
      "Requirement already satisfied: sentencepiece!=0.1.92 in /usr/local/lib/python3.6/dist-packages (from transformers==3.4.0) (0.1.91)\n",
      "Requirement already satisfied: sacremoses in /usr/local/lib/python3.6/dist-packages (from transformers==3.4.0) (0.0.43)\n",
      "Requirement already satisfied: tqdm>=4.27 in /usr/local/lib/python3.6/dist-packages (from transformers==3.4.0) (4.51.0)\n",
      "Requirement already satisfied: protobuf in /usr/local/lib/python3.6/dist-packages (from transformers==3.4.0) (3.13.0)\n",
      "Requirement already satisfied: pyparsing>=2.0.2 in /usr/local/lib/python3.6/dist-packages (from packaging->transformers==3.4.0) (2.4.7)\n",
      "Requirement already satisfied: six in /usr/local/lib/python3.6/dist-packages (from packaging->transformers==3.4.0) (1.15.0)\n",
      "Requirement already satisfied: urllib3!=1.25.0,!=1.25.1,<1.26,>=1.21.1 in /usr/local/lib/python3.6/dist-packages (from requests->transformers==3.4.0) (1.25.10)\n",
      "Requirement already satisfied: chardet<4,>=3.0.2 in /usr/local/lib/python3.6/dist-packages (from requests->transformers==3.4.0) (3.0.4)\n",
      "Requirement already satisfied: certifi>=2017.4.17 in /usr/local/lib/python3.6/dist-packages (from requests->transformers==3.4.0) (2020.6.20)\n",
      "Requirement already satisfied: idna<3,>=2.5 in /usr/lib/python3/dist-packages (from requests->transformers==3.4.0) (2.6)\n",
      "Requirement already satisfied: joblib in /usr/local/lib/python3.6/dist-packages (from sacremoses->transformers==3.4.0) (0.17.0)\n",
      "Requirement already satisfied: click in /usr/local/lib/python3.6/dist-packages (from sacremoses->transformers==3.4.0) (7.1.2)\n",
      "Requirement already satisfied: setuptools in /usr/local/lib/python3.6/dist-packages (from protobuf->transformers==3.4.0) (50.3.0)\n",
      "\u001b[33mWARNING: You are using pip version 20.2.3; however, version 20.2.4 is available.\n",
      "You should consider upgrading via the '/usr/bin/python3 -m pip install --upgrade pip' command.\u001b[0m\n",
      "Enabling notebook extension jupyter-js-widgets/extension...\n",
      "      - Validating: \u001b[32mOK\u001b[0m\n"
     ]
    }
   ],
   "source": [
    "# Install transformers by HuggingFace to use GPT2 tokenizer\n",
    "! pip install transformers==3.4.0\n",
    "# Enable widgetsnbextention to avoid the following error when running GPT2.from_pretrained method\n",
    "#     ImportError: IProgress not found. Please update jupyter and ipywidgets.\n",
    "! jupyter nbextension enable --py widgetsnbextension"
   ]
  },
  {
   "cell_type": "code",
   "execution_count": 8,
   "metadata": {
    "execution": {
     "iopub.execute_input": "2020-11-10T15:01:45.540230Z",
     "iopub.status.busy": "2020-11-10T15:01:45.539862Z",
     "iopub.status.idle": "2020-11-10T15:01:47.221992Z",
     "shell.execute_reply": "2020-11-10T15:01:47.221601Z"
    },
    "papermill": {
     "duration": 1.701975,
     "end_time": "2020-11-10T15:01:47.222080",
     "exception": false,
     "start_time": "2020-11-10T15:01:45.520105",
     "status": "completed"
    },
    "tags": []
   },
   "outputs": [],
   "source": [
    "# setup tokenizer\n",
    "from transformers import GPT2Tokenizer\n",
    "\n",
    "tokenizer = GPT2Tokenizer.from_pretrained(\"gpt2\")"
   ]
  },
  {
   "cell_type": "markdown",
   "metadata": {
    "papermill": {
     "duration": 0.017101,
     "end_time": "2020-11-10T15:01:47.257052",
     "exception": false,
     "start_time": "2020-11-10T15:01:47.239951",
     "status": "completed"
    },
    "tags": []
   },
   "source": [
    "## Prepare model config"
   ]
  },
  {
   "cell_type": "code",
   "execution_count": 9,
   "metadata": {
    "execution": {
     "iopub.execute_input": "2020-11-10T15:01:47.294215Z",
     "iopub.status.busy": "2020-11-10T15:01:47.293812Z",
     "iopub.status.idle": "2020-11-10T15:01:47.363390Z",
     "shell.execute_reply": "2020-11-10T15:01:47.363687Z"
    },
    "papermill": {
     "duration": 0.089624,
     "end_time": "2020-11-10T15:01:47.363785",
     "exception": false,
     "start_time": "2020-11-10T15:01:47.274161",
     "status": "completed"
    },
    "tags": []
   },
   "outputs": [],
   "source": [
    "from tfchat.configs import GPT2SmallConfig\n",
    "\n",
    "config = GPT2SmallConfig()\n",
    "\n",
    "# Set the larger number of vocab size than 33,278, which is the vocab size of Wikitext-2\n",
    "config.vocab_size = tokenizer.vocab_size"
   ]
  },
  {
   "cell_type": "code",
   "execution_count": 10,
   "metadata": {
    "execution": {
     "iopub.execute_input": "2020-11-10T15:01:47.404850Z",
     "iopub.status.busy": "2020-11-10T15:01:47.404423Z",
     "iopub.status.idle": "2020-11-10T15:01:47.406319Z",
     "shell.execute_reply": "2020-11-10T15:01:47.406627Z"
    },
    "papermill": {
     "duration": 0.025386,
     "end_time": "2020-11-10T15:01:47.406715",
     "exception": false,
     "start_time": "2020-11-10T15:01:47.381329",
     "status": "completed"
    },
    "tags": []
   },
   "outputs": [
    {
     "data": {
      "text/plain": [
       "GPT2SmallConfig(num_layers=12, d_model=768, num_heads=12, d_ff=3072, vocab_size=50257, context_size=1024, attention_dropout_rate=0.1, residual_dropout_rate=0.1, embedding_dropout_rate=0.1, epsilon=1e-06)"
      ]
     },
     "execution_count": 10,
     "metadata": {},
     "output_type": "execute_result"
    }
   ],
   "source": [
    "config"
   ]
  },
  {
   "cell_type": "markdown",
   "metadata": {
    "papermill": {
     "duration": 0.017257,
     "end_time": "2020-11-10T15:01:47.441421",
     "exception": false,
     "start_time": "2020-11-10T15:01:47.424164",
     "status": "completed"
    },
    "tags": []
   },
   "source": [
    "## Prepare Dataset"
   ]
  },
  {
   "cell_type": "code",
   "execution_count": 11,
   "metadata": {
    "execution": {
     "iopub.execute_input": "2020-11-10T15:01:47.479152Z",
     "iopub.status.busy": "2020-11-10T15:01:47.478790Z",
     "iopub.status.idle": "2020-11-10T15:01:47.480710Z",
     "shell.execute_reply": "2020-11-10T15:01:47.480349Z"
    },
    "papermill": {
     "duration": 0.022256,
     "end_time": "2020-11-10T15:01:47.480784",
     "exception": false,
     "start_time": "2020-11-10T15:01:47.458528",
     "status": "completed"
    },
    "tags": []
   },
   "outputs": [],
   "source": [
    "from pathlib import Path\n",
    "from urllib.request import urlretrieve\n",
    "import zipfile\n",
    "import numpy as np\n",
    "\n",
    "\n",
    "def encode_file(_tokenizer, _filepath):\n",
    "    ids = []\n",
    "    with open(_filepath) as f:\n",
    "        for line in f.readlines():\n",
    "            text = line.strip(\"\\n\")\n",
    "            ids.extend(_tokenizer.encode(text))\n",
    "\n",
    "    return np.array(ids, dtype=np.int32)"
   ]
  },
  {
   "cell_type": "code",
   "execution_count": 12,
   "metadata": {
    "execution": {
     "iopub.execute_input": "2020-11-10T15:01:47.518229Z",
     "iopub.status.busy": "2020-11-10T15:01:47.517829Z",
     "iopub.status.idle": "2020-11-10T15:09:21.628307Z",
     "shell.execute_reply": "2020-11-10T15:09:21.627931Z"
    },
    "papermill": {
     "duration": 454.130083,
     "end_time": "2020-11-10T15:09:21.628392",
     "exception": false,
     "start_time": "2020-11-10T15:01:47.498309",
     "status": "completed"
    },
    "tags": []
   },
   "outputs": [
    {
     "name": "stderr",
     "output_type": "stream",
     "text": [
      "Token indices sequence length is longer than the specified maximum sequence length for this model (1062 > 1024). Running this sequence through the model will result in indexing errors\n"
     ]
    }
   ],
   "source": [
    "train_ids = encode_file(tokenizer, train_file)\n",
    "valid_ids = encode_file(tokenizer, valid_file)"
   ]
  },
  {
   "cell_type": "code",
   "execution_count": 13,
   "metadata": {
    "execution": {
     "iopub.execute_input": "2020-11-10T15:09:21.681239Z",
     "iopub.status.busy": "2020-11-10T15:09:21.680881Z",
     "iopub.status.idle": "2020-11-10T15:09:21.682753Z",
     "shell.execute_reply": "2020-11-10T15:09:21.683035Z"
    },
    "papermill": {
     "duration": 0.036755,
     "end_time": "2020-11-10T15:09:21.683122",
     "exception": false,
     "start_time": "2020-11-10T15:09:21.646367",
     "status": "completed"
    },
    "tags": []
   },
   "outputs": [
    {
     "name": "stdout",
     "output_type": "stream",
     "text": [
      "Train: (116755111,)\n",
      "Valid: (244828,)\n"
     ]
    }
   ],
   "source": [
    "print(\"Train:\", train_ids.shape)\n",
    "print(\"Valid:\", valid_ids.shape)"
   ]
  },
  {
   "cell_type": "code",
   "execution_count": 14,
   "metadata": {
    "execution": {
     "iopub.execute_input": "2020-11-10T15:09:21.720578Z",
     "iopub.status.busy": "2020-11-10T15:09:21.720219Z",
     "iopub.status.idle": "2020-11-10T15:09:21.721978Z",
     "shell.execute_reply": "2020-11-10T15:09:21.722267Z"
    },
    "papermill": {
     "duration": 0.021632,
     "end_time": "2020-11-10T15:09:21.722349",
     "exception": false,
     "start_time": "2020-11-10T15:09:21.700717",
     "status": "completed"
    },
    "tags": []
   },
   "outputs": [
    {
     "name": "stdout",
     "output_type": "stream",
     "text": [
      "(116755111,)\n",
      "(244828,)\n"
     ]
    }
   ],
   "source": [
    "print(train_ids.shape)\n",
    "print(valid_ids.shape)"
   ]
  },
  {
   "cell_type": "code",
   "execution_count": 15,
   "metadata": {
    "execution": {
     "iopub.execute_input": "2020-11-10T15:09:22.249742Z",
     "iopub.status.busy": "2020-11-10T15:09:22.249361Z",
     "iopub.status.idle": "2020-11-10T15:09:22.306541Z",
     "shell.execute_reply": "2020-11-10T15:09:22.306159Z"
    },
    "papermill": {
     "duration": 0.566629,
     "end_time": "2020-11-10T15:09:22.306628",
     "exception": false,
     "start_time": "2020-11-10T15:09:21.739999",
     "status": "completed"
    },
    "tags": []
   },
   "outputs": [],
   "source": [
    "from tfchat.data import BlockDataset\n",
    "\n",
    "\n",
    "dataset = BlockDataset(block_size=config.context_size, batch_size=batch_size)\n",
    "\n",
    "train_dataset = dataset.build(train_ids, shuffle=True)\n",
    "valid_dataset = dataset.build(valid_ids, shuffle=False)"
   ]
  },
  {
   "cell_type": "code",
   "execution_count": 16,
   "metadata": {
    "execution": {
     "iopub.execute_input": "2020-11-10T15:09:22.346509Z",
     "iopub.status.busy": "2020-11-10T15:09:22.345915Z",
     "iopub.status.idle": "2020-11-10T15:11:16.019735Z",
     "shell.execute_reply": "2020-11-10T15:11:16.020040Z"
    },
    "papermill": {
     "duration": 113.695209,
     "end_time": "2020-11-10T15:11:16.020133",
     "exception": false,
     "start_time": "2020-11-10T15:09:22.324924",
     "status": "completed"
    },
    "tags": []
   },
   "outputs": [
    {
     "name": "stdout",
     "output_type": "stream",
     "text": [
      "Train steps: 57009\n",
      "Valid steps: 119\n"
     ]
    }
   ],
   "source": [
    "num_train_steps = len([_ for _ in train_dataset])\n",
    "num_valid_steps = len([_ for _ in valid_dataset])\n",
    "print(\"Train steps:\", num_train_steps)\n",
    "print(\"Valid steps:\", num_valid_steps)"
   ]
  },
  {
   "cell_type": "markdown",
   "metadata": {
    "papermill": {
     "duration": 0.018387,
     "end_time": "2020-11-10T15:11:16.056708",
     "exception": false,
     "start_time": "2020-11-10T15:11:16.038321",
     "status": "completed"
    },
    "tags": []
   },
   "source": [
    "## Transformers model implementation"
   ]
  },
  {
   "cell_type": "code",
   "execution_count": 17,
   "metadata": {
    "execution": {
     "iopub.execute_input": "2020-11-10T15:11:16.095847Z",
     "iopub.status.busy": "2020-11-10T15:11:16.095489Z",
     "iopub.status.idle": "2020-11-10T15:11:16.097487Z",
     "shell.execute_reply": "2020-11-10T15:11:16.097128Z"
    },
    "papermill": {
     "duration": 0.022853,
     "end_time": "2020-11-10T15:11:16.097562",
     "exception": false,
     "start_time": "2020-11-10T15:11:16.074709",
     "status": "completed"
    },
    "tags": []
   },
   "outputs": [],
   "source": [
    "from transformers import TFGPT2LMHeadModel\n",
    "from transformers import GPT2Config\n",
    "import tensorflow.keras as keras\n",
    "import tensorflow as tf\n",
    "from tfchat.models import create_combined_mask"
   ]
  },
  {
   "cell_type": "code",
   "execution_count": 18,
   "metadata": {
    "execution": {
     "iopub.execute_input": "2020-11-10T15:11:16.138248Z",
     "iopub.status.busy": "2020-11-10T15:11:16.137871Z",
     "iopub.status.idle": "2020-11-10T15:11:16.139808Z",
     "shell.execute_reply": "2020-11-10T15:11:16.139449Z"
    },
    "papermill": {
     "duration": 0.024115,
     "end_time": "2020-11-10T15:11:16.139883",
     "exception": false,
     "start_time": "2020-11-10T15:11:16.115768",
     "status": "completed"
    },
    "tags": []
   },
   "outputs": [],
   "source": [
    "class TransformersGPT2(keras.Model):\n",
    "    def __init__(self, config):\n",
    "        super().__init__()\n",
    "        tf_config = GPT2Config(\n",
    "            n_layers=config.num_layers,\n",
    "            n_embd=config.d_model,\n",
    "            n_head=config.num_heads,\n",
    "            n_inner=config.d_ff,\n",
    "            vocab_size=config.vocab_size,\n",
    "            n_ctx=config.context_size,\n",
    "            n_positions=config.context_size,\n",
    "            attn_pdrop=config.attention_dropout_rate,\n",
    "            resid_pdrop=config.residual_dropout_rate,\n",
    "            embd_pdrop=config.embedding_dropout_rate,\n",
    "            layer_norm_epsilon=config.epsilon,\n",
    "            activation_function=\"gelu_new\",  # Default value of transformers implementation\n",
    "            \n",
    "        )\n",
    "        self._decoder = TFGPT2LMHeadModel(tf_config)\n",
    "        \n",
    "    def call(self, inputs, training):\n",
    "        inputs = tf.cast(inputs, tf.int32)\n",
    "        x = self._decoder(inputs, training=training)\n",
    "        return x[0]\n",
    "\n"
   ]
  },
  {
   "cell_type": "markdown",
   "metadata": {
    "papermill": {
     "duration": 0.018221,
     "end_time": "2020-11-10T15:11:16.176513",
     "exception": false,
     "start_time": "2020-11-10T15:11:16.158292",
     "status": "completed"
    },
    "tags": []
   },
   "source": [
    "## Prepare Model"
   ]
  },
  {
   "cell_type": "code",
   "execution_count": 19,
   "metadata": {
    "execution": {
     "iopub.execute_input": "2020-11-10T15:11:16.217006Z",
     "iopub.status.busy": "2020-11-10T15:11:16.216637Z",
     "iopub.status.idle": "2020-11-10T15:11:16.217936Z",
     "shell.execute_reply": "2020-11-10T15:11:16.218226Z"
    },
    "papermill": {
     "duration": 0.023775,
     "end_time": "2020-11-10T15:11:16.218310",
     "exception": false,
     "start_time": "2020-11-10T15:11:16.194535",
     "status": "completed"
    },
    "tags": []
   },
   "outputs": [],
   "source": [
    "from tfchat.losses import PaddingLoss\n",
    "from tfchat.schedules import WarmupLinearDecay\n",
    "import tensorflow.keras as keras\n",
    "\n",
    "\n",
    "\n",
    "def train(_model, _train_dataset, _valid_dataset, _epochs, _warmup_steps, _num_train_steps, _max_learning_rate):\n",
    "    schedule = WarmupLinearDecay(max_learning_rate=_max_learning_rate,\n",
    "                                 warmup_steps=_warmup_steps,\n",
    "                                 training_steps=_num_train_steps*_epochs)\n",
    "    optimizer = keras.optimizers.Adam(schedule, beta_1=0.9, beta_2=0.999, epsilon=1e-8, clipnorm=1.0)\n",
    "    _model.compile(loss=PaddingLoss(), optimizer=optimizer)\n",
    "\n",
    "\n",
    "    history = _model.fit(\n",
    "        _train_dataset,\n",
    "        validation_data=_valid_dataset,\n",
    "        epochs=_epochs,\n",
    "        callbacks=[\n",
    "            keras.callbacks.EarlyStopping(patience=1, restore_best_weights=True),\n",
    "            # If you want to save chekcpoints, remove the next comment out\n",
    "            #keras.callbacks.ModelCheckpoint(\"keras_model/\", save_best_only=True)\n",
    "        ],\n",
    "        verbose=2,\n",
    "    )\n"
   ]
  },
  {
   "cell_type": "code",
   "execution_count": 20,
   "metadata": {
    "execution": {
     "iopub.execute_input": "2020-11-10T15:11:16.265956Z",
     "iopub.status.busy": "2020-11-10T15:11:16.265584Z",
     "iopub.status.idle": "2020-11-10T15:11:16.401630Z",
     "shell.execute_reply": "2020-11-10T15:11:16.401248Z"
    },
    "papermill": {
     "duration": 0.165126,
     "end_time": "2020-11-10T15:11:16.401716",
     "exception": false,
     "start_time": "2020-11-10T15:11:16.236590",
     "status": "completed"
    },
    "tags": []
   },
   "outputs": [],
   "source": [
    "if model_type == \"pre_ln\":\n",
    "    from tfchat.models import PreLNDecoder\n",
    "    model = PreLNDecoder(config)\n",
    "elif model_type == \"post_ln\":\n",
    "    from tfchat.models import PostLNDecoder \n",
    "    model = PostLNDecoder(config)\n",
    "elif model_type == \"transformers\":\n",
    "    model = TransformersGPT2(config)\n",
    "elif model_type == \"min_gpt\":\n",
    "    from mingpt.model import GPT, GPTConfig\n",
    "    mconf = GPTConfig(config.vocab_size, config.context_size,\n",
    "                      n_layer=config.num_layers, n_head=config.num_heads, n_embd=config.d_model)\n",
    "    model = GPT(mconf)\n",
    "else:\n",
    "    raise Exception(\"Model type is wrong\")"
   ]
  },
  {
   "cell_type": "code",
   "execution_count": 21,
   "metadata": {
    "execution": {
     "iopub.execute_input": "2020-11-10T15:11:16.442134Z",
     "iopub.status.busy": "2020-11-10T15:11:16.440831Z",
     "iopub.status.idle": "2020-11-10T15:11:17.709395Z",
     "shell.execute_reply": "2020-11-10T15:11:17.709033Z"
    },
    "papermill": {
     "duration": 1.289162,
     "end_time": "2020-11-10T15:11:17.709478",
     "exception": false,
     "start_time": "2020-11-10T15:11:16.420316",
     "status": "completed"
    },
    "tags": []
   },
   "outputs": [
    {
     "name": "stdout",
     "output_type": "stream",
     "text": [
      "Model: \"pre_ln_decoder\"\n",
      "_________________________________________________________________\n",
      "Layer (type)                 Output Shape              Param #   \n",
      "=================================================================\n",
      "decoder (Decoder)            multiple                  123614976 \n",
      "=================================================================\n",
      "Total params: 123,614,976\n",
      "Trainable params: 123,614,976\n",
      "Non-trainable params: 0\n",
      "_________________________________________________________________\n"
     ]
    }
   ],
   "source": [
    "model.build(input_shape=(None, config.context_size))\n",
    "model.summary()"
   ]
  },
  {
   "cell_type": "code",
   "execution_count": 22,
   "metadata": {
    "execution": {
     "iopub.execute_input": "2020-11-10T15:11:17.754389Z",
     "iopub.status.busy": "2020-11-10T15:11:17.753975Z",
     "iopub.status.idle": "2020-11-13T07:59:32.399201Z",
     "shell.execute_reply": "2020-11-13T07:59:32.399502Z"
    },
    "papermill": {
     "duration": 233294.671109,
     "end_time": "2020-11-13T07:59:32.399599",
     "exception": false,
     "start_time": "2020-11-10T15:11:17.728490",
     "status": "completed"
    },
    "tags": []
   },
   "outputs": [
    {
     "name": "stdout",
     "output_type": "stream",
     "text": [
      "Epoch 1/10\n"
     ]
    },
    {
     "name": "stderr",
     "output_type": "stream",
     "text": [
      "/usr/local/lib/python3.6/dist-packages/tensorflow/python/framework/indexed_slices.py:433: UserWarning: Converting sparse IndexedSlices to a dense Tensor of unknown shape. This may consume a large amount of memory.\n",
      "  \"Converting sparse IndexedSlices to a dense Tensor of unknown shape. \"\n"
     ]
    },
    {
     "name": "stdout",
     "output_type": "stream",
     "text": [
      "57009/57009 - 23038s - loss: 4.6271 - val_loss: 3.7614\n",
      "Epoch 2/10\n",
      "57009/57009 - 23316s - loss: 3.7029 - val_loss: 3.4380\n",
      "Epoch 3/10\n",
      "57009/57009 - 23359s - loss: 3.4503 - val_loss: 3.2945\n",
      "Epoch 4/10\n",
      "57009/57009 - 23366s - loss: 3.3052 - val_loss: 3.2065\n",
      "Epoch 5/10\n",
      "57009/57009 - 23285s - loss: 3.2019 - val_loss: 3.1543\n",
      "Epoch 6/10\n",
      "57009/57009 - 23271s - loss: 3.1207 - val_loss: 3.1123\n",
      "Epoch 7/10\n",
      "57009/57009 - 23411s - loss: 3.0527 - val_loss: 3.0792\n",
      "Epoch 8/10\n",
      "57009/57009 - 23374s - loss: 2.9942 - val_loss: 3.0528\n",
      "Epoch 9/10\n",
      "57009/57009 - 23380s - loss: 2.9430 - val_loss: 3.0314\n",
      "Epoch 10/10\n",
      "57009/57009 - 23388s - loss: 2.8995 - val_loss: 3.0188\n"
     ]
    }
   ],
   "source": [
    "train(model, train_dataset, valid_dataset, epochs, warmup_steps, num_train_steps, max_learning_rate)"
   ]
  },
  {
   "cell_type": "code",
   "execution_count": 23,
   "metadata": {
    "execution": {
     "iopub.execute_input": "2020-11-13T07:59:32.447697Z",
     "iopub.status.busy": "2020-11-13T07:59:32.447290Z",
     "iopub.status.idle": "2020-11-13T07:59:47.109915Z",
     "shell.execute_reply": "2020-11-13T07:59:47.110274Z"
    },
    "papermill": {
     "duration": 14.688048,
     "end_time": "2020-11-13T07:59:47.110368",
     "exception": false,
     "start_time": "2020-11-13T07:59:32.422320",
     "status": "completed"
    },
    "tags": []
   },
   "outputs": [
    {
     "name": "stdout",
     "output_type": "stream",
     "text": [
      "{'loss': 3.0188117, 'perplexity': 20.466957, 'num_batches': 119, 'num_tokens': 243712}\n",
      "Validation PPL: 20.466957\n"
     ]
    }
   ],
   "source": [
    "from tfchat.eval import perplexity\n",
    "\n",
    "print(\"Validation PPL:\", perplexity(model, valid_dataset))"
   ]
  },
  {
   "cell_type": "code",
   "execution_count": 24,
   "metadata": {
    "execution": {
     "iopub.execute_input": "2020-11-13T07:59:47.158635Z",
     "iopub.status.busy": "2020-11-13T07:59:47.158255Z",
     "iopub.status.idle": "2020-11-13T07:59:47.529399Z",
     "shell.execute_reply": "2020-11-13T07:59:47.529025Z"
    },
    "papermill": {
     "duration": 0.396272,
     "end_time": "2020-11-13T07:59:47.529484",
     "exception": false,
     "start_time": "2020-11-13T07:59:47.133212",
     "status": "completed"
    },
    "tags": []
   },
   "outputs": [],
   "source": [
    "from tfchat.utils import save_model\n",
    "\n",
    "save_model(save_model_dir, model, config)"
   ]
  },
  {
   "cell_type": "code",
   "execution_count": null,
   "metadata": {
    "papermill": {
     "duration": 0.022582,
     "end_time": "2020-11-13T07:59:47.575136",
     "exception": false,
     "start_time": "2020-11-13T07:59:47.552554",
     "status": "completed"
    },
    "tags": []
   },
   "outputs": [],
   "source": []
  }
 ],
 "metadata": {
  "celltoolbar": "Tags",
  "kernelspec": {
   "display_name": "Python 3",
   "language": "python",
   "name": "python3"
  },
  "language_info": {
   "codemirror_mode": {
    "name": "ipython",
    "version": 3
   },
   "file_extension": ".py",
   "mimetype": "text/x-python",
   "name": "python",
   "nbconvert_exporter": "python",
   "pygments_lexer": "ipython3",
   "version": "3.8.2"
  },
  "papermill": {
   "duration": 233891.866548,
   "end_time": "2020-11-13T07:59:49.445916",
   "environment_variables": {},
   "exception": null,
   "input_path": "tfmodel_train_scratch.ipynb",
   "output_path": "output/tfmodel_train_scratch-wikitext_103_raw-pre_ln-lr_e4.ipynb",
   "parameters": {
    "save_model_dir": "tfchat_model-lr_e4"
   },
   "start_time": "2020-11-10T15:01:37.579368",
   "version": "2.1.3"
  }
 },
 "nbformat": 4,
 "nbformat_minor": 4
}
