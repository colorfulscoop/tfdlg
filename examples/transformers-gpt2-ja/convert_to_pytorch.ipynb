{
 "cells": [
  {
   "cell_type": "markdown",
   "metadata": {
    "papermill": {
     "duration": 0.016151,
     "end_time": "2020-10-25T05:33:25.665485",
     "exception": false,
     "start_time": "2020-10-25T05:33:25.649334",
     "status": "completed"
    },
    "tags": []
   },
   "source": [
    "## Parameter"
   ]
  },
  {
   "cell_type": "code",
   "execution_count": null,
   "metadata": {
    "execution": {
     "iopub.execute_input": "2020-10-25T05:33:25.689058Z",
     "iopub.status.busy": "2020-10-25T05:33:25.688693Z",
     "iopub.status.idle": "2020-10-25T05:33:25.690593Z",
     "shell.execute_reply": "2020-10-25T05:33:25.690225Z"
    },
    "papermill": {
     "duration": 0.014613,
     "end_time": "2020-10-25T05:33:25.690669",
     "exception": false,
     "start_time": "2020-10-25T05:33:25.676056",
     "status": "completed"
    },
    "tags": [
     "parameters"
    ]
   },
   "outputs": [],
   "source": [
    "# These parameters can be injected from Papermill\n",
    "model_dir = \"output/model\""
   ]
  },
  {
   "cell_type": "code",
   "execution_count": null,
   "metadata": {},
   "outputs": [],
   "source": [
    "! pip install transformers==4.3.3 torch==1.8.0\n",
    "! pip install git+https://github.com/colorfulscoop/tfdlg@v0.2.0"
   ]
  },
  {
   "cell_type": "markdown",
   "metadata": {},
   "source": [
    "## Save model as PyTorch model"
   ]
  },
  {
   "cell_type": "code",
   "execution_count": null,
   "metadata": {},
   "outputs": [],
   "source": [
    "import transformers"
   ]
  },
  {
   "cell_type": "code",
   "execution_count": null,
   "metadata": {},
   "outputs": [],
   "source": [
    "pt_model = transformers.GPT2LMHeadModel.from_pretrained(model_dir, from_tf=True)"
   ]
  },
  {
   "cell_type": "code",
   "execution_count": null,
   "metadata": {},
   "outputs": [],
   "source": [
    "pt_model.save_pretrained(model_dir)"
   ]
  }
 ],
 "metadata": {
  "celltoolbar": "Tags",
  "kernelspec": {
   "display_name": "Python 3",
   "language": "python",
   "name": "python3"
  },
  "language_info": {
   "codemirror_mode": {
    "name": "ipython",
    "version": 3
   },
   "file_extension": ".py",
   "mimetype": "text/x-python",
   "name": "python",
   "nbconvert_exporter": "python",
   "pygments_lexer": "ipython3",
   "version": "3.8.6"
  },
  "papermill": {
   "duration": 555.416472,
   "end_time": "2020-10-25T05:42:40.406950",
   "environment_variables": {},
   "exception": null,
   "input_path": "tfmodel_train_scratch.ipynb",
   "output_path": "tfmodel_train_scratch-wikitext2.ipynb",
   "parameters": {
    "epochs": 1,
    "train_file": "wikitext-2-raw/wiki.train.raw",
    "valid_file": "wikitext-2-raw/wiki.valid.raw"
   },
   "start_time": "2020-10-25T05:33:24.990478",
   "version": "2.1.3"
  }
 },
 "nbformat": 4,
 "nbformat_minor": 4
}
