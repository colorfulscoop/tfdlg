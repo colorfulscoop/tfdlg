{
 "cells": [
  {
   "cell_type": "markdown",
   "metadata": {
    "papermill": {
     "duration": 0.016151,
     "end_time": "2020-10-25T05:33:25.665485",
     "exception": false,
     "start_time": "2020-10-25T05:33:25.649334",
     "status": "completed"
    },
    "tags": []
   },
   "source": [
    "## Parameter"
   ]
  },
  {
   "cell_type": "code",
   "execution_count": null,
   "metadata": {
    "execution": {
     "iopub.execute_input": "2020-10-25T05:33:25.689058Z",
     "iopub.status.busy": "2020-10-25T05:33:25.688693Z",
     "iopub.status.idle": "2020-10-25T05:33:25.690593Z",
     "shell.execute_reply": "2020-10-25T05:33:25.690225Z"
    },
    "papermill": {
     "duration": 0.014613,
     "end_time": "2020-10-25T05:33:25.690669",
     "exception": false,
     "start_time": "2020-10-25T05:33:25.676056",
     "status": "completed"
    },
    "tags": [
     "parameters"
    ]
   },
   "outputs": [],
   "source": [
    "# These parameters can be injected from Papermill\n",
    "train_file = \"data/jawiki/20210301/data/train.txt\"\n",
    "valid_file = \"data/jawiki/20210301/data/valid.txt\"\n",
    "epochs = 10\n",
    "batch_size = 2\n",
    "max_learning_rate = 1e-4\n",
    "warmup_steps = 0\n",
    "clipnorm = 1.0\n",
    "fp16 = False\n",
    "model_dir = \"output/model\"\n",
    "tensorboard_dir = f\"output/tensorboard/{model_dir}-tensorboard\""
   ]
  },
  {
   "cell_type": "code",
   "execution_count": null,
   "metadata": {},
   "outputs": [],
   "source": [
    "! pip install transformers==4.3.3\n",
    "! pip install git+https://github.com/colorfulscoop/tfdlg@v0.2.0"
   ]
  },
  {
   "cell_type": "code",
   "execution_count": null,
   "metadata": {},
   "outputs": [],
   "source": [
    "# Enable widgetsnbextention to avoid the following error when running GPT2.from_pretrained method\n",
    "#     ImportError: IProgress not found. Please update jupyter and ipywidgets.\n",
    "! jupyter nbextension enable --py widgetsnbextension"
   ]
  },
  {
   "cell_type": "markdown",
   "metadata": {
    "papermill": {
     "duration": 0.010568,
     "end_time": "2020-10-25T05:33:25.736850",
     "exception": false,
     "start_time": "2020-10-25T05:33:25.726282",
     "status": "completed"
    },
    "tags": []
   },
   "source": [
    "## Configure GPU"
   ]
  },
  {
   "cell_type": "code",
   "execution_count": null,
   "metadata": {
    "execution": {
     "iopub.execute_input": "2020-10-25T05:33:25.760210Z",
     "iopub.status.busy": "2020-10-25T05:33:25.759851Z",
     "iopub.status.idle": "2020-10-25T05:33:26.667402Z",
     "shell.execute_reply": "2020-10-25T05:33:26.667026Z"
    },
    "papermill": {
     "duration": 0.920123,
     "end_time": "2020-10-25T05:33:26.667484",
     "exception": false,
     "start_time": "2020-10-25T05:33:25.747361",
     "status": "completed"
    },
    "tags": []
   },
   "outputs": [],
   "source": [
    "from tfdlg.utils import set_memory_growth\n",
    "from tfdlg.utils import set_mixed_precision_policy"
   ]
  },
  {
   "cell_type": "code",
   "execution_count": null,
   "metadata": {
    "execution": {
     "iopub.execute_input": "2020-10-25T05:33:27.227136Z",
     "iopub.status.busy": "2020-10-25T05:33:27.226761Z",
     "iopub.status.idle": "2020-10-25T05:33:27.228837Z",
     "shell.execute_reply": "2020-10-25T05:33:27.228486Z"
    },
    "papermill": {
     "duration": 0.55073,
     "end_time": "2020-10-25T05:33:27.228969",
     "exception": false,
     "start_time": "2020-10-25T05:33:26.678239",
     "status": "completed"
    },
    "tags": []
   },
   "outputs": [],
   "source": [
    "set_memory_growth()"
   ]
  },
  {
   "cell_type": "code",
   "execution_count": null,
   "metadata": {},
   "outputs": [],
   "source": [
    "if fp16:\n",
    "    set_mixed_precision_policy()"
   ]
  },
  {
   "cell_type": "markdown",
   "metadata": {},
   "source": [
    "## Setup tokenizer"
   ]
  },
  {
   "cell_type": "code",
   "execution_count": null,
   "metadata": {},
   "outputs": [],
   "source": [
    "import transformers"
   ]
  },
  {
   "cell_type": "code",
   "execution_count": null,
   "metadata": {
    "execution": {
     "iopub.execute_input": "2020-10-25T05:33:28.753379Z",
     "iopub.status.busy": "2020-10-25T05:33:28.752961Z",
     "iopub.status.idle": "2020-10-25T05:33:30.435232Z",
     "shell.execute_reply": "2020-10-25T05:33:30.434905Z"
    },
    "papermill": {
     "duration": 1.701922,
     "end_time": "2020-10-25T05:33:30.435314",
     "exception": false,
     "start_time": "2020-10-25T05:33:28.733392",
     "status": "completed"
    },
    "tags": []
   },
   "outputs": [],
   "source": [
    "tokenizer = transformers.BertGenerationTokenizer.from_pretrained(model_dir)"
   ]
  },
  {
   "cell_type": "code",
   "execution_count": null,
   "metadata": {},
   "outputs": [],
   "source": [
    "len(tokenizer)"
   ]
  },
  {
   "cell_type": "markdown",
   "metadata": {},
   "source": [
    "## Setup model config"
   ]
  },
  {
   "cell_type": "code",
   "execution_count": null,
   "metadata": {},
   "outputs": [],
   "source": [
    "from transformers import GPT2Config\n",
    "\n",
    "# This config sets parameters as GPT2 small\n",
    "model_config = GPT2Config(\n",
    "    vocab_size=len(tokenizer),\n",
    "    tokenizer_class=\"BertGenerationTokenizer\",\n",
    "    bos_token_id=tokenizer.bos_token_id,\n",
    "    pad_token_id=tokenizer.pad_token_id,\n",
    "    eos_token_id=tokenizer.eos_token_id,\n",
    "    sep_token_id=tokenizer.sep_token_id,\n",
    "    cls_token_id=tokenizer.cls_token_id,\n",
    "    unk_token_id=tokenizer.unk_token_id,\n",
    ")"
   ]
  },
  {
   "cell_type": "code",
   "execution_count": null,
   "metadata": {},
   "outputs": [],
   "source": [
    "model_config"
   ]
  },
  {
   "cell_type": "markdown",
   "metadata": {
    "papermill": {
     "duration": 0.012416,
     "end_time": "2020-10-25T05:33:30.613934",
     "exception": false,
     "start_time": "2020-10-25T05:33:30.601518",
     "status": "completed"
    },
    "tags": []
   },
   "source": [
    "## Prepare Dataset"
   ]
  },
  {
   "cell_type": "code",
   "execution_count": null,
   "metadata": {
    "execution": {
     "iopub.execute_input": "2020-10-25T05:33:30.642368Z",
     "iopub.status.busy": "2020-10-25T05:33:30.642003Z",
     "iopub.status.idle": "2020-10-25T05:33:30.643921Z",
     "shell.execute_reply": "2020-10-25T05:33:30.643566Z"
    },
    "papermill": {
     "duration": 0.017599,
     "end_time": "2020-10-25T05:33:30.643992",
     "exception": false,
     "start_time": "2020-10-25T05:33:30.626393",
     "status": "completed"
    },
    "tags": []
   },
   "outputs": [],
   "source": [
    "from pathlib import Path\n",
    "from urllib.request import urlretrieve\n",
    "import zipfile\n",
    "import numpy as np\n",
    "\n",
    "\n",
    "def read_file(_filepath):\n",
    "    return (t.strip(\"\\n\") for t in open(_filepath))\n"
   ]
  },
  {
   "cell_type": "code",
   "execution_count": null,
   "metadata": {
    "execution": {
     "iopub.execute_input": "2020-10-25T05:33:43.399711Z",
     "iopub.status.busy": "2020-10-25T05:33:43.399328Z",
     "iopub.status.idle": "2020-10-25T05:33:43.457643Z",
     "shell.execute_reply": "2020-10-25T05:33:43.457266Z"
    },
    "papermill": {
     "duration": 0.484628,
     "end_time": "2020-10-25T05:33:43.457723",
     "exception": false,
     "start_time": "2020-10-25T05:33:42.973095",
     "status": "completed"
    },
    "tags": []
   },
   "outputs": [],
   "source": [
    "from tfdlg.data import BlockDataset\n",
    "\n",
    "\n",
    "train_dataset = BlockDataset.from_generator(\n",
    "    generator=lambda: read_file(train_file),\n",
    "    encode_fn=tokenizer.encode,\n",
    "    block_size=model_config.n_ctx,\n",
    "    batch_size=batch_size,\n",
    "    shuffle=True\n",
    ")\n",
    "valid_dataset = BlockDataset.from_generator(\n",
    "    generator=lambda: read_file(valid_file),\n",
    "    encode_fn=tokenizer.encode,\n",
    "    block_size=model_config.n_ctx,\n",
    "    batch_size=batch_size,\n",
    "    shuffle=False\n",
    ")"
   ]
  },
  {
   "cell_type": "code",
   "execution_count": null,
   "metadata": {
    "execution": {
     "iopub.execute_input": "2020-10-25T05:33:43.486666Z",
     "iopub.status.busy": "2020-10-25T05:33:43.486305Z",
     "iopub.status.idle": "2020-10-25T05:33:43.488125Z",
     "shell.execute_reply": "2020-10-25T05:33:43.487771Z"
    },
    "papermill": {
     "duration": 0.017,
     "end_time": "2020-10-25T05:33:43.488196",
     "exception": false,
     "start_time": "2020-10-25T05:33:43.471196",
     "status": "completed"
    },
    "tags": []
   },
   "outputs": [],
   "source": [
    "#num_train_steps = sum(1 for _ in train_dataset)\n",
    "#num_valid_steps = sum(1 for _ in valid_dataset)\n",
    "num_train_steps = 254256\n",
    "num_valid_steps = 6768\n",
    "print(\"Train steps:\", num_train_steps)\n",
    "print(\"Valid steps:\", num_valid_steps)"
   ]
  },
  {
   "cell_type": "markdown",
   "metadata": {},
   "source": [
    "## Transformers model implementation"
   ]
  },
  {
   "cell_type": "code",
   "execution_count": null,
   "metadata": {},
   "outputs": [],
   "source": [
    "from transformers import TFGPT2LMHeadModel\n",
    "import tensorflow.keras as keras\n",
    "import tensorflow as tf"
   ]
  },
  {
   "cell_type": "code",
   "execution_count": null,
   "metadata": {},
   "outputs": [],
   "source": [
    "model = TFGPT2LMHeadModel(model_config)"
   ]
  },
  {
   "cell_type": "markdown",
   "metadata": {
    "papermill": {
     "duration": 0.013209,
     "end_time": "2020-10-25T05:33:43.514599",
     "exception": false,
     "start_time": "2020-10-25T05:33:43.501390",
     "status": "completed"
    },
    "tags": []
   },
   "source": [
    "## Prepare Model"
   ]
  },
  {
   "cell_type": "code",
   "execution_count": null,
   "metadata": {
    "execution": {
     "iopub.execute_input": "2020-10-25T05:33:43.545423Z",
     "iopub.status.busy": "2020-10-25T05:33:43.545055Z",
     "iopub.status.idle": "2020-10-25T05:33:43.547469Z",
     "shell.execute_reply": "2020-10-25T05:33:43.547116Z"
    },
    "papermill": {
     "duration": 0.019812,
     "end_time": "2020-10-25T05:33:43.547540",
     "exception": false,
     "start_time": "2020-10-25T05:33:43.527728",
     "status": "completed"
    },
    "tags": []
   },
   "outputs": [],
   "source": [
    "from tfdlg.losses import PaddingLoss\n",
    "from tfdlg.schedules import WarmupLinearDecay\n",
    "import tensorflow.keras as keras\n",
    "\n",
    "\n",
    "def train(\n",
    "    _model,\n",
    "    _train_dataset,\n",
    "    _valid_dataset,\n",
    "    _epochs,\n",
    "    _warmup_steps,\n",
    "    _num_train_steps,\n",
    "    _max_learning_rate,\n",
    "    _clipnorm,\n",
    "    _tensorboard_dir\n",
    "):\n",
    "    schedule = WarmupLinearDecay(\n",
    "        max_learning_rate=_max_learning_rate,\n",
    "        warmup_steps=_warmup_steps,\n",
    "        training_steps=_num_train_steps*_epochs\n",
    "    )\n",
    "    optimizer = keras.optimizers.Adam(\n",
    "        schedule,\n",
    "        beta_1=0.9,\n",
    "        beta_2=0.999,\n",
    "        epsilon=1e-8,\n",
    "        clipnorm=_clipnorm\n",
    "    )\n",
    "    _model.compile(\n",
    "        # Ignore the second output for LM logits\n",
    "        loss=(PaddingLoss(), None),\n",
    "        optimizer=optimizer\n",
    "    )\n",
    "\n",
    "    history = _model.fit(\n",
    "        _train_dataset,\n",
    "        validation_data=_valid_dataset,\n",
    "        epochs=_epochs,\n",
    "        callbacks=[\n",
    "            keras.callbacks.EarlyStopping(patience=1, restore_best_weights=True),\n",
    "            keras.callbacks.TensorBoard(\n",
    "                log_dir=tensorboard_dir,\n",
    "                update_freq=100,\n",
    "                profile_batch=0,\n",
    "            )\n",
    "        ],\n",
    "        verbose=2,\n",
    "    )\n"
   ]
  },
  {
   "cell_type": "code",
   "execution_count": null,
   "metadata": {
    "execution": {
     "iopub.execute_input": "2020-10-25T05:33:43.860584Z",
     "iopub.status.busy": "2020-10-25T05:33:43.860221Z"
    },
    "papermill": {
     "duration": 535.285785,
     "end_time": "2020-10-25T05:42:39.126238",
     "exception": false,
     "start_time": "2020-10-25T05:33:43.840453",
     "status": "completed"
    },
    "tags": []
   },
   "outputs": [],
   "source": [
    "train(\n",
    "    model,\n",
    "    train_dataset,\n",
    "    valid_dataset,\n",
    "    epochs,\n",
    "    warmup_steps,\n",
    "    num_train_steps,\n",
    "    max_learning_rate,\n",
    "    clipnorm,\n",
    "    tensorboard_dir\n",
    ")"
   ]
  },
  {
   "cell_type": "code",
   "execution_count": null,
   "metadata": {},
   "outputs": [],
   "source": [
    "model.summary()"
   ]
  },
  {
   "cell_type": "code",
   "execution_count": null,
   "metadata": {},
   "outputs": [],
   "source": [
    "model.save_pretrained(model_dir)"
   ]
  }
 ],
 "metadata": {
  "celltoolbar": "Tags",
  "kernelspec": {
   "display_name": "Python 3",
   "language": "python",
   "name": "python3"
  },
  "language_info": {
   "codemirror_mode": {
    "name": "ipython",
    "version": 3
   },
   "file_extension": ".py",
   "mimetype": "text/x-python",
   "name": "python",
   "nbconvert_exporter": "python",
   "pygments_lexer": "ipython3",
   "version": "3.8.6"
  },
  "papermill": {
   "duration": 555.416472,
   "end_time": "2020-10-25T05:42:40.406950",
   "environment_variables": {},
   "exception": null,
   "input_path": "tfmodel_train_scratch.ipynb",
   "output_path": "tfmodel_train_scratch-wikitext2.ipynb",
   "parameters": {
    "epochs": 1,
    "train_file": "wikitext-2-raw/wiki.train.raw",
    "valid_file": "wikitext-2-raw/wiki.valid.raw"
   },
   "start_time": "2020-10-25T05:33:24.990478",
   "version": "2.1.3"
  }
 },
 "nbformat": 4,
 "nbformat_minor": 4
}
