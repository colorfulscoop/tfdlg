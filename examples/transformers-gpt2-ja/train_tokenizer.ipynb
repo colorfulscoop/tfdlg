{
 "cells": [
  {
   "cell_type": "code",
   "execution_count": null,
   "id": "general-proxy",
   "metadata": {
    "tags": [
     "parameters"
    ]
   },
   "outputs": [],
   "source": [
    "train_file = \"data/jawiki/20210301/data/train.txt\"\n",
    "spm_model_dir = \"output/spm\"\n",
    "tf_model_dir = \"output/model\"\n",
    "vocab_size = 32000\n",
    "input_sentence_size = 10000000\n",
    "add_dummy_prefix = False"
   ]
  },
  {
   "cell_type": "code",
   "execution_count": null,
   "id": "elementary-consortium",
   "metadata": {},
   "outputs": [],
   "source": [
    "sep_token = \"<sep>\"\n",
    "cls_token = \"<cls>\"\n",
    "pad_token = \"<pad>\"\n",
    "unk_token = \"<unk>\"\n",
    "bos_token = \"<s>\"\n",
    "eos_token = \"</s>\""
   ]
  },
  {
   "cell_type": "code",
   "execution_count": null,
   "id": "forty-consent",
   "metadata": {},
   "outputs": [],
   "source": [
    "from pathlib import Path\n",
    "\n",
    "spm_model_dir = Path(spm_model_dir)\n",
    "spm_model_prefix = Path(spm_model_dir) / Path(\"sp\")\n",
    "spm_model_path = Path(spm_model_dir) / Path(\"sp.model\")"
   ]
  },
  {
   "cell_type": "code",
   "execution_count": null,
   "id": "accepted-transsexual",
   "metadata": {},
   "outputs": [],
   "source": [
    "train_args = dict(\n",
    "    model_prefix=spm_model_prefix,\n",
    "    vocab_size=vocab_size,\n",
    "    pad_id=0,\n",
    "    unk_id=1,\n",
    "    bos_id=2,\n",
    "    eos_id=3,\n",
    "    pad_piece=pad_token,\n",
    "    unk_piece=unk_token,\n",
    "    bos_piece=bos_token,\n",
    "    eos_piece=eos_token,\n",
    "    control_symbols=[cls_token, sep_token],\n",
    "    input_sentence_size=input_sentence_size,\n",
    "    shuffle_input_sentence=True,\n",
    "    add_dummy_prefix=add_dummy_prefix,\n",
    ")"
   ]
  },
  {
   "cell_type": "markdown",
   "id": "naked-colonial",
   "metadata": {},
   "source": [
    "## Train model"
   ]
  },
  {
   "cell_type": "code",
   "execution_count": null,
   "id": "technical-northern",
   "metadata": {},
   "outputs": [],
   "source": [
    "pip install sentencepiece==0.1.91"
   ]
  },
  {
   "cell_type": "code",
   "execution_count": null,
   "id": "cubic-garden",
   "metadata": {},
   "outputs": [],
   "source": [
    "import sentencepiece as spm"
   ]
  },
  {
   "cell_type": "code",
   "execution_count": null,
   "id": "framed-liquid",
   "metadata": {},
   "outputs": [],
   "source": [
    "if not spm_model_dir.exists():\n",
    "    spm_model_dir.mkdir(parents=True)"
   ]
  },
  {
   "cell_type": "code",
   "execution_count": null,
   "id": "vocational-stock",
   "metadata": {},
   "outputs": [],
   "source": [
    "spm.SentencePieceTrainer.train(input=train_file, **train_args)"
   ]
  },
  {
   "cell_type": "markdown",
   "id": "exact-athens",
   "metadata": {},
   "source": [
    "## Convert to Transformers model"
   ]
  },
  {
   "cell_type": "code",
   "execution_count": null,
   "id": "tender-lincoln",
   "metadata": {},
   "outputs": [],
   "source": [
    "pip install transformers==4.3.3"
   ]
  },
  {
   "cell_type": "code",
   "execution_count": null,
   "id": "persistent-indicator",
   "metadata": {},
   "outputs": [],
   "source": [
    "import transformers\n",
    "\n",
    "tokenizer = transformers.BertGenerationTokenizer(\n",
    "    str(spm_model_path),\n",
    "    bos_token=bos_token,\n",
    "    eos_token=eos_token,\n",
    "    cls_token=cls_token,\n",
    "    sep_token=sep_token,\n",
    "    pad_token=pad_token,\n",
    "    unk_token=unk_token,\n",
    ")"
   ]
  },
  {
   "cell_type": "code",
   "execution_count": null,
   "id": "english-world",
   "metadata": {},
   "outputs": [],
   "source": [
    "len(tokenizer)"
   ]
  },
  {
   "cell_type": "code",
   "execution_count": null,
   "id": "initial-catch",
   "metadata": {},
   "outputs": [],
   "source": [
    "tokenizer.save_pretrained(tf_model_dir)"
   ]
  }
 ],
 "metadata": {
  "celltoolbar": "Tags",
  "kernelspec": {
   "display_name": "Python 3",
   "language": "python",
   "name": "python3"
  },
  "language_info": {
   "codemirror_mode": {
    "name": "ipython",
    "version": 3
   },
   "file_extension": ".py",
   "mimetype": "text/x-python",
   "name": "python",
   "nbconvert_exporter": "python",
   "pygments_lexer": "ipython3",
   "version": "3.6.9"
  }
 },
 "nbformat": 4,
 "nbformat_minor": 5
}
