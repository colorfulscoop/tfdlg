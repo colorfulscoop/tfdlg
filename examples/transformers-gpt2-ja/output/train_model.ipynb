{
 "cells": [
  {
   "cell_type": "markdown",
   "id": "pleasant-failing",
   "metadata": {
    "papermill": {
     "duration": 0.017799,
     "end_time": "2021-03-16T06:01:25.211559",
     "exception": false,
     "start_time": "2021-03-16T06:01:25.193760",
     "status": "completed"
    },
    "tags": []
   },
   "source": [
    "## Parameter"
   ]
  },
  {
   "cell_type": "code",
   "execution_count": 1,
   "id": "greatest-sigma",
   "metadata": {
    "execution": {
     "iopub.execute_input": "2021-03-16T06:01:25.243259Z",
     "iopub.status.busy": "2021-03-16T06:01:25.242876Z",
     "iopub.status.idle": "2021-03-16T06:01:25.244894Z",
     "shell.execute_reply": "2021-03-16T06:01:25.244585Z"
    },
    "papermill": {
     "duration": 0.020719,
     "end_time": "2021-03-16T06:01:25.244972",
     "exception": false,
     "start_time": "2021-03-16T06:01:25.224253",
     "status": "completed"
    },
    "tags": [
     "parameters"
    ]
   },
   "outputs": [],
   "source": [
    "# These parameters can be injected from Papermill\n",
    "train_file = \"data/jawiki/20210301/data/train.txt\"\n",
    "valid_file = \"data/jawiki/20210301/data/valid.txt\"\n",
    "epochs = 10\n",
    "batch_size = 2\n",
    "max_learning_rate = 1e-4\n",
    "warmup_steps = 0\n",
    "clipnorm = 1.0\n",
    "fp16 = False\n",
    "model_dir = \"output/model\"\n",
    "tensorboard_dir = f\"output/tensorboard/{model_dir}-tensorboard\""
   ]
  },
  {
   "cell_type": "code",
   "execution_count": 2,
   "id": "empirical-leisure",
   "metadata": {
    "execution": {
     "iopub.execute_input": "2021-03-16T06:01:25.272360Z",
     "iopub.status.busy": "2021-03-16T06:01:25.271980Z",
     "iopub.status.idle": "2021-03-16T06:01:28.622403Z",
     "shell.execute_reply": "2021-03-16T06:01:28.620485Z"
    },
    "papermill": {
     "duration": 3.365581,
     "end_time": "2021-03-16T06:01:28.622820",
     "exception": false,
     "start_time": "2021-03-16T06:01:25.257239",
     "status": "completed"
    },
    "tags": []
   },
   "outputs": [
    {
     "name": "stdout",
     "output_type": "stream",
     "text": [
      "Requirement already satisfied: transformers==4.3.3 in /usr/local/lib/python3.6/dist-packages (4.3.3)\n",
      "Requirement already satisfied: sacremoses in /usr/local/lib/python3.6/dist-packages (from transformers==4.3.3) (0.0.43)\n",
      "Requirement already satisfied: importlib-metadata; python_version < \"3.8\" in /usr/local/lib/python3.6/dist-packages (from transformers==4.3.3) (3.4.0)\n",
      "Requirement already satisfied: tokenizers<0.11,>=0.10.1 in /usr/local/lib/python3.6/dist-packages (from transformers==4.3.3) (0.10.1)\n",
      "Requirement already satisfied: dataclasses; python_version < \"3.7\" in /usr/local/lib/python3.6/dist-packages (from transformers==4.3.3) (0.8)\n",
      "Requirement already satisfied: tqdm>=4.27 in /usr/local/lib/python3.6/dist-packages (from transformers==4.3.3) (4.59.0)\n",
      "Requirement already satisfied: requests in /usr/local/lib/python3.6/dist-packages (from transformers==4.3.3) (2.25.1)\n",
      "Requirement already satisfied: regex!=2019.12.17 in /usr/local/lib/python3.6/dist-packages (from transformers==4.3.3) (2020.11.13)\n",
      "Requirement already satisfied: packaging in /usr/local/lib/python3.6/dist-packages (from transformers==4.3.3) (20.9)\n",
      "Requirement already satisfied: filelock in /usr/local/lib/python3.6/dist-packages (from transformers==4.3.3) (3.0.12)\n",
      "Requirement already satisfied: numpy>=1.17 in /usr/local/lib/python3.6/dist-packages (from transformers==4.3.3) (1.19.5)\n",
      "Requirement already satisfied: click in /usr/local/lib/python3.6/dist-packages (from sacremoses->transformers==4.3.3) (7.1.2)\n",
      "Requirement already satisfied: six in /usr/local/lib/python3.6/dist-packages (from sacremoses->transformers==4.3.3) (1.15.0)\n",
      "Requirement already satisfied: joblib in /usr/local/lib/python3.6/dist-packages (from sacremoses->transformers==4.3.3) (1.0.1)\n",
      "Requirement already satisfied: zipp>=0.5 in /usr/local/lib/python3.6/dist-packages (from importlib-metadata; python_version < \"3.8\"->transformers==4.3.3) (3.4.0)\n",
      "Requirement already satisfied: typing-extensions>=3.6.4; python_version < \"3.8\" in /usr/local/lib/python3.6/dist-packages (from importlib-metadata; python_version < \"3.8\"->transformers==4.3.3) (3.7.4.3)\n",
      "Requirement already satisfied: idna<3,>=2.5 in /usr/lib/python3/dist-packages (from requests->transformers==4.3.3) (2.6)\n",
      "Requirement already satisfied: certifi>=2017.4.17 in /usr/local/lib/python3.6/dist-packages (from requests->transformers==4.3.3) (2020.12.5)\n",
      "Requirement already satisfied: chardet<5,>=3.0.2 in /usr/local/lib/python3.6/dist-packages (from requests->transformers==4.3.3) (4.0.0)\n",
      "Requirement already satisfied: urllib3<1.27,>=1.21.1 in /usr/local/lib/python3.6/dist-packages (from requests->transformers==4.3.3) (1.26.2)\n",
      "Requirement already satisfied: pyparsing>=2.0.2 in /usr/local/lib/python3.6/dist-packages (from packaging->transformers==4.3.3) (2.4.7)\n",
      "\u001b[33mWARNING: You are using pip version 20.2.4; however, version 21.0.1 is available.\n",
      "You should consider upgrading via the '/usr/bin/python3 -m pip install --upgrade pip' command.\u001b[0m\n",
      "Collecting git+https://github.com/colorfulscoop/tfdlg@v0.2.0\n",
      "  Cloning https://github.com/colorfulscoop/tfdlg (to revision v0.2.0) to /tmp/pip-req-build-j81q7ar4\n",
      "Requirement already satisfied (use --upgrade to upgrade): tfdlg==0.1.0 from git+https://github.com/colorfulscoop/tfdlg@v0.2.0 in /usr/local/lib/python3.6/dist-packages\n",
      "Requirement already satisfied: tensorflow<3,>=2.4 in /usr/local/lib/python3.6/dist-packages (from tfdlg==0.1.0) (2.4.1)\n",
      "Requirement already satisfied: sentencepiece==0.1.91 in /usr/local/lib/python3.6/dist-packages (from tfdlg==0.1.0) (0.1.91)\n",
      "Requirement already satisfied: scipy<2.0,>=1.5.0 in /usr/local/lib/python3.6/dist-packages (from tfdlg==0.1.0) (1.5.4)\n",
      "Requirement already satisfied: pydantic<2.0,>=1.6.1 in /usr/local/lib/python3.6/dist-packages (from tfdlg==0.1.0) (1.8.1)\n",
      "Requirement already satisfied: typing-extensions~=3.7.4 in /usr/local/lib/python3.6/dist-packages (from tensorflow<3,>=2.4->tfdlg==0.1.0) (3.7.4.3)\n",
      "Requirement already satisfied: absl-py~=0.10 in /usr/local/lib/python3.6/dist-packages (from tensorflow<3,>=2.4->tfdlg==0.1.0) (0.11.0)\n",
      "Requirement already satisfied: h5py~=2.10.0 in /usr/local/lib/python3.6/dist-packages (from tensorflow<3,>=2.4->tfdlg==0.1.0) (2.10.0)\n",
      "Requirement already satisfied: google-pasta~=0.2 in /usr/local/lib/python3.6/dist-packages (from tensorflow<3,>=2.4->tfdlg==0.1.0) (0.2.0)\n",
      "Requirement already satisfied: opt-einsum~=3.3.0 in /usr/local/lib/python3.6/dist-packages (from tensorflow<3,>=2.4->tfdlg==0.1.0) (3.3.0)\n",
      "Requirement already satisfied: wrapt~=1.12.1 in /usr/local/lib/python3.6/dist-packages (from tensorflow<3,>=2.4->tfdlg==0.1.0) (1.12.1)\n",
      "Requirement already satisfied: tensorflow-estimator<2.5.0,>=2.4.0 in /usr/local/lib/python3.6/dist-packages (from tensorflow<3,>=2.4->tfdlg==0.1.0) (2.4.0)\n",
      "Requirement already satisfied: flatbuffers~=1.12.0 in /usr/local/lib/python3.6/dist-packages (from tensorflow<3,>=2.4->tfdlg==0.1.0) (1.12)\n",
      "Requirement already satisfied: termcolor~=1.1.0 in /usr/local/lib/python3.6/dist-packages (from tensorflow<3,>=2.4->tfdlg==0.1.0) (1.1.0)\n",
      "Requirement already satisfied: gast==0.3.3 in /usr/local/lib/python3.6/dist-packages (from tensorflow<3,>=2.4->tfdlg==0.1.0) (0.3.3)\n",
      "Requirement already satisfied: grpcio~=1.32.0 in /usr/local/lib/python3.6/dist-packages (from tensorflow<3,>=2.4->tfdlg==0.1.0) (1.32.0)\n",
      "Requirement already satisfied: numpy~=1.19.2 in /usr/local/lib/python3.6/dist-packages (from tensorflow<3,>=2.4->tfdlg==0.1.0) (1.19.5)\n",
      "Requirement already satisfied: tensorboard~=2.4 in /usr/local/lib/python3.6/dist-packages (from tensorflow<3,>=2.4->tfdlg==0.1.0) (2.4.1)\n",
      "Requirement already satisfied: protobuf>=3.9.2 in /usr/local/lib/python3.6/dist-packages (from tensorflow<3,>=2.4->tfdlg==0.1.0) (3.14.0)\n",
      "Requirement already satisfied: keras-preprocessing~=1.1.2 in /usr/local/lib/python3.6/dist-packages (from tensorflow<3,>=2.4->tfdlg==0.1.0) (1.1.2)\n",
      "Requirement already satisfied: astunparse~=1.6.3 in /usr/local/lib/python3.6/dist-packages (from tensorflow<3,>=2.4->tfdlg==0.1.0) (1.6.3)\n",
      "Requirement already satisfied: wheel~=0.35 in /usr/local/lib/python3.6/dist-packages (from tensorflow<3,>=2.4->tfdlg==0.1.0) (0.36.2)\n",
      "Requirement already satisfied: six~=1.15.0 in /usr/local/lib/python3.6/dist-packages (from tensorflow<3,>=2.4->tfdlg==0.1.0) (1.15.0)\n",
      "Requirement already satisfied: dataclasses>=0.6; python_version < \"3.7\" in /usr/local/lib/python3.6/dist-packages (from pydantic<2.0,>=1.6.1->tfdlg==0.1.0) (0.8)\n",
      "Requirement already satisfied: markdown>=2.6.8 in /usr/local/lib/python3.6/dist-packages (from tensorboard~=2.4->tensorflow<3,>=2.4->tfdlg==0.1.0) (3.3.3)\n",
      "Requirement already satisfied: google-auth-oauthlib<0.5,>=0.4.1 in /usr/local/lib/python3.6/dist-packages (from tensorboard~=2.4->tensorflow<3,>=2.4->tfdlg==0.1.0) (0.4.2)\n",
      "Requirement already satisfied: werkzeug>=0.11.15 in /usr/local/lib/python3.6/dist-packages (from tensorboard~=2.4->tensorflow<3,>=2.4->tfdlg==0.1.0) (1.0.1)\n",
      "Requirement already satisfied: google-auth<2,>=1.6.3 in /usr/local/lib/python3.6/dist-packages (from tensorboard~=2.4->tensorflow<3,>=2.4->tfdlg==0.1.0) (1.24.0)\n",
      "Requirement already satisfied: setuptools>=41.0.0 in /usr/local/lib/python3.6/dist-packages (from tensorboard~=2.4->tensorflow<3,>=2.4->tfdlg==0.1.0) (51.3.3)\n",
      "Requirement already satisfied: tensorboard-plugin-wit>=1.6.0 in /usr/local/lib/python3.6/dist-packages (from tensorboard~=2.4->tensorflow<3,>=2.4->tfdlg==0.1.0) (1.8.0)\n",
      "Requirement already satisfied: requests<3,>=2.21.0 in /usr/local/lib/python3.6/dist-packages (from tensorboard~=2.4->tensorflow<3,>=2.4->tfdlg==0.1.0) (2.25.1)\n",
      "Requirement already satisfied: importlib-metadata; python_version < \"3.8\" in /usr/local/lib/python3.6/dist-packages (from markdown>=2.6.8->tensorboard~=2.4->tensorflow<3,>=2.4->tfdlg==0.1.0) (3.4.0)\n",
      "Requirement already satisfied: requests-oauthlib>=0.7.0 in /usr/local/lib/python3.6/dist-packages (from google-auth-oauthlib<0.5,>=0.4.1->tensorboard~=2.4->tensorflow<3,>=2.4->tfdlg==0.1.0) (1.3.0)\n",
      "Requirement already satisfied: pyasn1-modules>=0.2.1 in /usr/local/lib/python3.6/dist-packages (from google-auth<2,>=1.6.3->tensorboard~=2.4->tensorflow<3,>=2.4->tfdlg==0.1.0) (0.2.8)\n",
      "Requirement already satisfied: rsa<5,>=3.1.4; python_version >= \"3.6\" in /usr/local/lib/python3.6/dist-packages (from google-auth<2,>=1.6.3->tensorboard~=2.4->tensorflow<3,>=2.4->tfdlg==0.1.0) (4.7)\n",
      "Requirement already satisfied: cachetools<5.0,>=2.0.0 in /usr/local/lib/python3.6/dist-packages (from google-auth<2,>=1.6.3->tensorboard~=2.4->tensorflow<3,>=2.4->tfdlg==0.1.0) (4.2.0)\n",
      "Requirement already satisfied: urllib3<1.27,>=1.21.1 in /usr/local/lib/python3.6/dist-packages (from requests<3,>=2.21.0->tensorboard~=2.4->tensorflow<3,>=2.4->tfdlg==0.1.0) (1.26.2)\n",
      "Requirement already satisfied: idna<3,>=2.5 in /usr/lib/python3/dist-packages (from requests<3,>=2.21.0->tensorboard~=2.4->tensorflow<3,>=2.4->tfdlg==0.1.0) (2.6)\n",
      "Requirement already satisfied: chardet<5,>=3.0.2 in /usr/local/lib/python3.6/dist-packages (from requests<3,>=2.21.0->tensorboard~=2.4->tensorflow<3,>=2.4->tfdlg==0.1.0) (4.0.0)\n",
      "Requirement already satisfied: certifi>=2017.4.17 in /usr/local/lib/python3.6/dist-packages (from requests<3,>=2.21.0->tensorboard~=2.4->tensorflow<3,>=2.4->tfdlg==0.1.0) (2020.12.5)\n",
      "Requirement already satisfied: zipp>=0.5 in /usr/local/lib/python3.6/dist-packages (from importlib-metadata; python_version < \"3.8\"->markdown>=2.6.8->tensorboard~=2.4->tensorflow<3,>=2.4->tfdlg==0.1.0) (3.4.0)\n",
      "Requirement already satisfied: oauthlib>=3.0.0 in /usr/local/lib/python3.6/dist-packages (from requests-oauthlib>=0.7.0->google-auth-oauthlib<0.5,>=0.4.1->tensorboard~=2.4->tensorflow<3,>=2.4->tfdlg==0.1.0) (3.1.0)\n",
      "Requirement already satisfied: pyasn1<0.5.0,>=0.4.6 in /usr/local/lib/python3.6/dist-packages (from pyasn1-modules>=0.2.1->google-auth<2,>=1.6.3->tensorboard~=2.4->tensorflow<3,>=2.4->tfdlg==0.1.0) (0.4.8)\n",
      "Building wheels for collected packages: tfdlg\n"
     ]
    },
    {
     "name": "stdout",
     "output_type": "stream",
     "text": [
      "  Building wheel for tfdlg (setup.py) ... \u001b[?25ldone\n",
      "\u001b[?25h  Created wheel for tfdlg: filename=tfdlg-0.1.0-py3-none-any.whl size=15985 sha256=09c4fc79cdd6c2d5199a94920d28ed22d817ae7525e4549aea89ba2ba842f77e\n",
      "  Stored in directory: /tmp/pip-ephem-wheel-cache-n12n62mk/wheels/04/40/df/1a5f14da9695b730a70f064b87b27c3faa5a8674893745b37c\n",
      "Successfully built tfdlg\n",
      "\u001b[33mWARNING: You are using pip version 20.2.4; however, version 21.0.1 is available.\n",
      "You should consider upgrading via the '/usr/bin/python3 -m pip install --upgrade pip' command.\u001b[0m\n"
     ]
    }
   ],
   "source": [
    "! pip install transformers==4.3.3\n",
    "! pip install git+https://github.com/colorfulscoop/tfdlg@v0.2.0"
   ]
  },
  {
   "cell_type": "code",
   "execution_count": 3,
   "id": "realistic-intervention",
   "metadata": {
    "execution": {
     "iopub.execute_input": "2021-03-16T06:01:28.695110Z",
     "iopub.status.busy": "2021-03-16T06:01:28.694734Z",
     "iopub.status.idle": "2021-03-16T06:01:29.009637Z",
     "shell.execute_reply": "2021-03-16T06:01:29.007508Z"
    },
    "papermill": {
     "duration": 0.336195,
     "end_time": "2021-03-16T06:01:29.010057",
     "exception": false,
     "start_time": "2021-03-16T06:01:28.673862",
     "status": "completed"
    },
    "tags": []
   },
   "outputs": [
    {
     "name": "stdout",
     "output_type": "stream",
     "text": [
      "Enabling notebook extension jupyter-js-widgets/extension...\r\n",
      "      - Validating: \u001b[32mOK\u001b[0m\r\n"
     ]
    }
   ],
   "source": [
    "# Enable widgetsnbextention to avoid the following error when running GPT2.from_pretrained method\n",
    "#     ImportError: IProgress not found. Please update jupyter and ipywidgets.\n",
    "! jupyter nbextension enable --py widgetsnbextension"
   ]
  },
  {
   "cell_type": "markdown",
   "id": "transsexual-camera",
   "metadata": {
    "papermill": {
     "duration": 0.018879,
     "end_time": "2021-03-16T06:01:29.082135",
     "exception": false,
     "start_time": "2021-03-16T06:01:29.063256",
     "status": "completed"
    },
    "tags": []
   },
   "source": [
    "## Configure GPU"
   ]
  },
  {
   "cell_type": "code",
   "execution_count": 4,
   "id": "front-organ",
   "metadata": {
    "execution": {
     "iopub.execute_input": "2021-03-16T06:01:29.115153Z",
     "iopub.status.busy": "2021-03-16T06:01:29.114782Z",
     "iopub.status.idle": "2021-03-16T06:01:29.993834Z",
     "shell.execute_reply": "2021-03-16T06:01:29.993445Z"
    },
    "papermill": {
     "duration": 0.896407,
     "end_time": "2021-03-16T06:01:29.993917",
     "exception": false,
     "start_time": "2021-03-16T06:01:29.097510",
     "status": "completed"
    },
    "tags": []
   },
   "outputs": [],
   "source": [
    "from tfdlg.utils import set_memory_growth\n",
    "from tfdlg.utils import set_mixed_precision_policy"
   ]
  },
  {
   "cell_type": "code",
   "execution_count": 5,
   "id": "proprietary-switch",
   "metadata": {
    "execution": {
     "iopub.execute_input": "2021-03-16T06:01:30.117736Z",
     "iopub.status.busy": "2021-03-16T06:01:30.116857Z",
     "iopub.status.idle": "2021-03-16T06:01:30.120484Z",
     "shell.execute_reply": "2021-03-16T06:01:30.119780Z"
    },
    "papermill": {
     "duration": 0.111399,
     "end_time": "2021-03-16T06:01:30.120658",
     "exception": false,
     "start_time": "2021-03-16T06:01:30.009259",
     "status": "completed"
    },
    "tags": []
   },
   "outputs": [
    {
     "name": "stdout",
     "output_type": "stream",
     "text": [
      "Set memory growth to PhysicalDevice(name='/physical_device:GPU:0', device_type='GPU')\n"
     ]
    }
   ],
   "source": [
    "set_memory_growth()"
   ]
  },
  {
   "cell_type": "code",
   "execution_count": 6,
   "id": "heated-demonstration",
   "metadata": {
    "execution": {
     "iopub.execute_input": "2021-03-16T06:01:30.177642Z",
     "iopub.status.busy": "2021-03-16T06:01:30.177254Z",
     "iopub.status.idle": "2021-03-16T06:01:30.179127Z",
     "shell.execute_reply": "2021-03-16T06:01:30.178738Z"
    },
    "papermill": {
     "duration": 0.024166,
     "end_time": "2021-03-16T06:01:30.179199",
     "exception": false,
     "start_time": "2021-03-16T06:01:30.155033",
     "status": "completed"
    },
    "tags": []
   },
   "outputs": [],
   "source": [
    "if fp16:\n",
    "    set_mixed_precision_policy()"
   ]
  },
  {
   "cell_type": "markdown",
   "id": "cognitive-contamination",
   "metadata": {
    "papermill": {
     "duration": 0.015713,
     "end_time": "2021-03-16T06:01:30.210484",
     "exception": false,
     "start_time": "2021-03-16T06:01:30.194771",
     "status": "completed"
    },
    "tags": []
   },
   "source": [
    "## Setup tokenizer"
   ]
  },
  {
   "cell_type": "code",
   "execution_count": 7,
   "id": "geographic-sunday",
   "metadata": {
    "execution": {
     "iopub.execute_input": "2021-03-16T06:01:30.243989Z",
     "iopub.status.busy": "2021-03-16T06:01:30.243606Z",
     "iopub.status.idle": "2021-03-16T06:01:30.346523Z",
     "shell.execute_reply": "2021-03-16T06:01:30.346136Z"
    },
    "papermill": {
     "duration": 0.120654,
     "end_time": "2021-03-16T06:01:30.346604",
     "exception": false,
     "start_time": "2021-03-16T06:01:30.225950",
     "status": "completed"
    },
    "tags": []
   },
   "outputs": [],
   "source": [
    "import transformers"
   ]
  },
  {
   "cell_type": "code",
   "execution_count": 8,
   "id": "legislative-liberty",
   "metadata": {
    "execution": {
     "iopub.execute_input": "2021-03-16T06:01:30.380480Z",
     "iopub.status.busy": "2021-03-16T06:01:30.380102Z",
     "iopub.status.idle": "2021-03-16T06:01:30.443757Z",
     "shell.execute_reply": "2021-03-16T06:01:30.443433Z"
    },
    "papermill": {
     "duration": 0.081503,
     "end_time": "2021-03-16T06:01:30.443840",
     "exception": false,
     "start_time": "2021-03-16T06:01:30.362337",
     "status": "completed"
    },
    "tags": []
   },
   "outputs": [],
   "source": [
    "tokenizer = transformers.BertGenerationTokenizer.from_pretrained(model_dir)"
   ]
  },
  {
   "cell_type": "code",
   "execution_count": 9,
   "id": "personal-notification",
   "metadata": {
    "execution": {
     "iopub.execute_input": "2021-03-16T06:01:30.480716Z",
     "iopub.status.busy": "2021-03-16T06:01:30.480277Z",
     "iopub.status.idle": "2021-03-16T06:01:30.482285Z",
     "shell.execute_reply": "2021-03-16T06:01:30.482574Z"
    },
    "papermill": {
     "duration": 0.023206,
     "end_time": "2021-03-16T06:01:30.482657",
     "exception": false,
     "start_time": "2021-03-16T06:01:30.459451",
     "status": "completed"
    },
    "tags": []
   },
   "outputs": [
    {
     "data": {
      "text/plain": [
       "32000"
      ]
     },
     "execution_count": 9,
     "metadata": {},
     "output_type": "execute_result"
    }
   ],
   "source": [
    "len(tokenizer)"
   ]
  },
  {
   "cell_type": "markdown",
   "id": "experienced-construction",
   "metadata": {
    "papermill": {
     "duration": 0.016112,
     "end_time": "2021-03-16T06:01:30.514625",
     "exception": false,
     "start_time": "2021-03-16T06:01:30.498513",
     "status": "completed"
    },
    "tags": []
   },
   "source": [
    "## Setup model config"
   ]
  },
  {
   "cell_type": "code",
   "execution_count": 10,
   "id": "bottom-toilet",
   "metadata": {
    "execution": {
     "iopub.execute_input": "2021-03-16T06:01:30.548948Z",
     "iopub.status.busy": "2021-03-16T06:01:30.548575Z",
     "iopub.status.idle": "2021-03-16T06:01:30.551262Z",
     "shell.execute_reply": "2021-03-16T06:01:30.550895Z"
    },
    "papermill": {
     "duration": 0.020968,
     "end_time": "2021-03-16T06:01:30.551334",
     "exception": false,
     "start_time": "2021-03-16T06:01:30.530366",
     "status": "completed"
    },
    "tags": []
   },
   "outputs": [],
   "source": [
    "from transformers import GPT2Config\n",
    "\n",
    "# This config sets parameters as GPT2 small\n",
    "model_config = GPT2Config(\n",
    "    vocab_size=len(tokenizer),\n",
    "    tokenizer_class=\"BertGenerationTokenizer\",\n",
    "    bos_token_id=tokenizer.bos_token_id,\n",
    "    pad_token_id=tokenizer.pad_token_id,\n",
    "    eos_token_id=tokenizer.eos_token_id,\n",
    "    sep_token_id=tokenizer.sep_token_id,\n",
    "    cls_token_id=tokenizer.cls_token_id,\n",
    "    unk_token_id=tokenizer.unk_token_id,\n",
    ")"
   ]
  },
  {
   "cell_type": "code",
   "execution_count": 11,
   "id": "changing-velvet",
   "metadata": {
    "execution": {
     "iopub.execute_input": "2021-03-16T06:01:30.585681Z",
     "iopub.status.busy": "2021-03-16T06:01:30.585240Z",
     "iopub.status.idle": "2021-03-16T06:01:30.587589Z",
     "shell.execute_reply": "2021-03-16T06:01:30.587287Z"
    },
    "papermill": {
     "duration": 0.020499,
     "end_time": "2021-03-16T06:01:30.587661",
     "exception": false,
     "start_time": "2021-03-16T06:01:30.567162",
     "status": "completed"
    },
    "tags": []
   },
   "outputs": [
    {
     "data": {
      "text/plain": [
       "GPT2Config {\n",
       "  \"activation_function\": \"gelu_new\",\n",
       "  \"attn_pdrop\": 0.1,\n",
       "  \"bos_token_id\": 2,\n",
       "  \"cls_token_id\": 4,\n",
       "  \"embd_pdrop\": 0.1,\n",
       "  \"eos_token_id\": 3,\n",
       "  \"gradient_checkpointing\": false,\n",
       "  \"initializer_range\": 0.02,\n",
       "  \"layer_norm_epsilon\": 1e-05,\n",
       "  \"model_type\": \"gpt2\",\n",
       "  \"n_ctx\": 1024,\n",
       "  \"n_embd\": 768,\n",
       "  \"n_head\": 12,\n",
       "  \"n_inner\": null,\n",
       "  \"n_layer\": 12,\n",
       "  \"n_positions\": 1024,\n",
       "  \"pad_token_id\": 0,\n",
       "  \"resid_pdrop\": 0.1,\n",
       "  \"sep_token_id\": 5,\n",
       "  \"summary_activation\": null,\n",
       "  \"summary_first_dropout\": 0.1,\n",
       "  \"summary_proj_to_labels\": true,\n",
       "  \"summary_type\": \"cls_index\",\n",
       "  \"summary_use_proj\": true,\n",
       "  \"tokenizer_class\": \"BertGenerationTokenizer\",\n",
       "  \"transformers_version\": \"4.3.3\",\n",
       "  \"unk_token_id\": 1,\n",
       "  \"use_cache\": true,\n",
       "  \"vocab_size\": 32000\n",
       "}"
      ]
     },
     "execution_count": 11,
     "metadata": {},
     "output_type": "execute_result"
    }
   ],
   "source": [
    "model_config"
   ]
  },
  {
   "cell_type": "markdown",
   "id": "speaking-mechanism",
   "metadata": {
    "papermill": {
     "duration": 0.016525,
     "end_time": "2021-03-16T06:01:30.620605",
     "exception": false,
     "start_time": "2021-03-16T06:01:30.604080",
     "status": "completed"
    },
    "tags": []
   },
   "source": [
    "## Prepare Dataset"
   ]
  },
  {
   "cell_type": "code",
   "execution_count": 12,
   "id": "brazilian-compilation",
   "metadata": {
    "execution": {
     "iopub.execute_input": "2021-03-16T06:01:30.655463Z",
     "iopub.status.busy": "2021-03-16T06:01:30.655092Z",
     "iopub.status.idle": "2021-03-16T06:01:30.656982Z",
     "shell.execute_reply": "2021-03-16T06:01:30.656614Z"
    },
    "papermill": {
     "duration": 0.020443,
     "end_time": "2021-03-16T06:01:30.657053",
     "exception": false,
     "start_time": "2021-03-16T06:01:30.636610",
     "status": "completed"
    },
    "tags": []
   },
   "outputs": [],
   "source": [
    "from pathlib import Path\n",
    "from urllib.request import urlretrieve\n",
    "import zipfile\n",
    "import numpy as np\n",
    "\n",
    "\n",
    "def read_file(_filepath):\n",
    "    return (t.strip(\"\\n\") for t in open(_filepath))\n"
   ]
  },
  {
   "cell_type": "code",
   "execution_count": 13,
   "id": "israeli-portal",
   "metadata": {
    "execution": {
     "iopub.execute_input": "2021-03-16T06:01:31.007884Z",
     "iopub.status.busy": "2021-03-16T06:01:30.692057Z",
     "iopub.status.idle": "2021-03-16T06:01:31.074613Z",
     "shell.execute_reply": "2021-03-16T06:01:31.074216Z"
    },
    "papermill": {
     "duration": 0.401491,
     "end_time": "2021-03-16T06:01:31.074696",
     "exception": false,
     "start_time": "2021-03-16T06:01:30.673205",
     "status": "completed"
    },
    "tags": []
   },
   "outputs": [],
   "source": [
    "from tfdlg.data import BlockDataset\n",
    "\n",
    "\n",
    "train_dataset = BlockDataset.from_generator(\n",
    "    generator=lambda: read_file(train_file),\n",
    "    encode_fn=tokenizer.encode,\n",
    "    block_size=model_config.n_ctx,\n",
    "    batch_size=batch_size,\n",
    "    shuffle=True\n",
    ")\n",
    "valid_dataset = BlockDataset.from_generator(\n",
    "    generator=lambda: read_file(valid_file),\n",
    "    encode_fn=tokenizer.encode,\n",
    "    block_size=model_config.n_ctx,\n",
    "    batch_size=batch_size,\n",
    "    shuffle=False\n",
    ")"
   ]
  },
  {
   "cell_type": "code",
   "execution_count": 14,
   "id": "molecular-calibration",
   "metadata": {
    "execution": {
     "iopub.execute_input": "2021-03-16T06:01:31.110721Z",
     "iopub.status.busy": "2021-03-16T06:01:31.110351Z",
     "iopub.status.idle": "2021-03-16T06:01:31.112447Z",
     "shell.execute_reply": "2021-03-16T06:01:31.112104Z"
    },
    "papermill": {
     "duration": 0.021078,
     "end_time": "2021-03-16T06:01:31.112520",
     "exception": false,
     "start_time": "2021-03-16T06:01:31.091442",
     "status": "completed"
    },
    "tags": []
   },
   "outputs": [
    {
     "name": "stdout",
     "output_type": "stream",
     "text": [
      "Train steps: 254256\n",
      "Valid steps: 6768\n"
     ]
    }
   ],
   "source": [
    "#num_train_steps = sum(1 for _ in train_dataset)\n",
    "#num_valid_steps = sum(1 for _ in valid_dataset)\n",
    "num_train_steps = 254256\n",
    "num_valid_steps = 6768\n",
    "print(\"Train steps:\", num_train_steps)\n",
    "print(\"Valid steps:\", num_valid_steps)"
   ]
  },
  {
   "cell_type": "markdown",
   "id": "finished-avenue",
   "metadata": {
    "papermill": {
     "duration": 0.016282,
     "end_time": "2021-03-16T06:01:31.145171",
     "exception": false,
     "start_time": "2021-03-16T06:01:31.128889",
     "status": "completed"
    },
    "tags": []
   },
   "source": [
    "## Transformers model implementation"
   ]
  },
  {
   "cell_type": "code",
   "execution_count": 15,
   "id": "exact-vision",
   "metadata": {
    "execution": {
     "iopub.execute_input": "2021-03-16T06:01:31.183991Z",
     "iopub.status.busy": "2021-03-16T06:01:31.180183Z",
     "iopub.status.idle": "2021-03-16T06:01:31.225461Z",
     "shell.execute_reply": "2021-03-16T06:01:31.225761Z"
    },
    "papermill": {
     "duration": 0.064448,
     "end_time": "2021-03-16T06:01:31.225858",
     "exception": false,
     "start_time": "2021-03-16T06:01:31.161410",
     "status": "completed"
    },
    "tags": []
   },
   "outputs": [],
   "source": [
    "from transformers import TFGPT2LMHeadModel\n",
    "import tensorflow.keras as keras\n",
    "import tensorflow as tf"
   ]
  },
  {
   "cell_type": "code",
   "execution_count": 16,
   "id": "active-transaction",
   "metadata": {
    "execution": {
     "iopub.execute_input": "2021-03-16T06:01:31.261350Z",
     "iopub.status.busy": "2021-03-16T06:01:31.260979Z",
     "iopub.status.idle": "2021-03-16T06:01:31.337728Z",
     "shell.execute_reply": "2021-03-16T06:01:31.337383Z"
    },
    "papermill": {
     "duration": 0.095393,
     "end_time": "2021-03-16T06:01:31.337809",
     "exception": false,
     "start_time": "2021-03-16T06:01:31.242416",
     "status": "completed"
    },
    "tags": []
   },
   "outputs": [],
   "source": [
    "model = TFGPT2LMHeadModel(model_config)"
   ]
  },
  {
   "cell_type": "markdown",
   "id": "presidential-arrangement",
   "metadata": {
    "papermill": {
     "duration": 0.016284,
     "end_time": "2021-03-16T06:01:31.370586",
     "exception": false,
     "start_time": "2021-03-16T06:01:31.354302",
     "status": "completed"
    },
    "tags": []
   },
   "source": [
    "## Prepare Model"
   ]
  },
  {
   "cell_type": "code",
   "execution_count": 17,
   "id": "impossible-procurement",
   "metadata": {
    "execution": {
     "iopub.execute_input": "2021-03-16T06:01:31.408875Z",
     "iopub.status.busy": "2021-03-16T06:01:31.408493Z",
     "iopub.status.idle": "2021-03-16T06:01:31.410267Z",
     "shell.execute_reply": "2021-03-16T06:01:31.409895Z"
    },
    "papermill": {
     "duration": 0.023335,
     "end_time": "2021-03-16T06:01:31.410340",
     "exception": false,
     "start_time": "2021-03-16T06:01:31.387005",
     "status": "completed"
    },
    "tags": []
   },
   "outputs": [],
   "source": [
    "from tfdlg.losses import PaddingLoss\n",
    "from tfdlg.schedules import WarmupLinearDecay\n",
    "import tensorflow.keras as keras\n",
    "\n",
    "\n",
    "def train(\n",
    "    _model,\n",
    "    _train_dataset,\n",
    "    _valid_dataset,\n",
    "    _epochs,\n",
    "    _warmup_steps,\n",
    "    _num_train_steps,\n",
    "    _max_learning_rate,\n",
    "    _clipnorm,\n",
    "    _tensorboard_dir\n",
    "):\n",
    "    schedule = WarmupLinearDecay(\n",
    "        max_learning_rate=_max_learning_rate,\n",
    "        warmup_steps=_warmup_steps,\n",
    "        training_steps=_num_train_steps*_epochs\n",
    "    )\n",
    "    optimizer = keras.optimizers.Adam(\n",
    "        schedule,\n",
    "        beta_1=0.9,\n",
    "        beta_2=0.999,\n",
    "        epsilon=1e-8,\n",
    "        clipnorm=_clipnorm\n",
    "    )\n",
    "    _model.compile(\n",
    "        # Ignore the second output for LM logits\n",
    "        loss=(PaddingLoss(), None),\n",
    "        optimizer=optimizer\n",
    "    )\n",
    "\n",
    "    history = _model.fit(\n",
    "        _train_dataset,\n",
    "        validation_data=_valid_dataset,\n",
    "        epochs=_epochs,\n",
    "        callbacks=[\n",
    "            keras.callbacks.EarlyStopping(patience=1, restore_best_weights=True),\n",
    "            keras.callbacks.TensorBoard(\n",
    "                log_dir=tensorboard_dir,\n",
    "                update_freq=100,\n",
    "                profile_batch=0,\n",
    "            )\n",
    "        ],\n",
    "        verbose=2,\n",
    "    )\n"
   ]
  },
  {
   "cell_type": "code",
   "execution_count": 18,
   "id": "plain-antigua",
   "metadata": {
    "execution": {
     "iopub.execute_input": "2021-03-16T06:01:31.450248Z",
     "iopub.status.busy": "2021-03-16T06:01:31.449876Z",
     "iopub.status.idle": "2021-03-25T19:57:36.900012Z",
     "shell.execute_reply": "2021-03-25T19:57:36.899695Z"
    },
    "papermill": {
     "duration": 827765.473294,
     "end_time": "2021-03-25T19:57:36.900100",
     "exception": false,
     "start_time": "2021-03-16T06:01:31.426806",
     "status": "completed"
    },
    "tags": []
   },
   "outputs": [
    {
     "name": "stdout",
     "output_type": "stream",
     "text": [
      "Epoch 1/10\n",
      "WARNING:tensorflow:The parameters `output_attentions`, `output_hidden_states` and `use_cache` cannot be updated when calling a model.They have to be set to True/False in the config object (i.e.: `config=XConfig.from_pretrained('name', output_attentions=True)`).WARNING:tensorflow:AutoGraph could not transform <bound method Socket.send of <zmq.sugar.socket.Socket object at 0x7fbb4695d180>> and will run it as-is.\n",
      "Please report this to the TensorFlow team. When filing the bug, set the verbosity to 10 (on Linux, `export AUTOGRAPH_VERBOSITY=10`) and attach the full output.\n",
      "Cause: <cyfunction Socket.send at 0x7fbb447f41d8> is not a module, class, method, function, traceback, frame, or code object\n",
      "To silence this warning, decorate the function with @tf.autograph.experimental.do_not_convert\n",
      "WARNING: AutoGraph could not transform <bound method Socket.send of <zmq.sugar.socket.Socket object at 0x7fbb4695d180>> and will run it as-is.\n",
      "Please report this to the TensorFlow team. When filing the bug, set the verbosity to 10 (on Linux, `export AUTOGRAPH_VERBOSITY=10`) and attach the full output.\n",
      "Cause: <cyfunction Socket.send at 0x7fbb447f41d8> is not a module, class, method, function, traceback, frame, or code object\n",
      "To silence this warning, decorate the function with @tf.autograph.experimental.do_not_convert\n",
      "\n",
      "WARNING:tensorflow:The parameter `return_dict` cannot be set in graph mode and will always be set to `True`.\n",
      "WARNING:tensorflow:The parameters `output_attentions`, `output_hidden_states` and `use_cache` cannot be updated when calling a model.They have to be set to True/False in the config object (i.e.: `config=XConfig.from_pretrained('name', output_attentions=True)`).\n",
      "WARNING:tensorflow:The parameter `return_dict` cannot be set in graph mode and will always be set to `True`.\n",
      "WARNING:tensorflow:The parameters `output_attentions`, `output_hidden_states` and `use_cache` cannot be updated when calling a model.They have to be set to True/False in the config object (i.e.: `config=XConfig.from_pretrained('name', output_attentions=True)`).\n",
      "WARNING:tensorflow:The parameter `return_dict` cannot be set in graph mode and will always be set to `True`.\n",
      "254256/254256 - 83092s - loss: 4.1398 - logits_loss: 4.1398 - val_loss: 4.0160 - val_logits_loss: 4.0160\n",
      "Epoch 2/10\n",
      "254256/254256 - 82693s - loss: 3.5959 - logits_loss: 3.5959 - val_loss: 3.8376 - val_logits_loss: 3.8376\n",
      "Epoch 3/10\n",
      "254256/254256 - 82724s - loss: 3.4767 - logits_loss: 3.4767 - val_loss: 3.7474 - val_logits_loss: 3.7474\n",
      "Epoch 4/10\n",
      "254256/254256 - 82896s - loss: 3.4099 - logits_loss: 3.4099 - val_loss: 3.6900 - val_logits_loss: 3.6900\n",
      "Epoch 5/10\n",
      "254256/254256 - 82560s - loss: 3.3638 - logits_loss: 3.3638 - val_loss: 3.6519 - val_logits_loss: 3.6519\n",
      "Epoch 6/10\n",
      "254256/254256 - 82913s - loss: 3.3284 - logits_loss: 3.3284 - val_loss: 3.6178 - val_logits_loss: 3.6178\n",
      "Epoch 7/10\n",
      "254256/254256 - 82822s - loss: 3.2991 - logits_loss: 3.2991 - val_loss: 3.5883 - val_logits_loss: 3.5883\n",
      "Epoch 8/10\n",
      "254256/254256 - 82791s - loss: 3.2740 - logits_loss: 3.2740 - val_loss: 3.5586 - val_logits_loss: 3.5586\n",
      "Epoch 9/10\n",
      "254256/254256 - 82586s - loss: 3.2519 - logits_loss: 3.2519 - val_loss: 3.5316 - val_logits_loss: 3.5316\n",
      "Epoch 10/10\n",
      "254256/254256 - 82687s - loss: 3.2349 - logits_loss: 3.2349 - val_loss: 3.4968 - val_logits_loss: 3.4968\n"
     ]
    }
   ],
   "source": [
    "train(\n",
    "    model,\n",
    "    train_dataset,\n",
    "    valid_dataset,\n",
    "    epochs,\n",
    "    warmup_steps,\n",
    "    num_train_steps,\n",
    "    max_learning_rate,\n",
    "    clipnorm,\n",
    "    tensorboard_dir\n",
    ")"
   ]
  },
  {
   "cell_type": "code",
   "execution_count": 19,
   "id": "fourth-pharmacy",
   "metadata": {
    "execution": {
     "iopub.execute_input": "2021-03-25T19:57:36.950661Z",
     "iopub.status.busy": "2021-03-25T19:57:36.950285Z",
     "iopub.status.idle": "2021-03-25T19:57:36.952804Z",
     "shell.execute_reply": "2021-03-25T19:57:36.952450Z"
    },
    "papermill": {
     "duration": 0.031249,
     "end_time": "2021-03-25T19:57:36.952876",
     "exception": false,
     "start_time": "2021-03-25T19:57:36.921627",
     "status": "completed"
    },
    "tags": []
   },
   "outputs": [
    {
     "name": "stdout",
     "output_type": "stream",
     "text": [
      "Model: \"tfgp_t2lm_head_model\"\n",
      "_________________________________________________________________\n",
      "Layer (type)                 Output Shape              Param #   \n",
      "=================================================================\n",
      "transformer (TFGPT2MainLayer multiple                  110418432 \n",
      "=================================================================\n",
      "Total params: 110,418,432\n",
      "Trainable params: 110,418,432\n",
      "Non-trainable params: 0\n",
      "_________________________________________________________________\n"
     ]
    }
   ],
   "source": [
    "model.summary()"
   ]
  },
  {
   "cell_type": "code",
   "execution_count": 20,
   "id": "constitutional-teaching",
   "metadata": {
    "execution": {
     "iopub.execute_input": "2021-03-25T19:57:36.998490Z",
     "iopub.status.busy": "2021-03-25T19:57:36.998132Z",
     "iopub.status.idle": "2021-03-25T19:57:37.290552Z",
     "shell.execute_reply": "2021-03-25T19:57:37.290173Z"
    },
    "papermill": {
     "duration": 0.316294,
     "end_time": "2021-03-25T19:57:37.290631",
     "exception": false,
     "start_time": "2021-03-25T19:57:36.974337",
     "status": "completed"
    },
    "tags": []
   },
   "outputs": [],
   "source": [
    "model.save_pretrained(model_dir)"
   ]
  }
 ],
 "metadata": {
  "celltoolbar": "Tags",
  "kernelspec": {
   "display_name": "Python 3",
   "language": "python",
   "name": "python3"
  },
  "language_info": {
   "codemirror_mode": {
    "name": "ipython",
    "version": 3
   },
   "file_extension": ".py",
   "mimetype": "text/x-python",
   "name": "python",
   "nbconvert_exporter": "python",
   "pygments_lexer": "ipython3",
   "version": "3.8.6"
  },
  "papermill": {
   "duration": 827872.193736,
   "end_time": "2021-03-25T19:59:16.624710",
   "environment_variables": {},
   "exception": true,
   "input_path": "train_model.ipynb",
   "output_path": "output/train_model.ipynb",
   "parameters": {
    "epochs": 1,
    "train_file": "wikitext-2-raw/wiki.train.raw",
    "valid_file": "wikitext-2-raw/wiki.valid.raw"
   },
   "start_time": "2021-03-16T06:01:24.430974",
   "version": "2.1.3"
  }
 },
 "nbformat": 4,
 "nbformat_minor": 5
}
