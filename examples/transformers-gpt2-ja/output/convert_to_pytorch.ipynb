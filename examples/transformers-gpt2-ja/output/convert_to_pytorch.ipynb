{
 "cells": [
  {
   "cell_type": "markdown",
   "id": "brutal-mobile",
   "metadata": {
    "papermill": {
     "duration": 0.029829,
     "end_time": "2021-03-27T00:12:10.471993",
     "exception": false,
     "start_time": "2021-03-27T00:12:10.442164",
     "status": "completed"
    },
    "tags": []
   },
   "source": [
    "## Parameter"
   ]
  },
  {
   "cell_type": "code",
   "execution_count": 1,
   "id": "honest-praise",
   "metadata": {
    "execution": {
     "iopub.execute_input": "2021-03-27T00:12:10.603755Z",
     "iopub.status.busy": "2021-03-27T00:12:10.566528Z",
     "iopub.status.idle": "2021-03-27T00:12:10.632540Z",
     "shell.execute_reply": "2021-03-27T00:12:10.621191Z"
    },
    "papermill": {
     "duration": 0.114315,
     "end_time": "2021-03-27T00:12:10.640501",
     "exception": false,
     "start_time": "2021-03-27T00:12:10.526186",
     "status": "completed"
    },
    "tags": [
     "parameters"
    ]
   },
   "outputs": [],
   "source": [
    "# These parameters can be injected from Papermill\n",
    "model_dir = \"output/model\""
   ]
  },
  {
   "cell_type": "code",
   "execution_count": 2,
   "id": "moderate-string",
   "metadata": {
    "execution": {
     "iopub.execute_input": "2021-03-27T00:12:10.707698Z",
     "iopub.status.busy": "2021-03-27T00:12:10.703574Z",
     "iopub.status.idle": "2021-03-27T00:12:17.526068Z",
     "shell.execute_reply": "2021-03-27T00:12:17.524745Z"
    },
    "papermill": {
     "duration": 6.847862,
     "end_time": "2021-03-27T00:12:17.526380",
     "exception": false,
     "start_time": "2021-03-27T00:12:10.678518",
     "status": "completed"
    },
    "tags": []
   },
   "outputs": [
    {
     "name": "stdout",
     "output_type": "stream",
     "text": [
      "Requirement already satisfied: transformers==4.3.3 in /usr/local/lib/python3.8/site-packages (4.3.3)\r\n",
      "Requirement already satisfied: torch==1.8.0 in /usr/local/lib/python3.8/site-packages (1.8.0)\r\n"
     ]
    },
    {
     "name": "stdout",
     "output_type": "stream",
     "text": [
      "Requirement already satisfied: numpy in /usr/local/lib/python3.8/site-packages (from torch==1.8.0) (1.19.5)\r\n",
      "Requirement already satisfied: typing-extensions in /usr/local/lib/python3.8/site-packages (from torch==1.8.0) (3.7.4.3)\r\n"
     ]
    },
    {
     "name": "stdout",
     "output_type": "stream",
     "text": [
      "Requirement already satisfied: filelock in /usr/local/lib/python3.8/site-packages (from transformers==4.3.3) (3.0.12)\r\n",
      "Requirement already satisfied: requests in /usr/local/lib/python3.8/site-packages (from transformers==4.3.3) (2.25.1)\r\n",
      "Requirement already satisfied: tokenizers<0.11,>=0.10.1 in /usr/local/lib/python3.8/site-packages (from transformers==4.3.3) (0.10.1)\r\n",
      "Requirement already satisfied: tqdm>=4.27 in /usr/local/lib/python3.8/site-packages (from transformers==4.3.3) (4.59.0)\r\n",
      "Requirement already satisfied: regex!=2019.12.17 in /usr/local/lib/python3.8/site-packages (from transformers==4.3.3) (2021.3.17)\r\n",
      "Requirement already satisfied: sacremoses in /usr/local/lib/python3.8/site-packages (from transformers==4.3.3) (0.0.43)\r\n",
      "Requirement already satisfied: packaging in /usr/local/lib/python3.8/site-packages (from transformers==4.3.3) (20.9)\r\n",
      "Requirement already satisfied: pyparsing>=2.0.2 in /usr/local/lib/python3.8/site-packages (from packaging->transformers==4.3.3) (2.4.7)\r\n"
     ]
    },
    {
     "name": "stdout",
     "output_type": "stream",
     "text": [
      "Requirement already satisfied: chardet<5,>=3.0.2 in /usr/local/lib/python3.8/site-packages (from requests->transformers==4.3.3) (4.0.0)\r\n",
      "Requirement already satisfied: idna<3,>=2.5 in /usr/local/lib/python3.8/site-packages (from requests->transformers==4.3.3) (2.10)\r\n",
      "Requirement already satisfied: urllib3<1.27,>=1.21.1 in /usr/local/lib/python3.8/site-packages (from requests->transformers==4.3.3) (1.26.4)\r\n",
      "Requirement already satisfied: certifi>=2017.4.17 in /usr/local/lib/python3.8/site-packages (from requests->transformers==4.3.3) (2020.12.5)\r\n",
      "Requirement already satisfied: joblib in /usr/local/lib/python3.8/site-packages (from sacremoses->transformers==4.3.3) (1.0.1)\r\n",
      "Requirement already satisfied: click in /usr/local/lib/python3.8/site-packages (from sacremoses->transformers==4.3.3) (7.1.2)\r\n",
      "Requirement already satisfied: six in /usr/local/lib/python3.8/site-packages (from sacremoses->transformers==4.3.3) (1.15.0)\r\n"
     ]
    },
    {
     "name": "stdout",
     "output_type": "stream",
     "text": [
      "\u001b[33mWARNING: You are using pip version 20.3.3; however, version 21.0.1 is available.\r\n",
      "You should consider upgrading via the '/usr/local/bin/python -m pip install --upgrade pip' command.\u001b[0m\r\n"
     ]
    },
    {
     "name": "stdout",
     "output_type": "stream",
     "text": [
      "Collecting git+https://github.com/colorfulscoop/tfdlg@v0.2.0\r\n",
      "  Cloning https://github.com/colorfulscoop/tfdlg (to revision v0.2.0) to /tmp/pip-req-build-za997d6k\r\n"
     ]
    },
    {
     "name": "stdout",
     "output_type": "stream",
     "text": [
      "Requirement already satisfied: tensorflow<3,>=2.4 in /usr/local/lib/python3.8/site-packages (from tfdlg==0.1.0) (2.4.1)\r\n",
      "Requirement already satisfied: sentencepiece==0.1.91 in /usr/local/lib/python3.8/site-packages (from tfdlg==0.1.0) (0.1.91)\r\n",
      "Requirement already satisfied: scipy<2.0,>=1.5.0 in /usr/local/lib/python3.8/site-packages (from tfdlg==0.1.0) (1.6.2)\r\n",
      "Requirement already satisfied: pydantic<2.0,>=1.6.1 in /usr/local/lib/python3.8/site-packages (from tfdlg==0.1.0) (1.8.1)\r\n",
      "Requirement already satisfied: typing-extensions>=3.7.4.3 in /usr/local/lib/python3.8/site-packages (from pydantic<2.0,>=1.6.1->tfdlg==0.1.0) (3.7.4.3)\r\n",
      "Requirement already satisfied: numpy<1.23.0,>=1.16.5 in /usr/local/lib/python3.8/site-packages (from scipy<2.0,>=1.5.0->tfdlg==0.1.0) (1.19.5)\r\n"
     ]
    },
    {
     "name": "stdout",
     "output_type": "stream",
     "text": [
      "Requirement already satisfied: keras-preprocessing~=1.1.2 in /usr/local/lib/python3.8/site-packages (from tensorflow<3,>=2.4->tfdlg==0.1.0) (1.1.2)\r\n",
      "Requirement already satisfied: gast==0.3.3 in /usr/local/lib/python3.8/site-packages (from tensorflow<3,>=2.4->tfdlg==0.1.0) (0.3.3)\r\n",
      "Requirement already satisfied: grpcio~=1.32.0 in /usr/local/lib/python3.8/site-packages (from tensorflow<3,>=2.4->tfdlg==0.1.0) (1.32.0)\r\n",
      "Requirement already satisfied: flatbuffers~=1.12.0 in /usr/local/lib/python3.8/site-packages (from tensorflow<3,>=2.4->tfdlg==0.1.0) (1.12)\r\n",
      "Requirement already satisfied: absl-py~=0.10 in /usr/local/lib/python3.8/site-packages (from tensorflow<3,>=2.4->tfdlg==0.1.0) (0.12.0)\r\n",
      "Requirement already satisfied: wrapt~=1.12.1 in /usr/local/lib/python3.8/site-packages (from tensorflow<3,>=2.4->tfdlg==0.1.0) (1.12.1)\r\n",
      "Requirement already satisfied: termcolor~=1.1.0 in /usr/local/lib/python3.8/site-packages (from tensorflow<3,>=2.4->tfdlg==0.1.0) (1.1.0)\r\n",
      "Requirement already satisfied: opt-einsum~=3.3.0 in /usr/local/lib/python3.8/site-packages (from tensorflow<3,>=2.4->tfdlg==0.1.0) (3.3.0)\r\n",
      "Requirement already satisfied: tensorflow-estimator<2.5.0,>=2.4.0 in /usr/local/lib/python3.8/site-packages (from tensorflow<3,>=2.4->tfdlg==0.1.0) (2.4.0)\r\n",
      "Requirement already satisfied: protobuf>=3.9.2 in /usr/local/lib/python3.8/site-packages (from tensorflow<3,>=2.4->tfdlg==0.1.0) (3.15.6)\r\n",
      "Requirement already satisfied: six~=1.15.0 in /usr/local/lib/python3.8/site-packages (from tensorflow<3,>=2.4->tfdlg==0.1.0) (1.15.0)\r\n",
      "Requirement already satisfied: wheel~=0.35 in /usr/local/lib/python3.8/site-packages (from tensorflow<3,>=2.4->tfdlg==0.1.0) (0.36.2)\r\n",
      "Requirement already satisfied: tensorboard~=2.4 in /usr/local/lib/python3.8/site-packages (from tensorflow<3,>=2.4->tfdlg==0.1.0) (2.4.1)\r\n",
      "Requirement already satisfied: astunparse~=1.6.3 in /usr/local/lib/python3.8/site-packages (from tensorflow<3,>=2.4->tfdlg==0.1.0) (1.6.3)\r\n",
      "Requirement already satisfied: google-pasta~=0.2 in /usr/local/lib/python3.8/site-packages (from tensorflow<3,>=2.4->tfdlg==0.1.0) (0.2.0)\r\n",
      "Requirement already satisfied: h5py~=2.10.0 in /usr/local/lib/python3.8/site-packages (from tensorflow<3,>=2.4->tfdlg==0.1.0) (2.10.0)\r\n"
     ]
    },
    {
     "name": "stdout",
     "output_type": "stream",
     "text": [
      "Requirement already satisfied: werkzeug>=0.11.15 in /usr/local/lib/python3.8/site-packages (from tensorboard~=2.4->tensorflow<3,>=2.4->tfdlg==0.1.0) (1.0.1)\r\n",
      "Requirement already satisfied: tensorboard-plugin-wit>=1.6.0 in /usr/local/lib/python3.8/site-packages (from tensorboard~=2.4->tensorflow<3,>=2.4->tfdlg==0.1.0) (1.8.0)\r\n",
      "Requirement already satisfied: google-auth-oauthlib<0.5,>=0.4.1 in /usr/local/lib/python3.8/site-packages (from tensorboard~=2.4->tensorflow<3,>=2.4->tfdlg==0.1.0) (0.4.3)\r\n",
      "Requirement already satisfied: requests<3,>=2.21.0 in /usr/local/lib/python3.8/site-packages (from tensorboard~=2.4->tensorflow<3,>=2.4->tfdlg==0.1.0) (2.25.1)\r\n",
      "Requirement already satisfied: setuptools>=41.0.0 in /usr/local/lib/python3.8/site-packages (from tensorboard~=2.4->tensorflow<3,>=2.4->tfdlg==0.1.0) (51.0.0)\r\n",
      "Requirement already satisfied: markdown>=2.6.8 in /usr/local/lib/python3.8/site-packages (from tensorboard~=2.4->tensorflow<3,>=2.4->tfdlg==0.1.0) (3.3.4)\r\n",
      "Requirement already satisfied: google-auth<2,>=1.6.3 in /usr/local/lib/python3.8/site-packages (from tensorboard~=2.4->tensorflow<3,>=2.4->tfdlg==0.1.0) (1.28.0)\r\n",
      "Requirement already satisfied: rsa<5,>=3.1.4 in /usr/local/lib/python3.8/site-packages (from google-auth<2,>=1.6.3->tensorboard~=2.4->tensorflow<3,>=2.4->tfdlg==0.1.0) (4.7.2)\r\n"
     ]
    },
    {
     "name": "stdout",
     "output_type": "stream",
     "text": [
      "Requirement already satisfied: cachetools<5.0,>=2.0.0 in /usr/local/lib/python3.8/site-packages (from google-auth<2,>=1.6.3->tensorboard~=2.4->tensorflow<3,>=2.4->tfdlg==0.1.0) (4.2.1)\r\n",
      "Requirement already satisfied: pyasn1-modules>=0.2.1 in /usr/local/lib/python3.8/site-packages (from google-auth<2,>=1.6.3->tensorboard~=2.4->tensorflow<3,>=2.4->tfdlg==0.1.0) (0.2.8)\r\n",
      "Requirement already satisfied: requests-oauthlib>=0.7.0 in /usr/local/lib/python3.8/site-packages (from google-auth-oauthlib<0.5,>=0.4.1->tensorboard~=2.4->tensorflow<3,>=2.4->tfdlg==0.1.0) (1.3.0)\r\n",
      "Requirement already satisfied: pyasn1<0.5.0,>=0.4.6 in /usr/local/lib/python3.8/site-packages (from pyasn1-modules>=0.2.1->google-auth<2,>=1.6.3->tensorboard~=2.4->tensorflow<3,>=2.4->tfdlg==0.1.0) (0.4.8)\r\n",
      "Requirement already satisfied: urllib3<1.27,>=1.21.1 in /usr/local/lib/python3.8/site-packages (from requests<3,>=2.21.0->tensorboard~=2.4->tensorflow<3,>=2.4->tfdlg==0.1.0) (1.26.4)\r\n",
      "Requirement already satisfied: chardet<5,>=3.0.2 in /usr/local/lib/python3.8/site-packages (from requests<3,>=2.21.0->tensorboard~=2.4->tensorflow<3,>=2.4->tfdlg==0.1.0) (4.0.0)\r\n",
      "Requirement already satisfied: idna<3,>=2.5 in /usr/local/lib/python3.8/site-packages (from requests<3,>=2.21.0->tensorboard~=2.4->tensorflow<3,>=2.4->tfdlg==0.1.0) (2.10)\r\n",
      "Requirement already satisfied: certifi>=2017.4.17 in /usr/local/lib/python3.8/site-packages (from requests<3,>=2.21.0->tensorboard~=2.4->tensorflow<3,>=2.4->tfdlg==0.1.0) (2020.12.5)\r\n"
     ]
    },
    {
     "name": "stdout",
     "output_type": "stream",
     "text": [
      "Requirement already satisfied: oauthlib>=3.0.0 in /usr/local/lib/python3.8/site-packages (from requests-oauthlib>=0.7.0->google-auth-oauthlib<0.5,>=0.4.1->tensorboard~=2.4->tensorflow<3,>=2.4->tfdlg==0.1.0) (3.1.0)\r\n"
     ]
    },
    {
     "name": "stdout",
     "output_type": "stream",
     "text": [
      "\u001b[33mWARNING: You are using pip version 20.3.3; however, version 21.0.1 is available.\r\n",
      "You should consider upgrading via the '/usr/local/bin/python -m pip install --upgrade pip' command.\u001b[0m\r\n"
     ]
    }
   ],
   "source": [
    "! pip install transformers==4.3.3 torch==1.8.0\n",
    "! pip install git+https://github.com/colorfulscoop/tfdlg@v0.2.0"
   ]
  },
  {
   "cell_type": "markdown",
   "id": "satisfied-initial",
   "metadata": {
    "papermill": {
     "duration": 0.044401,
     "end_time": "2021-03-27T00:12:17.594653",
     "exception": false,
     "start_time": "2021-03-27T00:12:17.550252",
     "status": "completed"
    },
    "tags": []
   },
   "source": [
    "## Save model as PyTorch model"
   ]
  },
  {
   "cell_type": "code",
   "execution_count": 3,
   "id": "expressed-wales",
   "metadata": {
    "execution": {
     "iopub.execute_input": "2021-03-27T00:12:17.720210Z",
     "iopub.status.busy": "2021-03-27T00:12:17.719076Z",
     "iopub.status.idle": "2021-03-27T00:12:18.211261Z",
     "shell.execute_reply": "2021-03-27T00:12:18.212074Z"
    },
    "papermill": {
     "duration": 0.561932,
     "end_time": "2021-03-27T00:12:18.212543",
     "exception": false,
     "start_time": "2021-03-27T00:12:17.650611",
     "status": "completed"
    },
    "tags": []
   },
   "outputs": [],
   "source": [
    "import transformers"
   ]
  },
  {
   "cell_type": "code",
   "execution_count": 4,
   "id": "periodic-howard",
   "metadata": {
    "execution": {
     "iopub.execute_input": "2021-03-27T00:12:18.274239Z",
     "iopub.status.busy": "2021-03-27T00:12:18.272268Z",
     "iopub.status.idle": "2021-03-27T00:12:39.916704Z",
     "shell.execute_reply": "2021-03-27T00:12:39.917837Z"
    },
    "papermill": {
     "duration": 21.686168,
     "end_time": "2021-03-27T00:12:39.918290",
     "exception": false,
     "start_time": "2021-03-27T00:12:18.232122",
     "status": "completed"
    },
    "tags": []
   },
   "outputs": [
    {
     "name": "stderr",
     "output_type": "stream",
     "text": [
      "All TF 2.0 model weights were used when initializing GPT2LMHeadModel.\n",
      "\n"
     ]
    },
    {
     "name": "stderr",
     "output_type": "stream",
     "text": [
      "Some weights of GPT2LMHeadModel were not initialized from the TF 2.0 model and are newly initialized: ['transformer.h.0.attn.bias', 'transformer.h.0.attn.masked_bias', 'transformer.h.1.attn.bias', 'transformer.h.1.attn.masked_bias', 'transformer.h.2.attn.bias', 'transformer.h.2.attn.masked_bias', 'transformer.h.3.attn.bias', 'transformer.h.3.attn.masked_bias', 'transformer.h.4.attn.bias', 'transformer.h.4.attn.masked_bias', 'transformer.h.5.attn.bias', 'transformer.h.5.attn.masked_bias', 'transformer.h.6.attn.bias', 'transformer.h.6.attn.masked_bias', 'transformer.h.7.attn.bias', 'transformer.h.7.attn.masked_bias', 'transformer.h.8.attn.bias', 'transformer.h.8.attn.masked_bias', 'transformer.h.9.attn.bias', 'transformer.h.9.attn.masked_bias', 'transformer.h.10.attn.bias', 'transformer.h.10.attn.masked_bias', 'transformer.h.11.attn.bias', 'transformer.h.11.attn.masked_bias', 'lm_head.weight']\n",
      "You should probably TRAIN this model on a down-stream task to be able to use it for predictions and inference.\n"
     ]
    }
   ],
   "source": [
    "pt_model = transformers.GPT2LMHeadModel.from_pretrained(model_dir, from_tf=True)"
   ]
  },
  {
   "cell_type": "code",
   "execution_count": 5,
   "id": "legendary-waste",
   "metadata": {
    "execution": {
     "iopub.execute_input": "2021-03-27T00:12:39.998938Z",
     "iopub.status.busy": "2021-03-27T00:12:39.995255Z",
     "iopub.status.idle": "2021-03-27T00:12:48.918568Z",
     "shell.execute_reply": "2021-03-27T00:12:48.919311Z"
    },
    "papermill": {
     "duration": 8.978338,
     "end_time": "2021-03-27T00:12:48.919605",
     "exception": false,
     "start_time": "2021-03-27T00:12:39.941267",
     "status": "completed"
    },
    "tags": []
   },
   "outputs": [],
   "source": [
    "pt_model.save_pretrained(model_dir)"
   ]
  }
 ],
 "metadata": {
  "celltoolbar": "Tags",
  "kernelspec": {
   "display_name": "Python 3",
   "language": "python",
   "name": "python3"
  },
  "language_info": {
   "codemirror_mode": {
    "name": "ipython",
    "version": 3
   },
   "file_extension": ".py",
   "mimetype": "text/x-python",
   "name": "python",
   "nbconvert_exporter": "python",
   "pygments_lexer": "ipython3",
   "version": "3.8.6"
  },
  "papermill": {
   "duration": 41.775297,
   "end_time": "2021-03-27T00:12:50.841359",
   "environment_variables": {},
   "exception": null,
   "input_path": "convert_to_pytorch.ipynb",
   "output_path": "output/convert_to_pytorch.ipynb",
   "parameters": {
    "epochs": 1,
    "train_file": "wikitext-2-raw/wiki.train.raw",
    "valid_file": "wikitext-2-raw/wiki.valid.raw"
   },
   "start_time": "2021-03-27T00:12:09.066062",
   "version": "2.1.3"
  }
 },
 "nbformat": 4,
 "nbformat_minor": 5
}