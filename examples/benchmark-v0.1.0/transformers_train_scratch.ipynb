{
 "cells": [
  {
   "cell_type": "markdown",
   "metadata": {
    "papermill": {
     "duration": 0.00713,
     "end_time": "2020-10-31T06:56:15.999962",
     "exception": false,
     "start_time": "2020-10-31T06:56:15.992832",
     "status": "completed"
    },
    "tags": []
   },
   "source": [
    "# Benchmark Transformers GPT2"
   ]
  },
  {
   "cell_type": "code",
   "execution_count": null,
   "metadata": {
    "execution": {
     "iopub.execute_input": "2020-10-31T06:56:16.009150Z",
     "iopub.status.busy": "2020-10-31T06:56:16.008797Z",
     "iopub.status.idle": "2020-10-31T06:56:16.010777Z",
     "shell.execute_reply": "2020-10-31T06:56:16.010416Z"
    },
    "papermill": {
     "duration": 0.00766,
     "end_time": "2020-10-31T06:56:16.010858",
     "exception": false,
     "start_time": "2020-10-31T06:56:16.003198",
     "status": "completed"
    },
    "tags": [
     "parameters"
    ]
   },
   "outputs": [],
   "source": [
    "# These parameters can be injected from Papermill\n",
    "train_file = \"wikitext-103-raw/wiki.train.raw\"\n",
    "valid_file = \"wikitext-103-raw/wiki.valid.raw\"\n",
    "epochs = 10\n",
    "batch_size = 2\n",
    "learning_rate = 1e-4\n",
    "warmup_steps = 0\n",
    "output_dir = \"transformers_output\""
   ]
  },
  {
   "cell_type": "code",
   "execution_count": null,
   "metadata": {
    "execution": {
     "iopub.execute_input": "2020-10-31T06:56:16.019126Z",
     "iopub.status.busy": "2020-10-31T06:56:16.018781Z",
     "iopub.status.idle": "2020-10-31T06:56:16.020504Z",
     "shell.execute_reply": "2020-10-31T06:56:16.020159Z"
    },
    "papermill": {
     "duration": 0.006481,
     "end_time": "2020-10-31T06:56:16.020574",
     "exception": false,
     "start_time": "2020-10-31T06:56:16.014093",
     "status": "completed"
    },
    "tags": [
     "injected-parameters"
    ]
   },
   "outputs": [],
   "source": [
    "# Parameters\n",
    "output_dir = \"transformers_output-lr_e4\"\n"
   ]
  },
  {
   "cell_type": "markdown",
   "metadata": {
    "papermill": {
     "duration": 0.003173,
     "end_time": "2020-10-31T06:56:16.026953",
     "exception": false,
     "start_time": "2020-10-31T06:56:16.023780",
     "status": "completed"
    },
    "tags": []
   },
   "source": [
    "## Install Library"
   ]
  },
  {
   "cell_type": "code",
   "execution_count": null,
   "metadata": {
    "execution": {
     "iopub.execute_input": "2020-10-31T06:56:16.035715Z",
     "iopub.status.busy": "2020-10-31T06:56:16.035373Z",
     "iopub.status.idle": "2020-10-31T06:56:16.892398Z",
     "shell.execute_reply": "2020-10-31T06:56:16.890360Z"
    },
    "papermill": {
     "duration": 0.862691,
     "end_time": "2020-10-31T06:56:16.892819",
     "exception": false,
     "start_time": "2020-10-31T06:56:16.030128",
     "status": "completed"
    },
    "tags": []
   },
   "outputs": [],
   "source": [
    "!pip install transformers==3.4.0"
   ]
  },
  {
   "cell_type": "markdown",
   "metadata": {
    "papermill": {
     "duration": 0.004199,
     "end_time": "2020-10-31T06:56:16.901635",
     "exception": false,
     "start_time": "2020-10-31T06:56:16.897436",
     "status": "completed"
    },
    "tags": []
   },
   "source": [
    "Download training script"
   ]
  },
  {
   "cell_type": "code",
   "execution_count": null,
   "metadata": {
    "execution": {
     "iopub.execute_input": "2020-10-31T06:56:16.913015Z",
     "iopub.status.busy": "2020-10-31T06:56:16.912649Z",
     "iopub.status.idle": "2020-10-31T06:56:16.975739Z",
     "shell.execute_reply": "2020-10-31T06:56:16.974965Z"
    },
    "papermill": {
     "duration": 0.070219,
     "end_time": "2020-10-31T06:56:16.975904",
     "exception": false,
     "start_time": "2020-10-31T06:56:16.905685",
     "status": "completed"
    },
    "tags": []
   },
   "outputs": [],
   "source": [
    "import urllib\n",
    "\n",
    "url = \"https://raw.githubusercontent.com/huggingface/transformers/v3.4.0/examples/language-modeling/run_language_modeling.py\"\n",
    "urllib.request.urlretrieve(url, \"run_language_modeling.py\")"
   ]
  },
  {
   "cell_type": "markdown",
   "metadata": {
    "papermill": {
     "duration": 0.008932,
     "end_time": "2020-10-31T06:56:16.993962",
     "exception": false,
     "start_time": "2020-10-31T06:56:16.985030",
     "status": "completed"
    },
    "tags": []
   },
   "source": [
    "## Train model"
   ]
  },
  {
   "cell_type": "code",
   "execution_count": null,
   "metadata": {
    "execution": {
     "iopub.execute_input": "2020-10-31T06:56:17.012921Z",
     "iopub.status.busy": "2020-10-31T06:56:17.011520Z",
     "iopub.status.idle": "2020-11-02T07:26:59.894951Z",
     "shell.execute_reply": "2020-11-02T07:26:59.892857Z"
    },
    "papermill": {
     "duration": 174642.894112,
     "end_time": "2020-11-02T07:26:59.895384",
     "exception": false,
     "start_time": "2020-10-31T06:56:17.001272",
     "status": "completed"
    },
    "tags": []
   },
   "outputs": [],
   "source": [
    "# Train model from scratch\n",
    "!python run_language_modeling.py \\\n",
    "    --output_dir=output \\\n",
    "    --model_type=gpt2 \\\n",
    "    --tokenizer_name=gpt2 \\\n",
    "    --do_train \\\n",
    "    --train_data_file={train_file} \\\n",
    "    --do_eval \\\n",
    "    --eval_data_file={valid_file} \\\n",
    "    --per_device_train_batch_size={batch_size} \\\n",
    "    --num_train_epochs={epochs} \\\n",
    "    --evaluate_during_training \\\n",
    "    --load_best_model_at_end \\\n",
    "    --disable_tqdm=False \\\n",
    "    --warmup_steps={warmup_steps} \\\n",
    "    --output_dir={output_dir} \\\n",
    "    --save_steps=10000 \\\n",
    "    --eval_steps=10000 \\\n",
    "    --learning_rate={learning_rate}"
   ]
  }
 ],
 "metadata": {
  "celltoolbar": "Tags",
  "kernelspec": {
   "display_name": "Python 3",
   "language": "python",
   "name": "python3"
  },
  "language_info": {
   "codemirror_mode": {
    "name": "ipython",
    "version": 3
   },
   "file_extension": ".py",
   "mimetype": "text/x-python",
   "name": "python",
   "nbconvert_exporter": "python",
   "pygments_lexer": "ipython3",
   "version": "3.8.2"
  },
  "papermill": {
   "duration": 174644.817341,
   "end_time": "2020-11-02T07:27:00.319066",
   "environment_variables": {},
   "exception": null,
   "input_path": "transformers_train_scratch.ipynb",
   "output_path": "output/transformers_train_scratch-wikitext_103_raw-lr_e4.ipynb",
   "parameters": {
    "output_dir": "transformers_output-lr_e4"
   },
   "start_time": "2020-10-31T06:56:15.501725",
   "version": "2.1.3"
  }
 },
 "nbformat": 4,
 "nbformat_minor": 4
}
