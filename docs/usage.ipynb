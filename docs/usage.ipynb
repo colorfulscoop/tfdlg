{
 "cells": [
  {
   "cell_type": "markdown",
   "metadata": {},
   "source": [
    "## Usage\n",
    "\n",
    "You can find the same contents of this section as Jupyter Notebook here [docs/usage.ipynb](docs/usage.ipynb)"
   ]
  },
  {
   "cell_type": "markdown",
   "metadata": {},
   "source": [
    "### Model"
   ]
  },
  {
   "cell_type": "markdown",
   "metadata": {},
   "source": [
    "To use models provided in TfChat, you first need to create a config object which handles hyper parameters of the model."
   ]
  },
  {
   "cell_type": "code",
   "execution_count": 1,
   "metadata": {},
   "outputs": [
    {
     "data": {
      "text/plain": [
       "GPT2SmallConfig(num_layers=12, d_model=768, num_heads=12, d_ff=3072, vocab_size=50257, context_size=1024, attention_dropout_rate=0.1, residual_dropout_rate=0.1, embedding_dropout_rate=0.1, epsilon=1e-06)"
      ]
     },
     "execution_count": 1,
     "metadata": {},
     "output_type": "execute_result"
    }
   ],
   "source": [
    "from tfchat.configs import GPT2SmallConfig\n",
    "config = GPT2SmallConfig()\n",
    "config"
   ]
  },
  {
   "cell_type": "markdown",
   "metadata": {},
   "source": [
    "You can overwrite the hyper parameters if necessary."
   ]
  },
  {
   "cell_type": "code",
   "execution_count": 2,
   "metadata": {},
   "outputs": [
    {
     "data": {
      "text/plain": [
       "GPT2SmallConfig(num_layers=12, d_model=768, num_heads=12, d_ff=3072, vocab_size=10000, context_size=1024, attention_dropout_rate=0.1, residual_dropout_rate=0.1, embedding_dropout_rate=0.1, epsilon=1e-06)"
      ]
     },
     "execution_count": 2,
     "metadata": {},
     "output_type": "execute_result"
    }
   ],
   "source": [
    "config.vocab_size = 10000\n",
    "config"
   ]
  },
  {
   "cell_type": "markdown",
   "metadata": {},
   "source": [
    "You can also initialize your own config object from scratch."
   ]
  },
  {
   "cell_type": "code",
   "execution_count": 3,
   "metadata": {},
   "outputs": [
    {
     "data": {
      "text/plain": [
       "Config(num_layers=6, d_model=64, num_heads=1, d_ff=256, vocab_size=100, context_size=64, attention_dropout_rate=0.1, residual_dropout_rate=0.1, embedding_dropout_rate=0.1, epsilon=1e-06)"
      ]
     },
     "execution_count": 3,
     "metadata": {},
     "output_type": "execute_result"
    }
   ],
   "source": [
    "from tfchat.configs import Config\n",
    "\n",
    "config = Config(num_layers=6, d_model=64, num_heads=1, d_ff=256, vocab_size=100,\n",
    "                context_size=64, attention_dropout_rate=0.1, residual_dropout_rate=0.1,\n",
    "                embedding_dropout_rate=0.1, epsilon=1e-06)\n",
    "config"
   ]
  },
  {
   "cell_type": "markdown",
   "metadata": {},
   "source": [
    "Let us use this small config here for running faster in this example."
   ]
  },
  {
   "cell_type": "markdown",
   "metadata": {},
   "source": [
    "After preparing your config object, you can create the model with the config object.\n",
    "TfChat currently provides two types of models which use decoder-side Transformer called Pre-LN and Post-LN Transformer, which are explained in [Xiong+, 2020].\n",
    "Here is an example of using Pre-LN Transformer."
   ]
  },
  {
   "cell_type": "code",
   "execution_count": 4,
   "metadata": {},
   "outputs": [],
   "source": [
    "from tfchat.models import PreLNDecoder\n",
    "model = PreLNDecoder(config)"
   ]
  },
  {
   "cell_type": "markdown",
   "metadata": {},
   "source": [
    "The models can be used in the usual manner of TensorFlow Keras API."
   ]
  },
  {
   "cell_type": "code",
   "execution_count": 5,
   "metadata": {},
   "outputs": [
    {
     "name": "stdout",
     "output_type": "stream",
     "text": [
      "Model: \"pre_ln_decoder\"\n",
      "_________________________________________________________________\n",
      "Layer (type)                 Output Shape              Param #   \n",
      "=================================================================\n",
      "decoder (Decoder)            multiple                  312804    \n",
      "=================================================================\n",
      "Total params: 312,804\n",
      "Trainable params: 312,804\n",
      "Non-trainable params: 0\n",
      "_________________________________________________________________\n"
     ]
    }
   ],
   "source": [
    "import tensorflow.keras as keras\n",
    "model.compile(loss=keras.losses.SparseCategoricalCrossentropy(from_logits=True),\n",
    "              optimizer=keras.optimizers.Adam())\n",
    "model.build(input_shape=(None, config.context_size))\n",
    "model.summary()"
   ]
  },
  {
   "cell_type": "markdown",
   "metadata": {},
   "source": [
    "To train the models, you need to provide the data. The data consists of several samples, and each sample is a array of ids with `(config.context_size, )` shape.\n",
    "\n",
    "For example, assume that context size = 3.\n",
    "When a sentence \"Nice to meet you\" can be encoded as `[3, 4, 5, 6]`. Then the sample for input is `[3, 4, 5]` and the target label is `[4, 5, 6]`.\n",
    "\n",
    "In the following example, `contexts` is a dummy data for four encoded sentences. You can substitute your own data there.\n",
    "\n",
    "After preparing data, you can use `fit` method to train your model."
   ]
  },
  {
   "cell_type": "code",
   "execution_count": 6,
   "metadata": {},
   "outputs": [
    {
     "name": "stdout",
     "output_type": "stream",
     "text": [
      "2/2 [==============================] - 0s 21ms/step - loss: 5.0351\n"
     ]
    }
   ],
   "source": [
    "import numpy as np\n",
    "contexts = np.ones((4, config.context_size+1), dtype=np.int32)  # This is dummy data. Replace with your data\n",
    "train_X = contexts[:,:-1]\n",
    "train_y = contexts[:,1:]\n",
    "history = model.fit(train_X, train_y, batch_size=2)"
   ]
  },
  {
   "cell_type": "markdown",
   "metadata": {},
   "source": [
    "Finally, let us generate outputs from your inputs!\n",
    "`TopKTopPGenerator` allows you to generate outputs from inputs with Top-p (Nucleus) Sampling introduced in [Holtzman+, 2019]."
   ]
  },
  {
   "cell_type": "code",
   "execution_count": 12,
   "metadata": {},
   "outputs": [
    {
     "data": {
      "text/plain": [
       "array([[1, 1, 1, 1, 1, 1, 1, 1]])"
      ]
     },
     "execution_count": 12,
     "metadata": {},
     "output_type": "execute_result"
    }
   ],
   "source": [
    "from tfchat.generations import TopKTopPGenerator\n",
    "gen = TopKTopPGenerator(model=model, max_len=3)\n",
    "inputs = np.array([[1, 1, 1, 1, 1]], dtype=np.int32)\n",
    "gen.generate(inputs)"
   ]
  },
  {
   "cell_type": "markdown",
   "metadata": {},
   "source": [
    "## Utility"
   ]
  },
  {
   "cell_type": "markdown",
   "metadata": {},
   "source": [
    "TfChat provides not only models but also utilities to help users train."
   ]
  },
  {
   "cell_type": "markdown",
   "metadata": {},
   "source": [
    "### Dataset\n",
    "\n",
    "Preparing input data usually takes time. For typical input data, TfChat provides useful classes under `tfchat.data`.\n",
    "\n",
    "One of them is `BlockDataset`.\n",
    "This class is for creating dataset to train a language model with large documents (e.g. Wikipedia)\n",
    "After you prepare the ids of encoded documents, `BlockDataset` split the data into `block_size` and batch them.\n",
    "\n",
    "For example, you have ids as `[0, 1, 2, 3, 4, 5, 6, 7, 8, 9, 10]`. For applying `BlockDataset.build` method with `block_size=5` and `batch_size=2`,\n",
    "then the output is [tensorflow.data.Dataset](https://www.tensorflow.org/api_docs/python/tf/data/Dataset)\n",
    "which consists of tuple `([[0, 1, 2, 3, 4], [5, 6, 7, 8, 9]], [[1, 2, 3, 4, 5], [6, 7, 8, 9, 10]])`.\n",
    "The first item is the input, and the second one is the target label.\n",
    "\n",
    "Let's take a look at this example."
   ]
  },
  {
   "cell_type": "code",
   "execution_count": 13,
   "metadata": {},
   "outputs": [
    {
     "data": {
      "text/plain": [
       "[0, 1, 2, 3, 4, 5, 6, 7, 8, 9, 10]"
      ]
     },
     "execution_count": 13,
     "metadata": {},
     "output_type": "execute_result"
    }
   ],
   "source": [
    "from tfchat.data import BlockDataset\n",
    "dataset = BlockDataset(block_size=5, batch_size=2)\n",
    "ids = list(range(11))\n",
    "ids"
   ]
  },
  {
   "cell_type": "code",
   "execution_count": 14,
   "metadata": {},
   "outputs": [
    {
     "name": "stdout",
     "output_type": "stream",
     "text": [
      "(<tf.Tensor: shape=(2, 5), dtype=int32, numpy=\n",
      "array([[0, 1, 2, 3, 4],\n",
      "       [5, 6, 7, 8, 9]], dtype=int32)>, <tf.Tensor: shape=(2, 5), dtype=int32, numpy=\n",
      "array([[ 1,  2,  3,  4,  5],\n",
      "       [ 6,  7,  8,  9, 10]], dtype=int32)>)\n"
     ]
    }
   ],
   "source": [
    "for item in dataset.build(ids, shuffle=False):\n",
    "    print(item)"
   ]
  },
  {
   "cell_type": "markdown",
   "metadata": {},
   "source": [
    "You can set `shuffle` argument for `build` method to decide shuffle the samples or not.\n",
    "This is useful to build validation data without shuffling as follow."
   ]
  },
  {
   "cell_type": "code",
   "execution_count": 15,
   "metadata": {},
   "outputs": [],
   "source": [
    "train_ids = np.ones(512, dtype=np.int32)  # Prepare token ids for training data\n",
    "valid_ids = np.ones(512, dtype=np.int32)  # Prepare token ids for validation data\n",
    "dataset = BlockDataset(block_size=config.context_size, batch_size=2)\n",
    "\n",
    "train_dataset = dataset.build(train_ids, shuffle=True)\n",
    "valid_dataset = dataset.build(valid_ids, shuffle=False)"
   ]
  },
  {
   "cell_type": "markdown",
   "metadata": {},
   "source": [
    "You can use dataset in the `fit` method in the usual manner."
   ]
  },
  {
   "cell_type": "code",
   "execution_count": 16,
   "metadata": {},
   "outputs": [
    {
     "name": "stdout",
     "output_type": "stream",
     "text": [
      "3/3 [==============================] - 2s 598ms/step - loss: 2.1011e-04 - val_loss: 0.0000e+00\n"
     ]
    }
   ],
   "source": [
    "history = model.fit(train_dataset, validation_data=valid_dataset)"
   ]
  },
  {
   "cell_type": "markdown",
   "metadata": {},
   "source": [
    "### Loss\n",
    "\n",
    "To ignore padding value `0` in the loss, `PaddingLoss` can be used."
   ]
  },
  {
   "cell_type": "code",
   "execution_count": 17,
   "metadata": {},
   "outputs": [],
   "source": [
    "from tfchat.losses import PaddingLoss\n",
    "model.compile(loss=PaddingLoss(), optimizer=keras.optimizers.Adam())"
   ]
  },
  {
   "cell_type": "markdown",
   "metadata": {},
   "source": [
    "### Schedule"
   ]
  },
  {
   "cell_type": "markdown",
   "metadata": {},
   "source": [
    "`TransformerScheduler` is a learning rate scheduler introduced in [Vaswani+, 2017].\n",
    "The scheduler can be used with optimizer."
   ]
  },
  {
   "cell_type": "code",
   "execution_count": 18,
   "metadata": {},
   "outputs": [],
   "source": [
    "from tfchat.optimizers import TransformerScheduler\n",
    "scheduler = TransformerScheduler(d_model=config.d_model, warmup_steps=1000)\n",
    "optimizer = keras.optimizers.Adam(scheduler,\n",
    "                                  beta_1=0.9,\n",
    "                                  beta_2=0.999,\n",
    "                                  epsilon=1e-8,\n",
    "                                  clipnorm=1.0)"
   ]
  },
  {
   "cell_type": "markdown",
   "metadata": {},
   "source": [
    "### Evaluation\n",
    "\n",
    "After finish training your model, use `perplexity` function to evaluate your model."
   ]
  },
  {
   "cell_type": "code",
   "execution_count": 19,
   "metadata": {},
   "outputs": [
    {
     "name": "stdout",
     "output_type": "stream",
     "text": [
      "{'loss': 0.0, 'perplexity': 1.0, 'num_batches': 3, 'num_tokens': 384}\n"
     ]
    },
    {
     "data": {
      "text/plain": [
       "1.0"
      ]
     },
     "execution_count": 19,
     "metadata": {},
     "output_type": "execute_result"
    }
   ],
   "source": [
    "from tfchat.metrics import perplexity\n",
    "perplexity(model, valid_dataset)"
   ]
  }
 ],
 "metadata": {
  "kernelspec": {
   "display_name": "Python 3",
   "language": "python",
   "name": "python3"
  },
  "language_info": {
   "codemirror_mode": {
    "name": "ipython",
    "version": 3
   },
   "file_extension": ".py",
   "mimetype": "text/x-python",
   "name": "python",
   "nbconvert_exporter": "python",
   "pygments_lexer": "ipython3",
   "version": "3.8.2"
  }
 },
 "nbformat": 4,
 "nbformat_minor": 4
}
